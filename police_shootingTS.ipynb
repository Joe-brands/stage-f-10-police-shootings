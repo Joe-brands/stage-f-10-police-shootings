{
  "nbformat": 4,
  "nbformat_minor": 0,
  "metadata": {
    "colab": {
      "name": "police shootingTS.ipynb",
      "provenance": [],
      "collapsed_sections": [],
      "authorship_tag": "ABX9TyO8e7gRE1m6393pmCe1zsyo",
      "include_colab_link": true
    },
    "kernelspec": {
      "name": "python3",
      "display_name": "Python 3"
    }
  },
  "cells": [
    {
      "cell_type": "markdown",
      "metadata": {
        "id": "view-in-github",
        "colab_type": "text"
      },
      "source": [
        "<a href=\"https://colab.research.google.com/github/Joe-brands/stage-f-10-police-shootings/blob/master/police_shootingTS.ipynb\" target=\"_parent\"><img src=\"https://colab.research.google.com/assets/colab-badge.svg\" alt=\"Open In Colab\"/></a>"
      ]
    },
    {
      "cell_type": "code",
      "metadata": {
        "id": "5IZSPrZDlimn"
      },
      "source": [
        ""
      ],
      "execution_count": 29,
      "outputs": []
    },
    {
      "cell_type": "markdown",
      "metadata": {
        "id": "MUHY3F7kWTR8"
      },
      "source": [
        "**Police Shooting Time Series**"
      ]
    },
    {
      "cell_type": "code",
      "metadata": {
        "id": "wiAi4AzplSfD",
        "colab": {
          "base_uri": "https://localhost:8080/"
        },
        "outputId": "d6e60ad4-5913-49d0-c621-fe7f6cb2787f"
      },
      "source": [
        "from google.colab import drive \n",
        "drive.mount('/content/gdrive')"
      ],
      "execution_count": 30,
      "outputs": [
        {
          "output_type": "stream",
          "text": [
            "Drive already mounted at /content/gdrive; to attempt to forcibly remount, call drive.mount(\"/content/gdrive\", force_remount=True).\n"
          ],
          "name": "stdout"
        }
      ]
    },
    {
      "cell_type": "code",
      "metadata": {
        "id": "EM8S81gqlnJw",
        "colab": {
          "base_uri": "https://localhost:8080/"
        },
        "outputId": "0ceac5bf-4e02-4faa-a75b-e86c2ba7bf90"
      },
      "source": [
        "!ls \"/content/gdrive/My Drive\""
      ],
      "execution_count": 31,
      "outputs": [
        {
          "output_type": "stream",
          "text": [
            "'Colab Notebooks'\t\t   kaggle\t\t       shootings.csv\n",
            " household_power_consumption.zip  'my kaggle screenshot.jpg'\n"
          ],
          "name": "stdout"
        }
      ]
    },
    {
      "cell_type": "code",
      "metadata": {
        "id": "Mn7dZVfxlouI"
      },
      "source": [
        "import datetime\n",
        "import numpy as np\n",
        "import pandas as pd\n",
        "import plotly.graph_objs as go\n",
        "import plotly.express as px\n",
        "import matplotlib.pyplot as plt\n",
        "from statsmodels.tsa.arima_model import ARIMA\n",
        "from sklearn.preprocessing import MinMaxScaler\n",
        "%matplotlib inline\n"
      ],
      "execution_count": 32,
      "outputs": []
    },
    {
      "cell_type": "code",
      "metadata": {
        "id": "evFiPFC7luT0",
        "colab": {
          "base_uri": "https://localhost:8080/",
          "height": 305
        },
        "outputId": "a43f45a5-6748-4a92-b2c8-01e578a36956"
      },
      "source": [
        "df = pd.read_csv('/content/gdrive/My Drive/shootings.csv')\n",
        "df.head()"
      ],
      "execution_count": 33,
      "outputs": [
        {
          "output_type": "execute_result",
          "data": {
            "text/html": [
              "<div>\n",
              "<style scoped>\n",
              "    .dataframe tbody tr th:only-of-type {\n",
              "        vertical-align: middle;\n",
              "    }\n",
              "\n",
              "    .dataframe tbody tr th {\n",
              "        vertical-align: top;\n",
              "    }\n",
              "\n",
              "    .dataframe thead th {\n",
              "        text-align: right;\n",
              "    }\n",
              "</style>\n",
              "<table border=\"1\" class=\"dataframe\">\n",
              "  <thead>\n",
              "    <tr style=\"text-align: right;\">\n",
              "      <th></th>\n",
              "      <th>id</th>\n",
              "      <th>name</th>\n",
              "      <th>date</th>\n",
              "      <th>manner_of_death</th>\n",
              "      <th>armed</th>\n",
              "      <th>age</th>\n",
              "      <th>gender</th>\n",
              "      <th>race</th>\n",
              "      <th>city</th>\n",
              "      <th>state</th>\n",
              "      <th>signs_of_mental_illness</th>\n",
              "      <th>threat_level</th>\n",
              "      <th>flee</th>\n",
              "      <th>body_camera</th>\n",
              "      <th>arms_category</th>\n",
              "    </tr>\n",
              "  </thead>\n",
              "  <tbody>\n",
              "    <tr>\n",
              "      <th>0</th>\n",
              "      <td>3</td>\n",
              "      <td>Tim Elliot</td>\n",
              "      <td>2015-01-02</td>\n",
              "      <td>shot</td>\n",
              "      <td>gun</td>\n",
              "      <td>53.0</td>\n",
              "      <td>M</td>\n",
              "      <td>Asian</td>\n",
              "      <td>Shelton</td>\n",
              "      <td>WA</td>\n",
              "      <td>True</td>\n",
              "      <td>attack</td>\n",
              "      <td>Not fleeing</td>\n",
              "      <td>False</td>\n",
              "      <td>Guns</td>\n",
              "    </tr>\n",
              "    <tr>\n",
              "      <th>1</th>\n",
              "      <td>4</td>\n",
              "      <td>Lewis Lee Lembke</td>\n",
              "      <td>2015-01-02</td>\n",
              "      <td>shot</td>\n",
              "      <td>gun</td>\n",
              "      <td>47.0</td>\n",
              "      <td>M</td>\n",
              "      <td>White</td>\n",
              "      <td>Aloha</td>\n",
              "      <td>OR</td>\n",
              "      <td>False</td>\n",
              "      <td>attack</td>\n",
              "      <td>Not fleeing</td>\n",
              "      <td>False</td>\n",
              "      <td>Guns</td>\n",
              "    </tr>\n",
              "    <tr>\n",
              "      <th>2</th>\n",
              "      <td>5</td>\n",
              "      <td>John Paul Quintero</td>\n",
              "      <td>2015-01-03</td>\n",
              "      <td>shot and Tasered</td>\n",
              "      <td>unarmed</td>\n",
              "      <td>23.0</td>\n",
              "      <td>M</td>\n",
              "      <td>Hispanic</td>\n",
              "      <td>Wichita</td>\n",
              "      <td>KS</td>\n",
              "      <td>False</td>\n",
              "      <td>other</td>\n",
              "      <td>Not fleeing</td>\n",
              "      <td>False</td>\n",
              "      <td>Unarmed</td>\n",
              "    </tr>\n",
              "    <tr>\n",
              "      <th>3</th>\n",
              "      <td>8</td>\n",
              "      <td>Matthew Hoffman</td>\n",
              "      <td>2015-01-04</td>\n",
              "      <td>shot</td>\n",
              "      <td>toy weapon</td>\n",
              "      <td>32.0</td>\n",
              "      <td>M</td>\n",
              "      <td>White</td>\n",
              "      <td>San Francisco</td>\n",
              "      <td>CA</td>\n",
              "      <td>True</td>\n",
              "      <td>attack</td>\n",
              "      <td>Not fleeing</td>\n",
              "      <td>False</td>\n",
              "      <td>Other unusual objects</td>\n",
              "    </tr>\n",
              "    <tr>\n",
              "      <th>4</th>\n",
              "      <td>9</td>\n",
              "      <td>Michael Rodriguez</td>\n",
              "      <td>2015-01-04</td>\n",
              "      <td>shot</td>\n",
              "      <td>nail gun</td>\n",
              "      <td>39.0</td>\n",
              "      <td>M</td>\n",
              "      <td>Hispanic</td>\n",
              "      <td>Evans</td>\n",
              "      <td>CO</td>\n",
              "      <td>False</td>\n",
              "      <td>attack</td>\n",
              "      <td>Not fleeing</td>\n",
              "      <td>False</td>\n",
              "      <td>Piercing objects</td>\n",
              "    </tr>\n",
              "  </tbody>\n",
              "</table>\n",
              "</div>"
            ],
            "text/plain": [
              "   id                name  ... body_camera          arms_category\n",
              "0   3          Tim Elliot  ...       False                   Guns\n",
              "1   4    Lewis Lee Lembke  ...       False                   Guns\n",
              "2   5  John Paul Quintero  ...       False                Unarmed\n",
              "3   8     Matthew Hoffman  ...       False  Other unusual objects\n",
              "4   9   Michael Rodriguez  ...       False       Piercing objects\n",
              "\n",
              "[5 rows x 15 columns]"
            ]
          },
          "metadata": {
            "tags": []
          },
          "execution_count": 33
        }
      ]
    },
    {
      "cell_type": "code",
      "metadata": {
        "id": "Pe17imWydOFT",
        "colab": {
          "base_uri": "https://localhost:8080/",
          "height": 561
        },
        "outputId": "c7e56dcd-a985-4260-ee24-5bf41926c17a"
      },
      "source": [
        "import missingno as msno\n",
        "msno.matrix(df)"
      ],
      "execution_count": 34,
      "outputs": [
        {
          "output_type": "execute_result",
          "data": {
            "text/plain": [
              "<matplotlib.axes._subplots.AxesSubplot at 0x7f8e5ad5c0f0>"
            ]
          },
          "metadata": {
            "tags": []
          },
          "execution_count": 34
        },
        {
          "output_type": "display_data",
          "data": {
            "image/png": "[encoded data removed]",
            "text/plain": [
              "<Figure size 1800x720 with 2 Axes>"
            ]
          },
          "metadata": {
            "tags": [],
            "needs_background": "light"
          }
        }
      ]
    },
    {
      "cell_type": "markdown",
      "metadata": {
        "id": "cLb2lgTRTO_C"
      },
      "source": [
        "No missing value found"
      ]
    },
    {
      "cell_type": "code",
      "metadata": {
        "id": "N5cooAGwTZL0"
      },
      "source": [
        ""
      ],
      "execution_count": 34,
      "outputs": []
    },
    {
      "cell_type": "code",
      "metadata": {
        "id": "pKAa5cKblyqz",
        "colab": {
          "base_uri": "https://localhost:8080/"
        },
        "outputId": "f23e95e2-d253-46f5-ca97-065dc6c9121b"
      },
      "source": [
        "for col in df.columns:\n",
        "    print(col, str(round(100* df[col].isnull().sum() / len(df), 2)) + '%')"
      ],
      "execution_count": 35,
      "outputs": [
        {
          "output_type": "stream",
          "text": [
            "id 0.0%\n",
            "name 0.0%\n",
            "date 0.0%\n",
            "manner_of_death 0.0%\n",
            "armed 0.0%\n",
            "age 0.0%\n",
            "gender 0.0%\n",
            "race 0.0%\n",
            "city 0.0%\n",
            "state 0.0%\n",
            "signs_of_mental_illness 0.0%\n",
            "threat_level 0.0%\n",
            "flee 0.0%\n",
            "body_camera 0.0%\n",
            "arms_category 0.0%\n"
          ],
          "name": "stdout"
        }
      ]
    },
    {
      "cell_type": "code",
      "metadata": {
        "id": "Km2aQZFcmP5e",
        "colab": {
          "base_uri": "https://localhost:8080/",
          "height": 517
        },
        "outputId": "9541b986-b646-4d63-ca3d-31e99beed906"
      },
      "source": [
        "data = df['manner_of_death'].value_counts().reset_index()\n",
        "data.columns = ['manner_of_death', 'count']\n",
        "\n",
        "fig = px.pie(\n",
        "    data, \n",
        "    values='count', \n",
        "    names='manner_of_death', \n",
        "    title='Manner of death', \n",
        "    width=500, \n",
        "    height=500\n",
        ")\n",
        "\n",
        "fig.show()\n"
      ],
      "execution_count": 36,
      "outputs": [
        {
          "output_type": "display_data",
          "data": {
            "text/html": [
              "<html>\n",
              "<head><meta charset=\"utf-8\" /></head>\n",
              "<body>\n",
              "    <div>\n",
              "            <script src=\"https://cdnjs.cloudflare.com/ajax/libs/mathjax/2.7.5/MathJax.js?config=TeX-AMS-MML_SVG\"></script><script type=\"text/javascript\">if (window.MathJax) {MathJax.Hub.Config({SVG: {font: \"STIX-Web\"}});}</script>\n",
              "                <script type=\"text/javascript\">window.PlotlyConfig = {MathJaxConfig: 'local'};</script>\n",
              "        <script src=\"https://cdn.plot.ly/plotly-latest.min.js\"></script>    \n",
              "            <div id=\"a516549a-f65f-4fb2-8414-e35a93b831b9\" class=\"plotly-graph-div\" style=\"height:500px; width:500px;\"></div>\n",
              "            <script type=\"text/javascript\">\n",
              "                \n",
              "                    window.PLOTLYENV=window.PLOTLYENV || {};\n",
              "                    \n",
              "                if (document.getElementById(\"a516549a-f65f-4fb2-8414-e35a93b831b9\")) {\n",
              "                    Plotly.newPlot(\n",
              "                        'a516549a-f65f-4fb2-8414-e35a93b831b9',\n",
              "                        [{\"domain\": {\"x\": [0.0, 1.0], \"y\": [0.0, 1.0]}, \"hoverlabel\": {\"namelength\": 0}, \"hovertemplate\": \"manner_of_death=%{label}<br>count=%{value}\", \"labels\": [\"shot\", \"shot and Tasered\"], \"legendgroup\": \"\", \"name\": \"\", \"showlegend\": true, \"type\": \"pie\", \"values\": [4647, 248]}],\n",
              "                        {\"height\": 500, \"legend\": {\"tracegroupgap\": 0}, \"template\": {\"data\": {\"bar\": [{\"error_x\": {\"color\": \"#2a3f5f\"}, \"error_y\": {\"color\": \"#2a3f5f\"}, \"marker\": {\"line\": {\"color\": \"#E5ECF6\", \"width\": 0.5}}, \"type\": \"bar\"}], \"barpolar\": [{\"marker\": {\"line\": {\"color\": \"#E5ECF6\", \"width\": 0.5}}, \"type\": \"barpolar\"}], \"carpet\": [{\"aaxis\": {\"endlinecolor\": \"#2a3f5f\", \"gridcolor\": \"white\", \"linecolor\": \"white\", \"minorgridcolor\": \"white\", \"startlinecolor\": \"#2a3f5f\"}, \"baxis\": {\"endlinecolor\": \"#2a3f5f\", \"gridcolor\": \"white\", \"linecolor\": \"white\", \"minorgridcolor\": \"white\", \"startlinecolor\": \"#2a3f5f\"}, \"type\": \"carpet\"}], \"choropleth\": [{\"colorbar\": {\"outlinewidth\": 0, \"ticks\": \"\"}, \"type\": \"choropleth\"}], \"contour\": [{\"colorbar\": {\"outlinewidth\": 0, \"ticks\": \"\"}, \"colorscale\": [[0.0, \"#0d0887\"], [0.1111111111111111, \"#46039f\"], [0.2222222222222222, \"#7201a8\"], [0.3333333333333333, \"#9c179e\"], [0.4444444444444444, \"#bd3786\"], [0.5555555555555556, \"#d8576b\"], [0.6666666666666666, \"#ed7953\"], [0.7777777777777778, \"#fb9f3a\"], [0.8888888888888888, \"#fdca26\"], [1.0, \"#f0f921\"]], \"type\": \"contour\"}], \"contourcarpet\": [{\"colorbar\": {\"outlinewidth\": 0, \"ticks\": \"\"}, \"type\": \"contourcarpet\"}], \"heatmap\": [{\"colorbar\": {\"outlinewidth\": 0, \"ticks\": \"\"}, \"colorscale\": [[0.0, \"#0d0887\"], [0.1111111111111111, \"#46039f\"], [0.2222222222222222, \"#7201a8\"], [0.3333333333333333, \"#9c179e\"], [0.4444444444444444, \"#bd3786\"], [0.5555555555555556, \"#d8576b\"], [0.6666666666666666, \"#ed7953\"], [0.7777777777777778, \"#fb9f3a\"], [0.8888888888888888, \"#fdca26\"], [1.0, \"#f0f921\"]], \"type\": \"heatmap\"}], \"heatmapgl\": [{\"colorbar\": {\"outlinewidth\": 0, \"ticks\": \"\"}, \"colorscale\": [[0.0, \"#0d0887\"], [0.1111111111111111, \"#46039f\"], [0.2222222222222222, \"#7201a8\"], [0.3333333333333333, \"#9c179e\"], [0.4444444444444444, \"#bd3786\"], [0.5555555555555556, \"#d8576b\"], [0.6666666666666666, \"#ed7953\"], [0.7777777777777778, \"#fb9f3a\"], [0.8888888888888888, \"#fdca26\"], [1.0, \"#f0f921\"]], \"type\": \"heatmapgl\"}], \"histogram\": [{\"marker\": {\"colorbar\": {\"outlinewidth\": 0, \"ticks\": \"\"}}, \"type\": \"histogram\"}], \"histogram2d\": [{\"colorbar\": {\"outlinewidth\": 0, \"ticks\": \"\"}, \"colorscale\": [[0.0, \"#0d0887\"], [0.1111111111111111, \"#46039f\"], [0.2222222222222222, \"#7201a8\"], [0.3333333333333333, \"#9c179e\"], [0.4444444444444444, \"#bd3786\"], [0.5555555555555556, \"#d8576b\"], [0.6666666666666666, \"#ed7953\"], [0.7777777777777778, \"#fb9f3a\"], [0.8888888888888888, \"#fdca26\"], [1.0, \"#f0f921\"]], \"type\": \"histogram2d\"}], \"histogram2dcontour\": [{\"colorbar\": {\"outlinewidth\": 0, \"ticks\": \"\"}, \"colorscale\": [[0.0, \"#0d0887\"], [0.1111111111111111, \"#46039f\"], [0.2222222222222222, \"#7201a8\"], [0.3333333333333333, \"#9c179e\"], [0.4444444444444444, \"#bd3786\"], [0.5555555555555556, \"#d8576b\"], [0.6666666666666666, \"#ed7953\"], [0.7777777777777778, \"#fb9f3a\"], [0.8888888888888888, \"#fdca26\"], [1.0, \"#f0f921\"]], \"type\": \"histogram2dcontour\"}], \"mesh3d\": [{\"colorbar\": {\"outlinewidth\": 0, \"ticks\": \"\"}, \"type\": \"mesh3d\"}], \"parcoords\": [{\"line\": {\"colorbar\": {\"outlinewidth\": 0, \"ticks\": \"\"}}, \"type\": \"parcoords\"}], \"pie\": [{\"automargin\": true, \"type\": \"pie\"}], \"scatter\": [{\"marker\": {\"colorbar\": {\"outlinewidth\": 0, \"ticks\": \"\"}}, \"type\": \"scatter\"}], \"scatter3d\": [{\"line\": {\"colorbar\": {\"outlinewidth\": 0, \"ticks\": \"\"}}, \"marker\": {\"colorbar\": {\"outlinewidth\": 0, \"ticks\": \"\"}}, \"type\": \"scatter3d\"}], \"scattercarpet\": [{\"marker\": {\"colorbar\": {\"outlinewidth\": 0, \"ticks\": \"\"}}, \"type\": \"scattercarpet\"}], \"scattergeo\": [{\"marker\": {\"colorbar\": {\"outlinewidth\": 0, \"ticks\": \"\"}}, \"type\": \"scattergeo\"}], \"scattergl\": [{\"marker\": {\"colorbar\": {\"outlinewidth\": 0, \"ticks\": \"\"}}, \"type\": \"scattergl\"}], \"scattermapbox\": [{\"marker\": {\"colorbar\": {\"outlinewidth\": 0, \"ticks\": \"\"}}, \"type\": \"scattermapbox\"}], \"scatterpolar\": [{\"marker\": {\"colorbar\": {\"outlinewidth\": 0, \"ticks\": \"\"}}, \"type\": \"scatterpolar\"}], \"scatterpolargl\": [{\"marker\": {\"colorbar\": {\"outlinewidth\": 0, \"ticks\": \"\"}}, \"type\": \"scatterpolargl\"}], \"scatterternary\": [{\"marker\": {\"colorbar\": {\"outlinewidth\": 0, \"ticks\": \"\"}}, \"type\": \"scatterternary\"}], \"surface\": [{\"colorbar\": {\"outlinewidth\": 0, \"ticks\": \"\"}, \"colorscale\": [[0.0, \"#0d0887\"], [0.1111111111111111, \"#46039f\"], [0.2222222222222222, \"#7201a8\"], [0.3333333333333333, \"#9c179e\"], [0.4444444444444444, \"#bd3786\"], [0.5555555555555556, \"#d8576b\"], [0.6666666666666666, \"#ed7953\"], [0.7777777777777778, \"#fb9f3a\"], [0.8888888888888888, \"#fdca26\"], [1.0, \"#f0f921\"]], \"type\": \"surface\"}], \"table\": [{\"cells\": {\"fill\": {\"color\": \"#EBF0F8\"}, \"line\": {\"color\": \"white\"}}, \"header\": {\"fill\": {\"color\": \"#C8D4E3\"}, \"line\": {\"color\": \"white\"}}, \"type\": \"table\"}]}, \"layout\": {\"annotationdefaults\": {\"arrowcolor\": \"#2a3f5f\", \"arrowhead\": 0, \"arrowwidth\": 1}, \"coloraxis\": {\"colorbar\": {\"outlinewidth\": 0, \"ticks\": \"\"}}, \"colorscale\": {\"diverging\": [[0, \"#8e0152\"], [0.1, \"#c51b7d\"], [0.2, \"#de77ae\"], [0.3, \"#f1b6da\"], [0.4, \"#fde0ef\"], [0.5, \"#f7f7f7\"], [0.6, \"#e6f5d0\"], [0.7, \"#b8e186\"], [0.8, \"#7fbc41\"], [0.9, \"#4d9221\"], [1, \"#276419\"]], \"sequential\": [[0.0, \"#0d0887\"], [0.1111111111111111, \"#46039f\"], [0.2222222222222222, \"#7201a8\"], [0.3333333333333333, \"#9c179e\"], [0.4444444444444444, \"#bd3786\"], [0.5555555555555556, \"#d8576b\"], [0.6666666666666666, \"#ed7953\"], [0.7777777777777778, \"#fb9f3a\"], [0.8888888888888888, \"#fdca26\"], [1.0, \"#f0f921\"]], \"sequentialminus\": [[0.0, \"#0d0887\"], [0.1111111111111111, \"#46039f\"], [0.2222222222222222, \"#7201a8\"], [0.3333333333333333, \"#9c179e\"], [0.4444444444444444, \"#bd3786\"], [0.5555555555555556, \"#d8576b\"], [0.6666666666666666, \"#ed7953\"], [0.7777777777777778, \"#fb9f3a\"], [0.8888888888888888, \"#fdca26\"], [1.0, \"#f0f921\"]]}, \"colorway\": [\"#636efa\", \"#EF553B\", \"#00cc96\", \"#ab63fa\", \"#FFA15A\", \"#19d3f3\", \"#FF6692\", \"#B6E880\", \"#FF97FF\", \"#FECB52\"], \"font\": {\"color\": \"#2a3f5f\"}, \"geo\": {\"bgcolor\": \"white\", \"lakecolor\": \"white\", \"landcolor\": \"#E5ECF6\", \"showlakes\": true, \"showland\": true, \"subunitcolor\": \"white\"}, \"hoverlabel\": {\"align\": \"left\"}, \"hovermode\": \"closest\", \"mapbox\": {\"style\": \"light\"}, \"paper_bgcolor\": \"white\", \"plot_bgcolor\": \"#E5ECF6\", \"polar\": {\"angularaxis\": {\"gridcolor\": \"white\", \"linecolor\": \"white\", \"ticks\": \"\"}, \"bgcolor\": \"#E5ECF6\", \"radialaxis\": {\"gridcolor\": \"white\", \"linecolor\": \"white\", \"ticks\": \"\"}}, \"scene\": {\"xaxis\": {\"backgroundcolor\": \"#E5ECF6\", \"gridcolor\": \"white\", \"gridwidth\": 2, \"linecolor\": \"white\", \"showbackground\": true, \"ticks\": \"\", \"zerolinecolor\": \"white\"}, \"yaxis\": {\"backgroundcolor\": \"#E5ECF6\", \"gridcolor\": \"white\", \"gridwidth\": 2, \"linecolor\": \"white\", \"showbackground\": true, \"ticks\": \"\", \"zerolinecolor\": \"white\"}, \"zaxis\": {\"backgroundcolor\": \"#E5ECF6\", \"gridcolor\": \"white\", \"gridwidth\": 2, \"linecolor\": \"white\", \"showbackground\": true, \"ticks\": \"\", \"zerolinecolor\": \"white\"}}, \"shapedefaults\": {\"line\": {\"color\": \"#2a3f5f\"}}, \"ternary\": {\"aaxis\": {\"gridcolor\": \"white\", \"linecolor\": \"white\", \"ticks\": \"\"}, \"baxis\": {\"gridcolor\": \"white\", \"linecolor\": \"white\", \"ticks\": \"\"}, \"bgcolor\": \"#E5ECF6\", \"caxis\": {\"gridcolor\": \"white\", \"linecolor\": \"white\", \"ticks\": \"\"}}, \"title\": {\"x\": 0.05}, \"xaxis\": {\"automargin\": true, \"gridcolor\": \"white\", \"linecolor\": \"white\", \"ticks\": \"\", \"title\": {\"standoff\": 15}, \"zerolinecolor\": \"white\", \"zerolinewidth\": 2}, \"yaxis\": {\"automargin\": true, \"gridcolor\": \"white\", \"linecolor\": \"white\", \"ticks\": \"\", \"title\": {\"standoff\": 15}, \"zerolinecolor\": \"white\", \"zerolinewidth\": 2}}}, \"title\": {\"text\": \"Manner of death\"}, \"width\": 500},\n",
              "                        {\"responsive\": true}\n",
              "                    ).then(function(){\n",
              "                            \n",
              "var gd = document.getElementById('a516549a-f65f-4fb2-8414-e35a93b831b9');\n",
              "var x = new MutationObserver(function (mutations, observer) {{\n",
              "        var display = window.getComputedStyle(gd).display;\n",
              "        if (!display || display === 'none') {{\n",
              "            console.log([gd, 'removed!']);\n",
              "            Plotly.purge(gd);\n",
              "            observer.disconnect();\n",
              "        }}\n",
              "}});\n",
              "\n",
              "// Listen for the removal of the full notebook cells\n",
              "var notebookContainer = gd.closest('#notebook-container');\n",
              "if (notebookContainer) {{\n",
              "    x.observe(notebookContainer, {childList: true});\n",
              "}}\n",
              "\n",
              "// Listen for the clearing of the current output cell\n",
              "var outputEl = gd.closest('.output');\n",
              "if (outputEl) {{\n",
              "    x.observe(outputEl, {childList: true});\n",
              "}}\n",
              "\n",
              "                        })\n",
              "                };\n",
              "                \n",
              "            </script>\n",
              "        </div>\n",
              "</body>\n",
              "</html>"
            ]
          },
          "metadata": {
            "tags": []
          }
        }
      ]
    },
    {
      "cell_type": "code",
      "metadata": {
        "id": "gS1nlKUamcRM",
        "colab": {
          "base_uri": "https://localhost:8080/",
          "height": 817
        },
        "outputId": "0083ebe7-99ef-4ae1-c62a-dca07ed37b0a"
      },
      "source": [
        "data = df['armed'].value_counts().reset_index()\n",
        "data.columns = ['armed', 'count']\n",
        "data = data.sort_values('count')\n",
        "\n",
        "fig = px.bar(\n",
        "    data.tail(25), \n",
        "    x='count', \n",
        "    y='armed', \n",
        "    orientation='h', \n",
        "    title='Weapon', \n",
        "    width=800, \n",
        "    height=800\n",
        ")\n",
        "\n",
        "fig.show()"
      ],
      "execution_count": 37,
      "outputs": [
        {
          "output_type": "display_data",
          "data": {
            "text/html": [
              "<html>\n",
              "<head><meta charset=\"utf-8\" /></head>\n",
              "<body>\n",
              "    <div>\n",
              "            <script src=\"https://cdnjs.cloudflare.com/ajax/libs/mathjax/2.7.5/MathJax.js?config=TeX-AMS-MML_SVG\"></script><script type=\"text/javascript\">if (window.MathJax) {MathJax.Hub.Config({SVG: {font: \"STIX-Web\"}});}</script>\n",
              "                <script type=\"text/javascript\">window.PlotlyConfig = {MathJaxConfig: 'local'};</script>\n",
              "        <script src=\"https://cdn.plot.ly/plotly-latest.min.js\"></script>    \n",
              "            <div id=\"8313c028-cec8-4573-9311-16a1e0241e9b\" class=\"plotly-graph-div\" style=\"height:800px; width:800px;\"></div>\n",
              "            <script type=\"text/javascript\">\n",
              "                \n",
              "                    window.PLOTLYENV=window.PLOTLYENV || {};\n",
              "                    \n",
              "                if (document.getElementById(\"8313c028-cec8-4573-9311-16a1e0241e9b\")) {\n",
              "                    Plotly.newPlot(\n",
              "                        '8313c028-cec8-4573-9311-16a1e0241e9b',\n",
              "                        [{\"alignmentgroup\": \"True\", \"hoverlabel\": {\"namelength\": 0}, \"hovertemplate\": \"count=%{x}<br>armed=%{y}\", \"legendgroup\": \"\", \"marker\": {\"color\": \"#636efa\"}, \"name\": \"\", \"offsetgroup\": \"\", \"orientation\": \"h\", \"showlegend\": false, \"textposition\": \"auto\", \"type\": \"bar\", \"x\": [5, 5, 6, 6, 7, 9, 10, 11, 11, 11, 12, 12, 14, 15, 16, 21, 22, 24, 39, 120, 171, 348, 418, 708, 2755], \"xaxis\": \"x\", \"y\": [\"BB gun\", \"piece of wood\", \"rock\", \"crossbow\", \"scissors\", \"gun and car\", \"gun and vehicle\", \"box cutter\", \"sharp object\", \"hatchet\", \"screwdriver\", \"metal pipe\", \"hammer\", \"gun and knife\", \"baseball bat\", \"ax\", \"sword\", \"Taser\", \"machete\", \"vehicle\", \"toy weapon\", \"unarmed\", \"unknown\", \"knife\", \"gun\"], \"yaxis\": \"y\"}],\n",
              "                        {\"barmode\": \"relative\", \"height\": 800, \"legend\": {\"tracegroupgap\": 0}, \"template\": {\"data\": {\"bar\": [{\"error_x\": {\"color\": \"#2a3f5f\"}, \"error_y\": {\"color\": \"#2a3f5f\"}, \"marker\": {\"line\": {\"color\": \"#E5ECF6\", \"width\": 0.5}}, \"type\": \"bar\"}], \"barpolar\": [{\"marker\": {\"line\": {\"color\": \"#E5ECF6\", \"width\": 0.5}}, \"type\": \"barpolar\"}], \"carpet\": [{\"aaxis\": {\"endlinecolor\": \"#2a3f5f\", \"gridcolor\": \"white\", \"linecolor\": \"white\", \"minorgridcolor\": \"white\", \"startlinecolor\": \"#2a3f5f\"}, \"baxis\": {\"endlinecolor\": \"#2a3f5f\", \"gridcolor\": \"white\", \"linecolor\": \"white\", \"minorgridcolor\": \"white\", \"startlinecolor\": \"#2a3f5f\"}, \"type\": \"carpet\"}], \"choropleth\": [{\"colorbar\": {\"outlinewidth\": 0, \"ticks\": \"\"}, \"type\": \"choropleth\"}], \"contour\": [{\"colorbar\": {\"outlinewidth\": 0, \"ticks\": \"\"}, \"colorscale\": [[0.0, \"#0d0887\"], [0.1111111111111111, \"#46039f\"], [0.2222222222222222, \"#7201a8\"], [0.3333333333333333, \"#9c179e\"], [0.4444444444444444, \"#bd3786\"], [0.5555555555555556, \"#d8576b\"], [0.6666666666666666, \"#ed7953\"], [0.7777777777777778, \"#fb9f3a\"], [0.8888888888888888, \"#fdca26\"], [1.0, \"#f0f921\"]], \"type\": \"contour\"}], \"contourcarpet\": [{\"colorbar\": {\"outlinewidth\": 0, \"ticks\": \"\"}, \"type\": \"contourcarpet\"}], \"heatmap\": [{\"colorbar\": {\"outlinewidth\": 0, \"ticks\": \"\"}, \"colorscale\": [[0.0, \"#0d0887\"], [0.1111111111111111, \"#46039f\"], [0.2222222222222222, \"#7201a8\"], [0.3333333333333333, \"#9c179e\"], [0.4444444444444444, \"#bd3786\"], [0.5555555555555556, \"#d8576b\"], [0.6666666666666666, \"#ed7953\"], [0.7777777777777778, \"#fb9f3a\"], [0.8888888888888888, \"#fdca26\"], [1.0, \"#f0f921\"]], \"type\": \"heatmap\"}], \"heatmapgl\": [{\"colorbar\": {\"outlinewidth\": 0, \"ticks\": \"\"}, \"colorscale\": [[0.0, \"#0d0887\"], [0.1111111111111111, \"#46039f\"], [0.2222222222222222, \"#7201a8\"], [0.3333333333333333, \"#9c179e\"], [0.4444444444444444, \"#bd3786\"], [0.5555555555555556, \"#d8576b\"], [0.6666666666666666, \"#ed7953\"], [0.7777777777777778, \"#fb9f3a\"], [0.8888888888888888, \"#fdca26\"], [1.0, \"#f0f921\"]], \"type\": \"heatmapgl\"}], \"histogram\": [{\"marker\": {\"colorbar\": {\"outlinewidth\": 0, \"ticks\": \"\"}}, \"type\": \"histogram\"}], \"histogram2d\": [{\"colorbar\": {\"outlinewidth\": 0, \"ticks\": \"\"}, \"colorscale\": [[0.0, \"#0d0887\"], [0.1111111111111111, \"#46039f\"], [0.2222222222222222, \"#7201a8\"], [0.3333333333333333, \"#9c179e\"], [0.4444444444444444, \"#bd3786\"], [0.5555555555555556, \"#d8576b\"], [0.6666666666666666, \"#ed7953\"], [0.7777777777777778, \"#fb9f3a\"], [0.8888888888888888, \"#fdca26\"], [1.0, \"#f0f921\"]], \"type\": \"histogram2d\"}], \"histogram2dcontour\": [{\"colorbar\": {\"outlinewidth\": 0, \"ticks\": \"\"}, \"colorscale\": [[0.0, \"#0d0887\"], [0.1111111111111111, \"#46039f\"], [0.2222222222222222, \"#7201a8\"], [0.3333333333333333, \"#9c179e\"], [0.4444444444444444, \"#bd3786\"], [0.5555555555555556, \"#d8576b\"], [0.6666666666666666, \"#ed7953\"], [0.7777777777777778, \"#fb9f3a\"], [0.8888888888888888, \"#fdca26\"], [1.0, \"#f0f921\"]], \"type\": \"histogram2dcontour\"}], \"mesh3d\": [{\"colorbar\": {\"outlinewidth\": 0, \"ticks\": \"\"}, \"type\": \"mesh3d\"}], \"parcoords\": [{\"line\": {\"colorbar\": {\"outlinewidth\": 0, \"ticks\": \"\"}}, \"type\": \"parcoords\"}], \"pie\": [{\"automargin\": true, \"type\": \"pie\"}], \"scatter\": [{\"marker\": {\"colorbar\": {\"outlinewidth\": 0, \"ticks\": \"\"}}, \"type\": \"scatter\"}], \"scatter3d\": [{\"line\": {\"colorbar\": {\"outlinewidth\": 0, \"ticks\": \"\"}}, \"marker\": {\"colorbar\": {\"outlinewidth\": 0, \"ticks\": \"\"}}, \"type\": \"scatter3d\"}], \"scattercarpet\": [{\"marker\": {\"colorbar\": {\"outlinewidth\": 0, \"ticks\": \"\"}}, \"type\": \"scattercarpet\"}], \"scattergeo\": [{\"marker\": {\"colorbar\": {\"outlinewidth\": 0, \"ticks\": \"\"}}, \"type\": \"scattergeo\"}], \"scattergl\": [{\"marker\": {\"colorbar\": {\"outlinewidth\": 0, \"ticks\": \"\"}}, \"type\": \"scattergl\"}], \"scattermapbox\": [{\"marker\": {\"colorbar\": {\"outlinewidth\": 0, \"ticks\": \"\"}}, \"type\": \"scattermapbox\"}], \"scatterpolar\": [{\"marker\": {\"colorbar\": {\"outlinewidth\": 0, \"ticks\": \"\"}}, \"type\": \"scatterpolar\"}], \"scatterpolargl\": [{\"marker\": {\"colorbar\": {\"outlinewidth\": 0, \"ticks\": \"\"}}, \"type\": \"scatterpolargl\"}], \"scatterternary\": [{\"marker\": {\"colorbar\": {\"outlinewidth\": 0, \"ticks\": \"\"}}, \"type\": \"scatterternary\"}], \"surface\": [{\"colorbar\": {\"outlinewidth\": 0, \"ticks\": \"\"}, \"colorscale\": [[0.0, \"#0d0887\"], [0.1111111111111111, \"#46039f\"], [0.2222222222222222, \"#7201a8\"], [0.3333333333333333, \"#9c179e\"], [0.4444444444444444, \"#bd3786\"], [0.5555555555555556, \"#d8576b\"], [0.6666666666666666, \"#ed7953\"], [0.7777777777777778, \"#fb9f3a\"], [0.8888888888888888, \"#fdca26\"], [1.0, \"#f0f921\"]], \"type\": \"surface\"}], \"table\": [{\"cells\": {\"fill\": {\"color\": \"#EBF0F8\"}, \"line\": {\"color\": \"white\"}}, \"header\": {\"fill\": {\"color\": \"#C8D4E3\"}, \"line\": {\"color\": \"white\"}}, \"type\": \"table\"}]}, \"layout\": {\"annotationdefaults\": {\"arrowcolor\": \"#2a3f5f\", \"arrowhead\": 0, \"arrowwidth\": 1}, \"coloraxis\": {\"colorbar\": {\"outlinewidth\": 0, \"ticks\": \"\"}}, \"colorscale\": {\"diverging\": [[0, \"#8e0152\"], [0.1, \"#c51b7d\"], [0.2, \"#de77ae\"], [0.3, \"#f1b6da\"], [0.4, \"#fde0ef\"], [0.5, \"#f7f7f7\"], [0.6, \"#e6f5d0\"], [0.7, \"#b8e186\"], [0.8, \"#7fbc41\"], [0.9, \"#4d9221\"], [1, \"#276419\"]], \"sequential\": [[0.0, \"#0d0887\"], [0.1111111111111111, \"#46039f\"], [0.2222222222222222, \"#7201a8\"], [0.3333333333333333, \"#9c179e\"], [0.4444444444444444, \"#bd3786\"], [0.5555555555555556, \"#d8576b\"], [0.6666666666666666, \"#ed7953\"], [0.7777777777777778, \"#fb9f3a\"], [0.8888888888888888, \"#fdca26\"], [1.0, \"#f0f921\"]], \"sequentialminus\": [[0.0, \"#0d0887\"], [0.1111111111111111, \"#46039f\"], [0.2222222222222222, \"#7201a8\"], [0.3333333333333333, \"#9c179e\"], [0.4444444444444444, \"#bd3786\"], [0.5555555555555556, \"#d8576b\"], [0.6666666666666666, \"#ed7953\"], [0.7777777777777778, \"#fb9f3a\"], [0.8888888888888888, \"#fdca26\"], [1.0, \"#f0f921\"]]}, \"colorway\": [\"#636efa\", \"#EF553B\", \"#00cc96\", \"#ab63fa\", \"#FFA15A\", \"#19d3f3\", \"#FF6692\", \"#B6E880\", \"#FF97FF\", \"#FECB52\"], \"font\": {\"color\": \"#2a3f5f\"}, \"geo\": {\"bgcolor\": \"white\", \"lakecolor\": \"white\", \"landcolor\": \"#E5ECF6\", \"showlakes\": true, \"showland\": true, \"subunitcolor\": \"white\"}, \"hoverlabel\": {\"align\": \"left\"}, \"hovermode\": \"closest\", \"mapbox\": {\"style\": \"light\"}, \"paper_bgcolor\": \"white\", \"plot_bgcolor\": \"#E5ECF6\", \"polar\": {\"angularaxis\": {\"gridcolor\": \"white\", \"linecolor\": \"white\", \"ticks\": \"\"}, \"bgcolor\": \"#E5ECF6\", \"radialaxis\": {\"gridcolor\": \"white\", \"linecolor\": \"white\", \"ticks\": \"\"}}, \"scene\": {\"xaxis\": {\"backgroundcolor\": \"#E5ECF6\", \"gridcolor\": \"white\", \"gridwidth\": 2, \"linecolor\": \"white\", \"showbackground\": true, \"ticks\": \"\", \"zerolinecolor\": \"white\"}, \"yaxis\": {\"backgroundcolor\": \"#E5ECF6\", \"gridcolor\": \"white\", \"gridwidth\": 2, \"linecolor\": \"white\", \"showbackground\": true, \"ticks\": \"\", \"zerolinecolor\": \"white\"}, \"zaxis\": {\"backgroundcolor\": \"#E5ECF6\", \"gridcolor\": \"white\", \"gridwidth\": 2, \"linecolor\": \"white\", \"showbackground\": true, \"ticks\": \"\", \"zerolinecolor\": \"white\"}}, \"shapedefaults\": {\"line\": {\"color\": \"#2a3f5f\"}}, \"ternary\": {\"aaxis\": {\"gridcolor\": \"white\", \"linecolor\": \"white\", \"ticks\": \"\"}, \"baxis\": {\"gridcolor\": \"white\", \"linecolor\": \"white\", \"ticks\": \"\"}, \"bgcolor\": \"#E5ECF6\", \"caxis\": {\"gridcolor\": \"white\", \"linecolor\": \"white\", \"ticks\": \"\"}}, \"title\": {\"x\": 0.05}, \"xaxis\": {\"automargin\": true, \"gridcolor\": \"white\", \"linecolor\": \"white\", \"ticks\": \"\", \"title\": {\"standoff\": 15}, \"zerolinecolor\": \"white\", \"zerolinewidth\": 2}, \"yaxis\": {\"automargin\": true, \"gridcolor\": \"white\", \"linecolor\": \"white\", \"ticks\": \"\", \"title\": {\"standoff\": 15}, \"zerolinecolor\": \"white\", \"zerolinewidth\": 2}}}, \"title\": {\"text\": \"Weapon\"}, \"width\": 800, \"xaxis\": {\"anchor\": \"y\", \"domain\": [0.0, 1.0], \"title\": {\"text\": \"count\"}}, \"yaxis\": {\"anchor\": \"x\", \"domain\": [0.0, 1.0], \"title\": {\"text\": \"armed\"}}},\n",
              "                        {\"responsive\": true}\n",
              "                    ).then(function(){\n",
              "                            \n",
              "var gd = document.getElementById('8313c028-cec8-4573-9311-16a1e0241e9b');\n",
              "var x = new MutationObserver(function (mutations, observer) {{\n",
              "        var display = window.getComputedStyle(gd).display;\n",
              "        if (!display || display === 'none') {{\n",
              "            console.log([gd, 'removed!']);\n",
              "            Plotly.purge(gd);\n",
              "            observer.disconnect();\n",
              "        }}\n",
              "}});\n",
              "\n",
              "// Listen for the removal of the full notebook cells\n",
              "var notebookContainer = gd.closest('#notebook-container');\n",
              "if (notebookContainer) {{\n",
              "    x.observe(notebookContainer, {childList: true});\n",
              "}}\n",
              "\n",
              "// Listen for the clearing of the current output cell\n",
              "var outputEl = gd.closest('.output');\n",
              "if (outputEl) {{\n",
              "    x.observe(outputEl, {childList: true});\n",
              "}}\n",
              "\n",
              "                        })\n",
              "                };\n",
              "                \n",
              "            </script>\n",
              "        </div>\n",
              "</body>\n",
              "</html>"
            ]
          },
          "metadata": {
            "tags": []
          }
        }
      ]
    },
    {
      "cell_type": "code",
      "metadata": {
        "id": "ZEMgIy5VmkuD",
        "colab": {
          "base_uri": "https://localhost:8080/",
          "height": 517
        },
        "outputId": "c37128dd-f2c9-4241-ac49-f09ce7140f30"
      },
      "source": [
        "fig = px.histogram(\n",
        "    df, \n",
        "    \"age\", \n",
        "    nbins=80, \n",
        "    title ='Age distribution', \n",
        "    width=800,\n",
        "    height=500\n",
        ")\n",
        "\n",
        "fig.show()"
      ],
      "execution_count": 38,
      "outputs": [
        {
          "output_type": "display_data",
          "data": {
            "text/html": [
              "<html>\n",
              "<head><meta charset=\"utf-8\" /></head>\n",
              "<body>\n",
              "    <div>\n",
              "            <script src=\"https://cdnjs.cloudflare.com/ajax/libs/mathjax/2.7.5/MathJax.js?config=TeX-AMS-MML_SVG\"></script><script type=\"text/javascript\">if (window.MathJax) {MathJax.Hub.Config({SVG: {font: \"STIX-Web\"}});}</script>\n",
              "                <script type=\"text/javascript\">window.PlotlyConfig = {MathJaxConfig: 'local'};</script>\n",
              "        <script src=\"https://cdn.plot.ly/plotly-latest.min.js\"></script>    \n",
              "            <div id=\"955b6faa-44a4-454f-a6dc-9a6d87f8abdb\" class=\"plotly-graph-div\" style=\"height:500px; width:800px;\"></div>\n",
              "            <script type=\"text/javascript\">\n",
              "                \n",
              "                    window.PLOTLYENV=window.PLOTLYENV || {};\n",
              "                    \n",
              "                if (document.getElementById(\"955b6faa-44a4-454f-a6dc-9a6d87f8abdb\")) {\n",
              "                    Plotly.newPlot(\n",
              "                        '955b6faa-44a4-454f-a6dc-9a6d87f8abdb',\n",
              "                        [{\"alignmentgroup\": \"True\", \"bingroup\": \"x\", \"hoverlabel\": {\"namelength\": 0}, \"hovertemplate\": \"age=%{x}<br>count=%{y}\", \"legendgroup\": \"\", \"marker\": {\"color\": \"#636efa\"}, \"name\": \"\", \"nbinsx\": 80, \"offsetgroup\": \"\", \"orientation\": \"v\", \"showlegend\": false, \"type\": \"histogram\", \"x\": [53.0, 47.0, 23.0, 32.0, 39.0, 18.0, 22.0, 35.0, 34.0, 47.0, 25.0, 31.0, 41.0, 30.0, 37.0, 28.0, 42.0, 36.0, 49.0, 71.0, 33.0, 39.0, 23.0, 29.0, 34.0, 43.0, 24.0, 29.0, 34.0, 75.0, 68.0, 34.0, 27.0, 39.0, 24.0, 36.0, 33.0, 41.0, 48.0, 21.0, 24.0, 27.0, 32.0, 67.0, 49.0, 42.0, 36.0, 36.0, 19.0, 54.0, 25.0, 17.0, 29.0, 56.0, 61.0, 45.0, 26.0, 40.0, 26.0, 17.0, 68.0, 24.0, 34.0, 39.0, 26.0, 29.0, 33.0, 45.0, 26.0, 35.0, 31.0, 42.0, 48.0, 31.0, 54.0, 59.0, 42.0, 17.0, 23.0, 38.0, 29.0, 45.0, 28.0, 37.0, 28.0, 28.0, 51.0, 36.0, 59.0, 25.0, 26.0, 74.0, 33.0, 27.0, 57.0, 46.0, 41.0, 61.0, 45.0, 49.0, 45.0, 35.0, 23.0, 46.0, 23.0, 21.0, 35.0, 27.0, 37.0, 16.0, 51.0, 34.0, 34.0, 25.0, 56.0, 26.0, 24.0, 43.0, 31.0, 32.0, 30.0, 50.0, 20.0, 31.0, 38.0, 77.0, 37.11793090137039, 41.0, 51.0, 50.0, 47.0, 37.0, 41.0, 16.0, 42.0, 39.0, 30.0, 27.0, 43.0, 42.0, 21.0, 49.0, 34.0, 31.0, 27.0, 24.0, 34.0, 28.0, 28.0, 40.0, 37.0, 17.0, 35.0, 49.0, 43.0, 20.0, 25.0, 25.0, 26.0, 28.0, 45.0, 36.0, 34.0, 19.0, 37.0, 48.0, 29.0, 43.0, 40.0, 35.0, 27.0, 58.0, 46.0, 30.0, 64.0, 31.0, 23.0, 37.0, 37.0, 31.0, 39.0, 31.0, 54.0, 53.0, 25.0, 35.0, 41.0, 59.0, 36.0, 32.0, 53.0, 26.0, 29.0, 27.0, 28.0, 52.0, 49.0, 24.0, 24.0, 20.0, 22.0, 49.0, 64.0, 47.0, 39.0, 18.0, 31.0, 16.0, 20.0, 36.0, 63.0, 34.0, 24.0, 21.0, 44.0, 60.0, 42.0, 37.0, 36.0, 21.0, 24.0, 29.0, 57.0, 38.0, 23.0, 27.0, 28.0, 63.0, 53.0, 35.0, 26.0, 42.0, 41.0, 56.0, 39.0, 23.0, 40.0, 29.0, 26.0, 49.0, 36.0, 21.0, 27.0, 37.0, 36.0, 32.0, 44.0, 27.0, 63.0, 38.0, 17.0, 31.0, 34.0, 50.0, 51.0, 56.0, 23.0, 25.0, 31.0, 32.0, 60.0, 42.0, 39.0, 28.0, 22.0, 29.0, 31.0, 28.0, 21.0, 38.0, 66.0, 36.0, 83.0, 32.0, 27.0, 26.0, 31.0, 22.0, 41.0, 41.0, 51.0, 72.0, 52.0, 47.0, 18.0, 29.0, 23.0, 43.0, 45.0, 40.0, 44.0, 25.0, 37.0, 59.0, 35.0, 35.0, 18.0, 51.0, 30.0, 31.0, 39.0, 26.0, 51.0, 19.0, 46.0, 49.0, 63.0, 20.0, 25.0, 24.0, 58.0, 29.0, 76.0, 45.0, 20.0, 58.0, 21.0, 27.0, 26.0, 33.0, 27.0, 25.0, 53.0, 53.0, 42.0, 22.0, 52.0, 36.0, 30.0, 34.0, 44.0, 53.0, 36.0, 29.0, 32.0, 46.0, 18.0, 38.0, 21.0, 35.0, 58.0, 48.0, 31.0, 47.0, 34.0, 30.0, 28.0, 28.0, 40.0, 46.0, 37.0, 53.0, 41.0, 42.0, 45.0, 34.0, 18.0, 27.0, 54.0, 35.0, 17.0, 29.0, 38.0, 26.0, 52.0, 39.0, 22.0, 29.0, 43.0, 24.0, 32.0, 40.0, 47.0, 40.0, 25.0, 31.0, 36.0, 51.0, 24.0, 62.0, 39.0, 24.0, 57.0, 20.0, 33.0, 60.0, 32.0, 40.0, 18.0, 36.0, 35.0, 55.0, 19.0, 39.0, 47.0, 23.0, 26.0, 26.0, 18.0, 33.0, 56.0, 46.0, 36.0, 50.0, 45.0, 53.0, 45.0, 42.0, 27.0, 30.0, 36.0, 58.0, 30.0, 69.0, 30.0, 45.0, 22.0, 28.0, 19.0, 40.0, 46.0, 28.0, 22.0, 17.0, 46.0, 35.0, 35.0, 28.0, 15.0, 22.0, 28.0, 31.0, 40.0, 48.0, 58.0, 44.0, 21.0, 50.0, 23.0, 24.0, 49.0, 60.0, 35.0, 29.0, 20.0, 34.0, 22.0, 49.0, 32.0, 26.0, 41.0, 61.0, 49.0, 28.0, 35.0, 29.0, 51.0, 52.0, 24.0, 32.0, 45.0, 60.0, 23.0, 46.0, 33.0, 40.0, 27.0, 42.0, 37.0, 23.0, 36.0, 19.0, 35.0, 43.0, 25.0, 20.0, 42.0, 29.0, 42.0, 31.0, 18.0, 33.0, 59.0, 47.0, 39.0, 37.0, 35.0, 28.0, 59.0, 62.0, 50.0, 68.0, 27.0, 17.0, 21.0, 38.0, 54.0, 20.0, 25.0, 31.0, 35.0, 60.0, 24.0, 27.0, 36.0, 20.0, 24.0, 23.0, 41.0, 20.0, 43.0, 29.0, 35.0, 30.0, 24.0, 23.0, 29.0, 25.0, 27.0, 50.0, 19.0, 24.0, 23.0, 22.0, 46.0, 65.0, 43.0, 35.0, 47.0, 24.0, 35.0, 25.0, 27.0, 26.0, 34.0, 32.0, 47.0, 44.0, 31.0, 44.0, 30.0, 60.0, 50.0, 36.0, 59.0, 33.0, 19.0, 56.0, 45.0, 22.0, 34.0, 53.0, 48.0, 25.0, 30.0, 47.0, 33.0, 34.0, 29.0, 63.0, 49.0, 18.0, 71.0, 35.0, 55.0, 31.0, 18.0, 51.0, 39.0, 20.0, 29.0, 40.0, 42.0, 22.0, 19.0, 24.0, 30.0, 53.0, 25.0, 28.0, 24.0, 59.0, 46.0, 15.0, 41.0, 22.0, 24.0, 34.0, 48.0, 24.0, 27.0, 27.0, 27.0, 49.0, 30.0, 38.0, 26.0, 30.0, 53.0, 23.0, 34.0, 30.0, 43.0, 29.0, 47.0, 35.0, 40.0, 18.0, 24.0, 29.0, 44.0, 17.0, 19.0, 50.0, 57.0, 30.0, 38.0, 31.0, 29.0, 26.0, 64.0, 39.0, 57.0, 36.0, 36.0, 21.0, 53.0, 30.0, 34.0, 53.0, 45.0, 22.0, 22.0, 46.0, 27.0, 30.0, 54.0, 29.0, 42.0, 41.0, 28.0, 61.0, 23.0, 25.0, 37.11793090137039, 29.0, 20.0, 40.0, 45.0, 33.0, 76.0, 47.0, 45.0, 40.0, 37.0, 27.0, 36.0, 23.0, 49.0, 21.0, 32.0, 35.0, 28.0, 59.0, 28.0, 45.0, 45.0, 19.0, 25.0, 37.0, 33.0, 59.0, 31.0, 29.0, 32.0, 41.0, 31.0, 44.0, 23.0, 45.0, 39.0, 67.0, 29.0, 25.0, 28.0, 21.0, 32.0, 51.0, 39.0, 27.0, 31.0, 50.0, 37.11793090137039, 32.0, 47.0, 46.0, 57.0, 23.0, 56.0, 24.0, 27.0, 23.0, 26.0, 34.0, 21.0, 32.0, 33.0, 55.0, 48.0, 35.0, 19.0, 45.0, 28.0, 42.0, 17.0, 30.0, 21.0, 45.0, 33.0, 46.0, 23.0, 37.0, 43.0, 40.0, 59.0, 31.0, 46.0, 37.0, 28.0, 28.0, 55.0, 29.0, 26.0, 27.0, 31.0, 51.0, 50.0, 27.0, 18.0, 46.0, 19.0, 49.0, 31.0, 38.0, 40.0, 35.0, 34.0, 44.0, 23.0, 43.0, 37.11793090137039, 31.0, 27.0, 46.0, 18.0, 57.0, 15.0, 25.0, 50.0, 31.0, 35.0, 27.0, 20.0, 27.0, 33.0, 27.0, 22.0, 28.0, 31.0, 28.0, 53.0, 30.0, 39.0, 40.0, 30.0, 21.0, 35.0, 21.0, 47.0, 38.0, 36.0, 53.0, 34.0, 34.0, 30.0, 28.0, 47.0, 49.0, 36.0, 45.0, 21.0, 18.0, 25.0, 29.0, 57.0, 34.0, 35.0, 37.11793090137039, 18.0, 62.0, 29.0, 25.0, 30.0, 24.0, 52.0, 33.0, 56.0, 49.0, 20.0, 62.0, 62.0, 6.0, 30.0, 57.0, 18.0, 47.0, 48.0, 20.0, 30.0, 36.0, 51.0, 55.0, 48.0, 20.0, 25.0, 26.0, 45.0, 35.0, 34.0, 36.0, 22.0, 63.0, 31.0, 25.0, 57.0, 32.0, 42.0, 52.0, 25.0, 25.0, 31.0, 39.0, 16.0, 24.0, 32.0, 25.0, 28.0, 28.0, 21.0, 30.0, 58.0, 47.0, 41.0, 25.0, 44.0, 34.0, 27.0, 34.0, 29.0, 39.0, 24.0, 47.0, 45.0, 28.0, 50.0, 49.0, 45.0, 24.0, 32.0, 23.0, 52.0, 37.0, 26.0, 58.0, 50.0, 22.0, 53.0, 69.0, 23.0, 29.0, 25.0, 18.0, 31.0, 23.0, 18.0, 35.0, 27.0, 28.0, 26.0, 32.0, 36.0, 66.0, 21.0, 47.0, 24.0, 60.0, 61.0, 38.0, 51.0, 35.0, 46.0, 48.0, 36.0, 33.0, 66.0, 34.0, 55.0, 54.0, 36.0, 25.0, 24.0, 28.0, 36.0, 20.0, 49.0, 51.0, 21.0, 30.0, 32.0, 33.0, 56.0, 48.0, 39.0, 19.0, 45.0, 33.0, 52.0, 51.0, 37.11793090137039, 25.0, 24.0, 22.0, 32.0, 58.0, 24.0, 26.0, 30.0, 31.0, 34.0, 48.0, 37.11793090137039, 21.0, 39.0, 25.0, 30.0, 56.0, 29.0, 19.0, 35.0, 36.0, 24.0, 23.0, 31.0, 41.0, 55.0, 19.0, 38.0, 36.0, 34.0, 52.0, 28.0, 50.0, 37.11793090137039, 55.0, 23.0, 30.0, 54.0, 37.0, 37.0, 30.0, 27.0, 22.0, 29.0, 39.0, 33.0, 52.0, 28.0, 54.0, 38.0, 32.0, 34.0, 26.0, 50.0, 37.0, 45.0, 56.0, 45.0, 32.0, 12.0, 49.0, 58.0, 29.0, 60.0, 40.0, 39.0, 26.0, 24.0, 34.0, 27.0, 44.0, 25.0, 55.0, 19.0, 52.0, 31.0, 26.0, 24.0, 38.0, 33.0, 28.0, 27.0, 39.0, 29.0, 36.0, 55.0, 28.0, 40.0, 33.0, 37.0, 39.0, 43.0, 38.0, 55.0, 52.0, 32.0, 31.0, 27.0, 40.0, 31.0, 30.0, 26.0, 32.0, 33.0, 19.0, 33.0, 29.0, 41.0, 29.0, 38.0, 64.0, 42.0, 46.0, 42.0, 37.0, 25.0, 36.0, 21.0, 30.0, 53.0, 31.0, 22.0, 24.0, 36.0, 47.0, 54.0, 43.0, 38.0, 30.0, 51.0, 55.0, 16.0, 23.0, 36.0, 33.0, 17.0, 22.0, 22.0, 29.0, 41.0, 67.0, 36.0, 52.0, 56.0, 35.0, 45.0, 30.0, 29.0, 53.0, 32.0, 22.0, 24.0, 19.0, 29.0, 50.0, 29.0, 26.0, 39.0, 52.0, 51.0, 48.0, 30.0, 37.0, 30.0, 35.0, 32.0, 25.0, 35.0, 31.0, 30.0, 23.0, 41.0, 45.0, 46.0, 36.0, 31.0, 32.0, 38.0, 33.0, 45.0, 38.0, 22.0, 48.0, 36.0, 26.0, 39.0, 16.0, 58.0, 27.0, 26.0, 21.0, 37.0, 56.0, 19.0, 38.0, 18.0, 35.0, 23.0, 41.0, 44.0, 24.0, 39.0, 22.0, 37.0, 36.0, 41.0, 27.0, 30.0, 34.0, 22.0, 51.0, 42.0, 41.0, 49.0, 45.0, 45.0, 42.0, 41.0, 27.0, 37.0, 22.0, 21.0, 50.0, 23.0, 25.0, 51.0, 46.0, 23.0, 43.0, 37.0, 20.0, 45.0, 16.0, 30.0, 26.0, 24.0, 38.0, 28.0, 29.0, 34.0, 38.0, 43.0, 23.0, 33.0, 40.0, 38.0, 53.0, 29.0, 30.0, 60.0, 25.0, 24.0, 21.0, 23.0, 61.0, 54.0, 62.0, 16.0, 25.0, 28.0, 76.0, 25.0, 33.0, 51.0, 34.0, 30.0, 44.0, 24.0, 29.0, 48.0, 19.0, 22.0, 39.0, 36.0, 55.0, 46.0, 34.0, 27.0, 33.0, 18.0, 33.0, 51.0, 50.0, 46.0, 33.0, 25.0, 52.0, 18.0, 43.0, 34.0, 31.0, 65.0, 37.0, 30.0, 36.0, 25.0, 69.0, 48.0, 50.0, 52.0, 44.0, 60.0, 40.0, 20.0, 45.0, 44.0, 40.0, 25.0, 43.0, 27.0, 19.0, 39.0, 30.0, 28.0, 22.0, 16.0, 40.0, 38.0, 20.0, 35.0, 52.0, 26.0, 54.0, 38.0, 52.0, 26.0, 53.0, 35.0, 22.0, 31.0, 32.0, 37.0, 28.0, 18.0, 41.0, 15.0, 38.0, 41.0, 52.0, 48.0, 29.0, 51.0, 21.0, 24.0, 18.0, 30.0, 33.0, 60.0, 28.0, 26.0, 24.0, 44.0, 34.0, 21.0, 36.0, 37.0, 53.0, 24.0, 45.0, 48.0, 42.0, 33.0, 55.0, 28.0, 25.0, 28.0, 52.0, 59.0, 52.0, 39.0, 40.0, 36.0, 38.0, 26.0, 37.11793090137039, 29.0, 37.0, 29.0, 21.0, 33.0, 23.0, 26.0, 29.0, 33.0, 28.0, 35.0, 33.0, 24.0, 37.11793090137039, 28.0, 19.0, 43.0, 59.0, 34.0, 35.0, 23.0, 36.0, 46.0, 44.0, 20.0, 30.0, 29.0, 35.0, 36.0, 22.0, 31.0, 63.0, 38.0, 31.0, 27.0, 35.0, 22.0, 28.0, 26.0, 22.0, 31.0, 43.0, 24.0, 29.0, 43.0, 21.0, 19.0, 25.0, 59.0, 50.0, 58.0, 25.0, 32.0, 53.0, 38.0, 70.0, 33.0, 36.0, 21.0, 51.0, 43.0, 18.0, 33.0, 34.0, 31.0, 35.0, 31.0, 31.0, 23.0, 25.0, 25.0, 21.0, 49.0, 63.0, 43.0, 34.0, 38.0, 52.0, 68.0, 29.0, 32.0, 50.0, 31.0, 27.0, 31.0, 29.0, 23.0, 61.0, 33.0, 18.0, 80.0, 43.0, 50.0, 47.0, 54.0, 22.0, 43.0, 38.0, 36.0, 30.0, 59.0, 21.0, 34.0, 17.0, 37.0, 25.0, 23.0, 20.0, 19.0, 50.0, 24.0, 25.0, 20.0, 37.0, 44.0, 22.0, 31.0, 25.0, 37.11793090137039, 36.0, 50.0, 42.0, 42.0, 26.0, 19.0, 59.0, 36.0, 51.0, 27.0, 22.0, 30.0, 28.0, 63.0, 32.0, 26.0, 25.0, 27.0, 61.0, 30.0, 37.11793090137039, 37.0, 41.0, 25.0, 24.0, 44.0, 63.0, 58.0, 30.0, 35.0, 50.0, 40.0, 37.11793090137039, 19.0, 34.0, 18.0, 21.0, 29.0, 49.0, 24.0, 37.0, 32.0, 65.0, 37.0, 33.0, 63.0, 30.0, 40.0, 38.0, 50.0, 41.0, 41.0, 39.0, 44.0, 23.0, 32.0, 56.0, 33.0, 63.0, 31.0, 57.0, 26.0, 39.0, 42.0, 29.0, 43.0, 56.0, 31.0, 50.0, 36.0, 50.0, 49.0, 31.0, 34.0, 36.0, 29.0, 32.0, 18.0, 50.0, 36.0, 17.0, 19.0, 24.0, 24.0, 20.0, 33.0, 41.0, 47.0, 18.0, 31.0, 27.0, 36.0, 40.0, 59.0, 32.0, 38.0, 18.0, 23.0, 43.0, 67.0, 32.0, 22.0, 31.0, 43.0, 34.0, 51.0, 31.0, 54.0, 69.0, 58.0, 26.0, 59.0, 25.0, 20.0, 57.0, 56.0, 64.0, 34.0, 69.0, 45.0, 14.0, 44.0, 59.0, 33.0, 54.0, 22.0, 49.0, 23.0, 38.0, 53.0, 36.0, 29.0, 42.0, 36.0, 32.0, 53.0, 30.0, 25.0, 18.0, 55.0, 27.0, 37.0, 29.0, 40.0, 36.0, 38.0, 29.0, 59.0, 47.0, 22.0, 31.0, 29.0, 54.0, 71.0, 36.0, 34.0, 49.0, 36.0, 43.0, 53.0, 31.0, 32.0, 41.0, 26.0, 82.0, 37.0, 24.0, 35.0, 56.0, 22.0, 59.0, 36.0, 21.0, 38.0, 60.0, 18.0, 23.0, 37.11793090137039, 38.0, 22.0, 38.0, 25.0, 25.0, 36.0, 37.11793090137039, 44.0, 36.0, 35.0, 25.0, 31.0, 70.0, 25.0, 55.0, 35.0, 25.0, 32.0, 38.0, 32.0, 64.0, 55.0, 69.0, 37.0, 31.0, 25.0, 25.0, 13.0, 32.0, 69.0, 34.0, 29.0, 29.0, 40.0, 42.0, 25.0, 45.0, 55.0, 22.0, 61.0, 46.0, 30.0, 56.0, 35.0, 22.0, 23.0, 43.0, 43.0, 49.0, 23.0, 41.0, 33.0, 30.0, 25.0, 52.0, 32.0, 46.0, 48.0, 38.0, 26.0, 32.0, 28.0, 53.0, 38.0, 18.0, 32.0, 37.0, 18.0, 20.0, 28.0, 18.0, 16.0, 36.0, 57.0, 49.0, 31.0, 26.0, 51.0, 28.0, 35.0, 57.0, 36.0, 42.0, 37.11793090137039, 49.0, 21.0, 53.0, 62.0, 41.0, 40.0, 27.0, 19.0, 26.0, 44.0, 30.0, 31.0, 33.0, 22.0, 38.0, 46.0, 23.0, 24.0, 26.0, 26.0, 32.0, 50.0, 17.0, 39.0, 28.0, 66.0, 42.0, 34.0, 38.0, 28.0, 29.0, 23.0, 58.0, 21.0, 45.0, 38.0, 40.0, 19.0, 46.0, 25.0, 25.0, 37.0, 25.0, 36.0, 32.0, 33.0, 24.0, 37.0, 38.0, 45.0, 31.0, 34.0, 23.0, 39.0, 55.0, 31.0, 76.0, 59.0, 40.0, 23.0, 26.0, 35.0, 49.0, 36.0, 56.0, 34.0, 43.0, 31.0, 17.0, 32.0, 33.0, 43.0, 31.0, 23.0, 26.0, 45.0, 19.0, 36.0, 41.0, 53.0, 24.0, 37.11793090137039, 37.11793090137039, 40.0, 29.0, 22.0, 21.0, 25.0, 37.0, 37.0, 56.0, 25.0, 26.0, 35.0, 25.0, 29.0, 21.0, 15.0, 24.0, 18.0, 19.0, 27.0, 45.0, 36.0, 34.0, 23.0, 43.0, 19.0, 37.0, 23.0, 26.0, 20.0, 59.0, 33.0, 48.0, 50.0, 18.0, 23.0, 41.0, 41.0, 55.0, 29.0, 31.0, 25.0, 38.0, 37.11793090137039, 83.0, 22.0, 33.0, 36.0, 26.0, 29.0, 55.0, 47.0, 52.0, 49.0, 37.0, 37.0, 36.0, 31.0, 30.0, 37.11793090137039, 35.0, 35.0, 36.0, 39.0, 30.0, 44.0, 24.0, 53.0, 73.0, 31.0, 28.0, 18.0, 32.0, 60.0, 48.0, 33.0, 44.0, 20.0, 37.0, 72.0, 52.0, 46.0, 25.0, 38.0, 27.0, 24.0, 19.0, 31.0, 18.0, 53.0, 48.0, 29.0, 30.0, 61.0, 71.0, 41.0, 36.0, 28.0, 21.0, 46.0, 32.0, 33.0, 42.0, 17.0, 35.0, 23.0, 21.0, 44.0, 53.0, 63.0, 18.0, 51.0, 64.0, 45.0, 20.0, 41.0, 23.0, 32.0, 25.0, 42.0, 41.0, 31.0, 50.0, 38.0, 44.0, 38.0, 21.0, 32.0, 23.0, 41.0, 41.0, 38.0, 54.0, 20.0, 26.0, 29.0, 47.0, 28.0, 48.0, 34.0, 37.0, 33.0, 36.0, 43.0, 32.0, 29.0, 39.0, 40.0, 21.0, 50.0, 19.0, 28.0, 16.0, 49.0, 44.0, 25.0, 39.0, 44.0, 50.0, 57.0, 57.0, 33.0, 21.0, 52.0, 27.0, 60.0, 25.0, 34.0, 22.0, 26.0, 27.0, 29.0, 30.0, 32.0, 18.0, 37.0, 54.0, 50.0, 28.0, 59.0, 24.0, 34.0, 25.0, 25.0, 17.0, 48.0, 45.0, 18.0, 50.0, 36.0, 45.0, 42.0, 37.11793090137039, 23.0, 31.0, 26.0, 57.0, 18.0, 27.0, 41.0, 33.0, 22.0, 38.0, 26.0, 45.0, 68.0, 56.0, 23.0, 45.0, 41.0, 33.0, 22.0, 50.0, 52.0, 35.0, 18.0, 34.0, 51.0, 18.0, 29.0, 34.0, 25.0, 17.0, 26.0, 33.0, 25.0, 31.0, 25.0, 18.0, 45.0, 25.0, 23.0, 55.0, 37.0, 33.0, 27.0, 32.0, 31.0, 26.0, 32.0, 53.0, 19.0, 53.0, 35.0, 64.0, 24.0, 33.0, 55.0, 17.0, 48.0, 21.0, 22.0, 30.0, 34.0, 35.0, 32.0, 22.0, 46.0, 27.0, 18.0, 33.0, 26.0, 27.0, 26.0, 51.0, 63.0, 38.0, 25.0, 39.0, 41.0, 26.0, 30.0, 33.0, 38.0, 24.0, 47.0, 62.0, 30.0, 33.0, 23.0, 39.0, 41.0, 46.0, 36.0, 66.0, 27.0, 40.0, 25.0, 20.0, 43.0, 40.0, 33.0, 34.0, 27.0, 25.0, 37.0, 32.0, 25.0, 38.0, 50.0, 26.0, 70.0, 38.0, 41.0, 91.0, 25.0, 29.0, 24.0, 40.0, 51.0, 30.0, 28.0, 33.0, 23.0, 23.0, 20.0, 56.0, 36.0, 18.0, 43.0, 16.0, 29.0, 25.0, 34.0, 32.0, 58.0, 36.0, 32.0, 25.0, 59.0, 25.0, 25.0, 42.0, 36.0, 59.0, 21.0, 19.0, 45.0, 42.0, 27.0, 45.0, 51.0, 42.0, 24.0, 39.0, 18.0, 26.0, 35.0, 53.0, 54.0, 36.0, 56.0, 51.0, 45.0, 28.0, 36.0, 73.0, 26.0, 41.0, 59.0, 28.0, 45.0, 27.0, 46.0, 34.0, 30.0, 46.0, 47.0, 32.0, 65.0, 19.0, 22.0, 39.0, 38.0, 68.0, 49.0, 37.0, 33.0, 25.0, 36.0, 30.0, 39.0, 28.0, 28.0, 25.0, 57.0, 33.0, 24.0, 33.0, 56.0, 56.0, 16.0, 47.0, 33.0, 32.0, 21.0, 64.0, 19.0, 26.0, 25.0, 17.0, 55.0, 25.0, 43.0, 39.0, 24.0, 70.0, 79.0, 16.0, 35.0, 15.0, 23.0, 53.0, 20.0, 27.0, 53.0, 32.0, 57.0, 26.0, 53.0, 32.0, 25.0, 15.0, 59.0, 35.0, 33.0, 32.0, 49.0, 46.0, 25.0, 20.0, 48.0, 24.0, 18.0, 67.0, 26.0, 54.0, 15.0, 27.0, 26.0, 62.0, 24.0, 32.0, 29.0, 16.0, 25.0, 40.0, 39.0, 34.0, 36.0, 24.0, 50.0, 50.0, 37.11793090137039, 30.0, 35.0, 46.0, 51.0, 37.0, 41.0, 41.0, 48.0, 27.0, 29.0, 47.0, 34.0, 48.0, 41.0, 25.0, 24.0, 38.0, 28.0, 47.0, 65.0, 58.0, 33.0, 43.0, 24.0, 37.0, 31.0, 65.0, 59.0, 74.0, 21.0, 24.0, 37.11793090137039, 23.0, 59.0, 33.0, 34.0, 30.0, 22.0, 37.0, 20.0, 18.0, 24.0, 17.0, 27.0, 51.0, 29.0, 34.0, 18.0, 17.0, 55.0, 44.0, 27.0, 66.0, 45.0, 47.0, 34.0, 37.0, 54.0, 21.0, 21.0, 35.0, 75.0, 33.0, 45.0, 48.0, 58.0, 30.0, 44.0, 82.0, 29.0, 25.0, 53.0, 60.0, 19.0, 63.0, 50.0, 35.0, 45.0, 24.0, 36.0, 35.0, 33.0, 66.0, 54.0, 20.0, 40.0, 41.0, 30.0, 32.0, 24.0, 37.0, 28.0, 48.0, 30.0, 64.0, 21.0, 28.0, 36.0, 40.0, 32.0, 50.0, 28.0, 33.0, 37.0, 17.0, 20.0, 34.0, 37.0, 24.0, 47.0, 20.0, 56.0, 24.0, 47.0, 36.0, 35.0, 37.0, 45.0, 41.0, 23.0, 37.0, 23.0, 33.0, 23.0, 37.0, 19.0, 39.0, 53.0, 51.0, 25.0, 45.0, 28.0, 36.0, 32.0, 39.0, 46.0, 53.0, 42.0, 34.0, 29.0, 53.0, 45.0, 24.0, 51.0, 35.0, 27.0, 33.0, 16.0, 30.0, 22.0, 23.0, 50.0, 28.0, 34.0, 24.0, 54.0, 26.0, 39.0, 34.0, 27.0, 48.0, 47.0, 54.0, 33.0, 40.0, 58.0, 55.0, 47.0, 42.0, 29.0, 40.0, 23.0, 23.0, 25.0, 52.0, 43.0, 37.0, 32.0, 70.0, 24.0, 24.0, 38.0, 52.0, 27.0, 22.0, 42.0, 49.0, 59.0, 41.0, 34.0, 31.0, 23.0, 28.0, 33.0, 16.0, 35.0, 26.0, 62.0, 25.0, 25.0, 31.0, 35.0, 46.0, 39.0, 26.0, 37.0, 32.0, 31.0, 48.0, 29.0, 32.0, 28.0, 43.0, 39.0, 37.0, 39.0, 42.0, 33.0, 25.0, 29.0, 45.0, 27.0, 28.0, 57.0, 15.0, 33.0, 35.0, 47.0, 31.0, 36.0, 54.0, 24.0, 35.0, 32.0, 28.0, 45.0, 29.0, 36.0, 23.0, 17.0, 20.0, 33.0, 49.0, 31.0, 35.0, 24.0, 54.0, 41.0, 50.0, 46.0, 45.0, 20.0, 37.0, 34.0, 54.0, 65.0, 28.0, 26.0, 25.0, 32.0, 44.0, 32.0, 42.0, 66.0, 22.0, 51.0, 64.0, 30.0, 71.0, 30.0, 48.0, 56.0, 26.0, 28.0, 19.0, 24.0, 44.0, 28.0, 47.0, 18.0, 26.0, 33.0, 34.0, 62.0, 24.0, 55.0, 22.0, 46.0, 27.0, 32.0, 22.0, 54.0, 32.0, 45.0, 36.0, 37.0, 47.0, 30.0, 31.0, 44.0, 52.0, 16.0, 29.0, 42.0, 31.0, 41.0, 45.0, 50.0, 26.0, 22.0, 76.0, 58.0, 32.0, 19.0, 25.0, 48.0, 39.0, 31.0, 50.0, 15.0, 48.0, 32.0, 21.0, 37.0, 21.0, 40.0, 33.0, 25.0, 55.0, 53.0, 27.0, 35.0, 25.0, 31.0, 70.0, 40.0, 25.0, 38.0, 26.0, 27.0, 37.11793090137039, 28.0, 40.0, 44.0, 39.0, 24.0, 32.0, 31.0, 50.0, 31.0, 50.0, 45.0, 44.0, 48.0, 39.0, 30.0, 44.0, 28.0, 24.0, 27.0, 34.0, 41.0, 26.0, 38.0, 33.0, 22.0, 40.0, 34.0, 48.0, 37.0, 67.0, 35.0, 29.0, 28.0, 40.0, 31.0, 51.0, 47.0, 52.0, 28.0, 35.0, 25.0, 37.11793090137039, 34.0, 58.0, 24.0, 22.0, 46.0, 61.0, 43.0, 44.0, 35.0, 29.0, 57.0, 42.0, 44.0, 20.0, 32.0, 34.0, 18.0, 31.0, 24.0, 35.0, 34.0, 26.0, 55.0, 38.0, 23.0, 30.0, 44.0, 37.0, 27.0, 43.0, 25.0, 30.0, 35.0, 31.0, 35.0, 37.0, 25.0, 34.0, 33.0, 33.0, 32.0, 34.0, 46.0, 40.0, 27.0, 17.0, 46.0, 50.0, 41.0, 23.0, 33.0, 25.0, 27.0, 39.0, 22.0, 37.0, 27.0, 28.0, 56.0, 71.0, 53.0, 39.0, 56.0, 24.0, 35.0, 30.0, 31.0, 20.0, 35.0, 31.0, 49.0, 54.0, 48.0, 32.0, 35.0, 30.0, 32.0, 31.0, 14.0, 25.0, 32.0, 35.0, 27.0, 23.0, 55.0, 43.0, 62.0, 25.0, 37.11793090137039, 50.0, 19.0, 41.0, 55.0, 19.0, 67.0, 24.0, 44.0, 29.0, 48.0, 22.0, 37.11793090137039, 59.0, 68.0, 25.0, 23.0, 46.0, 25.0, 30.0, 56.0, 24.0, 18.0, 27.0, 26.0, 15.0, 26.0, 32.0, 17.0, 32.0, 43.0, 26.0, 51.0, 39.0, 43.0, 31.0, 22.0, 40.0, 64.0, 30.0, 59.0, 24.0, 32.0, 37.0, 33.0, 42.0, 37.0, 33.0, 62.0, 46.0, 69.0, 24.0, 42.0, 49.0, 35.0, 19.0, 40.0, 34.0, 22.0, 16.0, 69.0, 24.0, 28.0, 51.0, 20.0, 34.0, 27.0, 48.0, 33.0, 6.0, 26.0, 40.0, 46.0, 20.0, 28.0, 30.0, 36.0, 25.0, 28.0, 38.0, 30.0, 31.0, 36.0, 65.0, 42.0, 65.0, 30.0, 49.0, 66.0, 28.0, 27.0, 31.0, 46.0, 28.0, 35.0, 24.0, 17.0, 39.0, 21.0, 21.0, 57.0, 27.0, 62.0, 40.0, 38.0, 27.0, 54.0, 27.0, 51.0, 25.0, 46.0, 20.0, 32.0, 27.0, 21.0, 60.0, 44.0, 23.0, 31.0, 43.0, 39.0, 54.0, 22.0, 37.0, 42.0, 22.0, 42.0, 32.0, 30.0, 53.0, 27.0, 72.0, 29.0, 34.0, 26.0, 22.0, 16.0, 31.0, 58.0, 23.0, 44.0, 46.0, 61.0, 17.0, 46.0, 35.0, 36.0, 28.0, 37.0, 47.0, 35.0, 40.0, 24.0, 18.0, 38.0, 54.0, 27.0, 62.0, 66.0, 47.0, 19.0, 27.0, 23.0, 42.0, 43.0, 42.0, 45.0, 21.0, 43.0, 45.0, 33.0, 38.0, 33.0, 46.0, 52.0, 46.0, 40.0, 20.0, 39.0, 35.0, 31.0, 32.0, 56.0, 37.0, 32.0, 28.0, 26.0, 27.0, 37.11793090137039, 43.0, 49.0, 16.0, 35.0, 19.0, 59.0, 29.0, 37.0, 22.0, 40.0, 35.0, 39.0, 36.0, 78.0, 25.0, 41.0, 63.0, 48.0, 42.0, 39.0, 84.0, 33.0, 52.0, 48.0, 30.0, 29.0, 27.0, 41.0, 57.0, 27.0, 58.0, 59.0, 39.0, 28.0, 28.0, 23.0, 55.0, 33.0, 23.0, 45.0, 37.0, 21.0, 27.0, 39.0, 37.0, 22.0, 26.0, 27.0, 37.0, 58.0, 62.0, 25.0, 36.0, 37.11793090137039, 27.0, 37.0, 25.0, 40.0, 22.0, 29.0, 20.0, 33.0, 48.0, 47.0, 40.0, 29.0, 29.0, 44.0, 36.0, 48.0, 49.0, 38.0, 41.0, 37.11793090137039, 28.0, 33.0, 44.0, 65.0, 35.0, 25.0, 40.0, 36.0, 55.0, 19.0, 70.0, 37.0, 53.0, 84.0, 46.0, 29.0, 27.0, 32.0, 27.0, 38.0, 20.0, 45.0, 32.0, 48.0, 57.0, 34.0, 16.0, 47.0, 61.0, 32.0, 31.0, 46.0, 27.0, 31.0, 26.0, 31.0, 27.0, 49.0, 26.0, 28.0, 62.0, 50.0, 23.0, 40.0, 50.0, 50.0, 27.0, 35.0, 32.0, 56.0, 20.0, 56.0, 39.0, 47.0, 25.0, 21.0, 18.0, 36.0, 35.0, 29.0, 20.0, 30.0, 40.0, 48.0, 23.0, 42.0, 20.0, 25.0, 28.0, 34.0, 41.0, 24.0, 29.0, 33.0, 44.0, 31.0, 26.0, 51.0, 64.0, 29.0, 61.0, 44.0, 39.0, 35.0, 39.0, 60.0, 42.0, 27.0, 21.0, 33.0, 60.0, 24.0, 41.0, 41.0, 34.0, 23.0, 38.0, 58.0, 49.0, 27.0, 34.0, 34.0, 44.0, 30.0, 81.0, 40.0, 27.0, 26.0, 18.0, 59.0, 56.0, 22.0, 34.0, 23.0, 36.0, 48.0, 33.0, 24.0, 25.0, 20.0, 45.0, 29.0, 34.0, 23.0, 29.0, 44.0, 30.0, 28.0, 71.0, 25.0, 61.0, 39.0, 50.0, 37.11793090137039, 23.0, 39.0, 45.0, 34.0, 31.0, 55.0, 39.0, 32.0, 44.0, 24.0, 36.0, 41.0, 25.0, 39.0, 40.0, 32.0, 45.0, 31.0, 32.0, 48.0, 49.0, 48.0, 18.0, 48.0, 25.0, 27.0, 37.0, 44.0, 27.0, 41.0, 42.0, 36.0, 37.0, 56.0, 36.0, 46.0, 26.0, 41.0, 38.0, 42.0, 47.0, 26.0, 64.0, 49.0, 44.0, 48.0, 27.0, 67.0, 24.0, 26.0, 28.0, 21.0, 24.0, 21.0, 73.0, 39.0, 32.0, 38.0, 32.0, 26.0, 55.0, 50.0, 49.0, 48.0, 65.0, 37.0, 45.0, 33.0, 46.0, 33.0, 33.0, 51.0, 52.0, 24.0, 55.0, 28.0, 36.0, 24.0, 20.0, 54.0, 53.0, 36.0, 24.0, 34.0, 59.0, 34.0, 29.0, 24.0, 77.0, 30.0, 36.0, 36.0, 58.0, 47.0, 49.0, 31.0, 25.0, 37.11793090137039, 30.0, 33.0, 29.0, 31.0, 51.0, 42.0, 67.0, 23.0, 34.0, 51.0, 19.0, 29.0, 23.0, 46.0, 42.0, 21.0, 55.0, 37.11793090137039, 43.0, 32.0, 34.0, 40.0, 55.0, 20.0, 24.0, 43.0, 56.0, 47.0, 33.0, 20.0, 28.0, 50.0, 36.0, 47.0, 36.0, 49.0, 34.0, 41.0, 29.0, 34.0, 34.0, 22.0, 26.0, 32.0, 44.0, 21.0, 29.0, 18.0, 33.0, 28.0, 37.11793090137039, 40.0, 40.0, 37.0, 47.0, 33.0, 44.0, 65.0, 20.0, 17.0, 55.0, 33.0, 44.0, 37.0, 32.0, 31.0, 20.0, 30.0, 25.0, 47.0, 48.0, 32.0, 18.0, 29.0, 30.0, 39.0, 36.0, 36.0, 54.0, 27.0, 45.0, 19.0, 36.0, 33.0, 56.0, 33.0, 60.0, 26.0, 52.0, 40.0, 33.0, 41.0, 32.0, 34.0, 26.0, 62.0, 33.0, 55.0, 38.0, 43.0, 38.0, 27.0, 52.0, 37.0, 34.0, 41.0, 40.0, 53.0, 21.0, 34.0, 22.0, 25.0, 16.0, 37.0, 68.0, 25.0, 34.0, 23.0, 25.0, 57.0, 27.0, 51.0, 30.0, 33.0, 37.11793090137039, 19.0, 22.0, 37.0, 19.0, 33.0, 38.0, 45.0, 39.0, 21.0, 56.0, 27.0, 50.0, 16.0, 18.0, 38.0, 32.0, 33.0, 71.0, 30.0, 39.0, 19.0, 44.0, 54.0, 29.0, 37.11793090137039, 56.0, 64.0, 25.0, 18.0, 36.0, 24.0, 30.0, 53.0, 60.0, 32.0, 25.0, 44.0, 32.0, 33.0, 37.11793090137039, 35.0, 23.0, 27.0, 53.0, 35.0, 41.0, 18.0, 34.0, 49.0, 31.0, 29.0, 33.0, 38.0, 43.0, 29.0, 68.0, 62.0, 39.0, 59.0, 24.0, 70.0, 42.0, 26.0, 24.0, 48.0, 54.0, 48.0, 37.0, 40.0, 28.0, 43.0, 35.0, 21.0, 40.0, 32.0, 48.0, 31.0, 37.11793090137039, 58.0, 30.0, 21.0, 15.0, 30.0, 28.0, 21.0, 33.0, 37.11793090137039, 36.0, 38.0, 34.0, 23.0, 44.0, 20.0, 41.0, 18.0, 29.0, 37.0, 41.0, 25.0, 20.0, 34.0, 37.0, 18.0, 72.0, 17.0, 45.0, 49.0, 64.0, 36.0, 61.0, 24.0, 70.0, 40.0, 21.0, 27.0, 23.0, 33.0, 45.0, 19.0, 28.0, 63.0, 37.11793090137039, 39.0, 57.0, 32.0, 38.0, 46.0, 31.0, 40.0, 31.0, 50.0, 29.0, 25.0, 31.0, 23.0, 54.0, 44.0, 43.0, 37.0, 55.0, 40.0, 26.0, 29.0, 29.0, 42.0, 20.0, 34.0, 41.0, 29.0, 19.0, 32.0, 23.0, 41.0, 37.0, 24.0, 54.0, 58.0, 40.0, 27.0, 40.0, 23.0, 33.0, 26.0, 36.0, 38.0, 25.0, 31.0, 48.0, 43.0, 36.0, 39.0, 22.0, 24.0, 36.0, 25.0, 30.0, 76.0, 39.0, 49.0, 21.0, 31.0, 22.0, 27.0, 26.0, 84.0, 17.0, 17.0, 22.0, 41.0, 58.0, 29.0, 19.0, 18.0, 61.0, 18.0, 23.0, 38.0, 19.0, 63.0, 21.0, 25.0, 35.0, 50.0, 34.0, 37.11793090137039, 26.0, 61.0, 18.0, 37.0, 27.0, 24.0, 37.0, 28.0, 44.0, 30.0, 30.0, 34.0, 27.0, 28.0, 42.0, 32.0, 24.0, 17.0, 26.0, 35.0, 25.0, 33.0, 25.0, 29.0, 18.0, 19.0, 39.0, 61.0, 36.0, 72.0, 48.0, 34.0, 36.0, 33.0, 30.0, 61.0, 41.0, 52.0, 26.0, 37.11793090137039, 39.0, 36.0, 47.0, 37.11793090137039, 25.0, 63.0, 24.0, 38.0, 22.0, 59.0, 29.0, 18.0, 29.0, 25.0, 48.0, 60.0, 27.0, 65.0, 41.0, 33.0, 33.0, 22.0, 52.0, 42.0, 48.0, 24.0, 21.0, 20.0, 59.0, 46.0, 23.0, 32.0, 19.0, 64.0, 35.0, 41.0, 42.0, 35.0, 33.0, 32.0, 37.0, 37.0, 65.0, 30.0, 43.0, 18.0, 27.0, 41.0, 41.0, 33.0, 53.0, 42.0, 46.0, 51.0, 16.0, 41.0, 24.0, 23.0, 50.0, 41.0, 23.0, 33.0, 25.0, 30.0, 58.0, 47.0, 22.0, 27.0, 29.0, 43.0, 18.0, 19.0, 37.0, 42.0, 35.0, 50.0, 60.0, 35.0, 47.0, 37.11793090137039, 31.0, 24.0, 27.0, 27.0, 23.0, 57.0, 56.0, 36.0, 37.11793090137039, 37.11793090137039, 24.0, 34.0, 17.0, 21.0, 35.0, 34.0, 56.0, 35.0, 46.0, 42.0, 49.0, 44.0, 45.0, 36.0, 45.0, 34.0, 26.0, 28.0, 35.0, 20.0, 33.0, 39.0, 63.0, 27.0, 33.0, 27.0, 31.0, 33.0, 39.0, 27.0, 32.0, 29.0, 28.0, 50.0, 55.0, 42.0, 36.0, 38.0, 38.0, 35.0, 42.0, 70.0, 29.0, 26.0, 20.0, 30.0, 19.0, 48.0, 58.0, 38.0, 28.0, 34.0, 45.0, 18.0, 25.0, 38.0, 33.0, 39.0, 58.0, 48.0, 14.0, 18.0, 22.0, 46.0, 37.11793090137039, 37.11793090137039, 57.0, 32.0, 31.0, 64.0, 35.0, 42.0, 30.0, 26.0, 37.0, 21.0, 20.0, 46.0, 37.11793090137039, 20.0, 46.0, 24.0, 26.0, 60.0, 25.0, 29.0, 58.0, 59.0, 46.0, 55.0, 27.0, 30.0, 45.0, 51.0, 27.0, 47.0, 52.0, 45.0, 47.0, 68.0, 40.0, 18.0, 35.0, 80.0, 44.0, 31.0, 20.0, 43.0, 25.0, 38.0, 34.0, 58.0, 38.0, 29.0, 40.0, 49.0, 25.0, 21.0, 57.0, 28.0, 25.0, 58.0, 34.0, 34.0, 24.0, 32.0, 58.0, 20.0, 19.0, 46.0, 28.0, 47.0, 47.0, 34.0, 37.11793090137039, 45.0, 17.0, 34.0, 48.0, 32.0, 20.0, 31.0, 16.0, 24.0, 39.0, 26.0, 30.0, 36.0, 28.0, 21.0, 36.0, 28.0, 24.0, 29.0, 44.0, 41.0, 38.0, 40.0, 20.0, 27.0, 51.0, 48.0, 40.0, 29.0, 34.0, 20.0, 47.0, 29.0, 33.0, 46.0, 35.0, 36.0, 63.0, 27.0, 17.0, 22.0, 21.0, 31.0, 56.0, 32.0, 25.0, 47.0, 37.11793090137039, 23.0, 34.0, 51.0, 35.0, 46.0, 59.0, 30.0, 34.0, 44.0, 31.0, 51.0, 34.0, 45.0, 32.0, 31.0, 41.0, 29.0, 47.0, 30.0, 27.0, 38.0, 33.0, 25.0, 47.0, 49.0, 33.0, 36.0, 22.0, 29.0, 52.0, 61.0, 29.0, 37.0, 26.0, 19.0, 45.0, 22.0, 57.0, 46.0, 27.0, 26.0, 30.0, 18.0, 25.0, 51.0, 40.0, 47.0, 38.0, 39.0, 30.0, 42.0, 25.0, 22.0, 30.0, 33.0, 24.0, 31.0, 25.0, 28.0, 19.0, 31.0, 48.0, 53.0, 50.0, 55.0, 37.11793090137039, 37.0, 30.0, 36.0, 24.0, 35.0, 42.0, 37.0, 28.0, 32.0, 33.0, 27.0, 21.0, 47.0, 57.0, 34.0, 34.0, 30.0, 29.0, 28.0, 39.0, 54.0, 27.0, 32.0, 32.0, 47.0, 33.0, 42.0, 37.11793090137039, 24.0, 42.0, 34.0, 46.0, 40.0, 30.0, 42.0, 30.0, 63.0, 18.0, 29.0, 42.0, 32.0, 50.0, 29.0, 29.0, 51.0, 23.0, 47.0, 45.0, 42.0, 26.0, 29.0, 49.0, 17.0, 37.11793090137039, 45.0, 51.0, 37.0, 28.0, 52.0, 37.0, 37.0, 25.0, 35.0, 35.0, 61.0, 33.0, 34.0, 59.0, 32.0, 49.0, 31.0, 29.0, 25.0, 26.0, 37.11793090137039, 39.0, 26.0, 36.0, 45.0, 45.0, 54.0, 43.0, 37.11793090137039, 30.0, 37.11793090137039, 58.0, 39.0, 40.0, 36.0, 27.0, 20.0, 17.0, 59.0, 47.0, 45.0, 34.0, 46.0, 26.0, 21.0, 29.0, 33.0, 47.0, 22.0, 41.0, 28.0, 56.0, 41.0, 35.0, 59.0, 30.0, 49.0, 41.0, 21.0, 62.0, 32.0, 22.0, 58.0, 32.0, 26.0, 35.0, 27.0, 35.0, 23.0, 59.0, 23.0, 43.0, 41.0, 56.0, 45.0, 28.0, 37.11793090137039, 54.0, 39.0, 37.11793090137039, 41.0, 27.0, 70.0, 37.11793090137039, 35.0, 26.0, 58.0, 46.0, 39.0, 33.0, 20.0, 38.0, 41.0, 32.0, 37.11793090137039, 24.0, 19.0, 27.0, 40.0, 61.0, 20.0, 35.0, 17.0, 22.0, 45.0, 20.0, 18.0, 28.0, 38.0, 53.0, 31.0, 48.0, 20.0, 35.0, 22.0, 18.0, 74.0, 33.0, 38.0, 26.0, 41.0, 29.0, 19.0, 61.0, 34.0, 35.0, 43.0, 50.0, 32.0, 50.0, 54.0, 35.0, 33.0, 18.0, 50.0, 41.0, 37.0, 76.0, 19.0, 40.0, 61.0, 61.0, 22.0, 52.0, 23.0, 67.0, 44.0, 23.0, 39.0, 53.0, 39.0, 26.0, 38.0, 49.0, 34.0, 47.0, 34.0, 58.0, 17.0, 21.0, 37.0, 43.0, 61.0, 28.0, 41.0, 23.0, 36.0, 23.0, 26.0, 32.0, 62.0, 33.0, 32.0, 69.0, 35.0, 46.0, 46.0, 22.0, 20.0, 30.0, 49.0, 43.0, 52.0, 56.0, 36.0, 40.0, 52.0, 35.0, 35.0, 53.0, 23.0, 19.0, 41.0, 39.0, 28.0, 28.0, 37.11793090137039, 53.0, 27.0, 31.0, 38.0, 38.0, 41.0, 49.0, 56.0, 62.0, 31.0, 37.0, 37.11793090137039, 28.0, 46.0, 21.0, 30.0, 36.0, 48.0, 34.0, 45.0, 19.0, 32.0, 32.0, 24.0, 65.0, 29.0, 49.0, 19.0, 56.0, 39.0, 43.0, 57.0, 49.0, 18.0, 27.0, 52.0, 37.0, 45.0, 49.0, 38.0, 31.0, 51.0, 37.11793090137039, 51.0, 20.0, 26.0, 25.0, 37.11793090137039, 62.0, 27.0, 33.0, 39.0, 18.0, 27.0, 50.0, 57.0, 29.0, 39.0, 31.0, 34.0, 52.0, 33.0, 37.0, 52.0, 62.0, 30.0, 28.0, 51.0, 23.0, 36.0, 37.0, 49.0, 49.0, 35.0, 17.0, 30.0, 34.0, 46.0, 29.0, 28.0, 43.0, 42.0, 30.0, 24.0, 27.0, 41.0, 47.0, 26.0, 20.0, 18.0, 37.11793090137039, 29.0, 35.0, 77.0, 31.0, 54.0, 33.0, 76.0, 28.0, 31.0, 53.0, 33.0, 37.0, 57.0, 36.0, 39.0, 43.0, 44.0, 33.0, 49.0, 18.0, 21.0, 57.0, 29.0, 58.0, 74.0, 63.0, 28.0, 67.0, 64.0, 32.0, 49.0, 28.0, 31.0, 20.0, 27.0, 38.0, 37.0, 36.0, 35.0, 50.0, 75.0, 32.0, 34.0, 24.0, 37.0, 33.0, 37.0, 55.0, 31.0, 54.0, 37.0, 48.0, 28.0, 31.0, 48.0, 58.0, 19.0, 28.0, 21.0, 57.0, 17.0, 22.0, 26.0, 31.0, 61.0, 54.0, 28.0, 30.0, 30.0, 28.0, 26.0, 28.0, 21.0, 31.0, 27.0, 34.0, 22.0, 29.0, 38.0, 51.0, 34.0, 30.0, 33.0, 21.0, 39.0, 37.0, 34.0, 47.0, 29.0, 29.0, 44.0, 53.0, 45.0, 19.0, 40.0, 33.0, 45.0, 40.0, 27.0, 63.0, 50.0, 25.0, 39.0, 42.0, 25.0, 24.0, 37.11793090137039, 37.11793090137039, 62.0, 34.0, 33.0, 56.0, 22.0, 46.0, 41.0, 38.0, 22.0, 42.0, 29.0, 56.0, 32.0, 31.0, 21.0, 31.0, 48.0, 58.0, 32.0, 45.0, 37.0, 20.0, 34.0, 31.0, 26.0, 32.0, 66.0, 37.0, 38.0, 44.0, 28.0, 22.0, 59.0, 20.0, 39.0, 30.0, 27.0, 37.11793090137039, 37.0, 52.0, 35.0, 33.0, 27.0, 27.0, 41.0, 28.0, 26.0, 37.11793090137039, 34.0, 34.0, 38.0, 32.0, 50.0, 55.0, 51.0, 18.0, 42.0, 36.0, 37.0, 28.0, 24.0, 34.0, 22.0, 42.0, 48.0, 51.0, 40.0, 34.0, 30.0, 31.0, 54.0, 60.0, 40.0, 37.11793090137039, 40.0, 68.0, 68.0, 60.0, 16.0, 25.0, 20.0, 21.0, 38.0, 28.0, 18.0, 37.11793090137039, 26.0, 31.0, 58.0, 31.0, 41.0, 41.0, 41.0, 23.0, 17.0, 35.0, 65.0, 51.0, 47.0, 42.0, 42.0, 31.0, 23.0, 50.0, 47.0, 66.0, 55.0, 68.0, 31.0, 24.0, 30.0, 34.0, 23.0, 43.0, 22.0, 22.0, 42.0, 65.0, 18.0, 23.0, 52.0, 40.0, 27.0, 34.0, 25.0, 28.0, 37.11793090137039, 27.0, 41.0, 27.0, 38.0, 29.0, 47.0, 28.0, 38.0, 21.0, 44.0, 61.0, 25.0, 40.0, 26.0, 57.0, 57.0, 24.0, 46.0, 38.0, 24.0, 34.0, 65.0, 60.0, 59.0, 23.0, 35.0, 35.0, 16.0, 37.11793090137039, 42.0, 43.0, 52.0, 31.0, 27.0, 31.0, 34.0, 29.0, 34.0, 37.11793090137039, 18.0, 51.0, 25.0, 28.0, 37.0, 37.11793090137039, 23.0, 57.0, 49.0, 24.0, 20.0, 25.0, 26.0, 26.0, 41.0, 31.0, 30.0, 25.0, 57.0, 17.0, 27.0, 30.0, 18.0, 50.0, 21.0, 28.0, 28.0, 33.0, 59.0, 34.0, 37.0, 30.0, 47.0, 34.0, 24.0, 25.0, 37.11793090137039, 47.0, 49.0, 31.0, 47.0, 52.0, 29.0, 45.0, 51.0, 55.0, 35.0, 50.0, 31.0, 47.0, 35.0, 66.0, 19.0, 19.0, 43.0, 57.0, 31.0, 41.0, 39.0, 24.0, 20.0, 32.0, 31.0, 22.0, 60.0, 40.0, 37.0, 34.0, 22.0, 30.0, 26.0, 29.0, 32.0, 32.0, 27.0, 31.0, 35.0, 19.0, 34.0, 32.0, 43.0, 22.0, 43.0, 27.0, 39.0, 37.0, 20.0, 34.0, 32.0, 15.0, 52.0, 53.0, 24.0, 41.0, 17.0, 44.0, 56.0, 23.0, 32.0, 26.0, 41.0, 56.0, 33.0, 37.0, 41.0, 38.0, 67.0, 45.0, 48.0, 31.0, 47.0, 40.0, 40.0, 34.0, 51.0, 33.0, 25.0, 41.0, 19.0, 21.0, 58.0, 63.0, 37.11793090137039, 58.0, 16.0, 31.0, 33.0, 40.0, 34.0, 29.0, 27.0, 23.0, 38.0, 17.0, 75.0, 40.0, 36.0, 27.0, 28.0, 20.0, 38.0, 16.0, 30.0, 30.0, 30.0, 36.0, 33.0, 39.0, 22.0, 49.0, 45.0, 45.0, 30.0, 30.0, 31.0, 73.0, 39.0, 37.0, 37.11793090137039, 31.0, 25.0, 24.0, 27.0, 37.11793090137039, 32.0, 43.0, 84.0, 29.0, 31.0, 57.0, 37.0, 29.0, 47.0, 44.0, 38.0, 32.0, 26.0, 21.0, 47.0, 30.0, 62.0, 41.0, 50.0, 37.11793090137039, 31.0, 30.0, 32.0, 20.0, 38.0, 25.0, 47.0, 19.0, 35.0, 58.0, 18.0, 42.0, 39.0, 61.0, 51.0, 28.0, 33.0, 47.0, 39.0, 31.0, 18.0, 23.0, 46.0, 50.0, 34.0, 32.0, 45.0, 31.0, 19.0, 53.0, 55.0, 32.0, 46.0, 26.0, 46.0, 22.0, 38.0, 44.0, 37.0, 52.0, 29.0, 19.0, 66.0, 40.0, 30.0, 69.0, 27.0, 62.0, 37.11793090137039, 39.0, 67.0, 54.0, 29.0, 33.0, 31.0, 38.0, 28.0, 45.0, 59.0, 17.0, 19.0, 36.0, 39.0, 37.11793090137039, 33.0, 31.0, 29.0, 51.0, 35.0, 36.0, 31.0, 39.0, 58.0, 39.0, 24.0, 48.0, 31.0, 37.11793090137039, 43.0, 33.0, 24.0, 40.0, 28.0, 24.0, 27.0, 40.0, 35.0, 42.0, 42.0, 24.0, 59.0, 61.0, 26.0, 32.0, 50.0, 38.0, 29.0, 27.0, 43.0, 21.0, 36.0, 24.0, 32.0, 26.0, 54.0, 44.0, 69.0, 45.0, 26.0, 43.0, 38.0, 21.0, 23.0, 56.0, 33.0, 40.0, 21.0, 20.0, 21.0, 47.0, 38.0, 31.0, 51.0, 19.0, 21.0, 48.0, 42.0, 30.0, 47.0, 57.0, 27.0, 50.0, 37.0, 24.0, 24.0, 30.0, 49.0, 47.0, 31.0, 33.0, 29.0, 42.0, 38.0, 25.0, 39.0, 64.0, 28.0, 32.0, 69.0, 29.0, 45.0, 40.0, 60.0, 22.0, 28.0, 38.0, 28.0, 37.0, 22.0, 42.0, 18.0, 38.0, 58.0, 50.0, 31.0, 35.0, 53.0, 31.0, 35.0, 22.0, 37.11793090137039, 32.0, 39.0, 44.0, 46.0, 49.0, 32.0, 53.0, 25.0, 36.0, 22.0, 33.0, 39.0, 44.0, 25.0, 36.0, 42.0, 24.0, 22.0, 35.0, 38.0, 28.0, 26.0, 62.0, 27.0, 23.0, 25.0, 22.0, 31.0], \"xaxis\": \"x\", \"yaxis\": \"y\"}],\n",
              "                        {\"barmode\": \"relative\", \"height\": 500, \"legend\": {\"tracegroupgap\": 0}, \"template\": {\"data\": {\"bar\": [{\"error_x\": {\"color\": \"#2a3f5f\"}, \"error_y\": {\"color\": \"#2a3f5f\"}, \"marker\": {\"line\": {\"color\": \"#E5ECF6\", \"width\": 0.5}}, \"type\": \"bar\"}], \"barpolar\": [{\"marker\": {\"line\": {\"color\": \"#E5ECF6\", \"width\": 0.5}}, \"type\": \"barpolar\"}], \"carpet\": [{\"aaxis\": {\"endlinecolor\": \"#2a3f5f\", \"gridcolor\": \"white\", \"linecolor\": \"white\", \"minorgridcolor\": \"white\", \"startlinecolor\": \"#2a3f5f\"}, \"baxis\": {\"endlinecolor\": \"#2a3f5f\", \"gridcolor\": \"white\", \"linecolor\": \"white\", \"minorgridcolor\": \"white\", \"startlinecolor\": \"#2a3f5f\"}, \"type\": \"carpet\"}], \"choropleth\": [{\"colorbar\": {\"outlinewidth\": 0, \"ticks\": \"\"}, \"type\": \"choropleth\"}], \"contour\": [{\"colorbar\": {\"outlinewidth\": 0, \"ticks\": \"\"}, \"colorscale\": [[0.0, \"#0d0887\"], [0.1111111111111111, \"#46039f\"], [0.2222222222222222, \"#7201a8\"], [0.3333333333333333, \"#9c179e\"], [0.4444444444444444, \"#bd3786\"], [0.5555555555555556, \"#d8576b\"], [0.6666666666666666, \"#ed7953\"], [0.7777777777777778, \"#fb9f3a\"], [0.8888888888888888, \"#fdca26\"], [1.0, \"#f0f921\"]], \"type\": \"contour\"}], \"contourcarpet\": [{\"colorbar\": {\"outlinewidth\": 0, \"ticks\": \"\"}, \"type\": \"contourcarpet\"}], \"heatmap\": [{\"colorbar\": {\"outlinewidth\": 0, \"ticks\": \"\"}, \"colorscale\": [[0.0, \"#0d0887\"], [0.1111111111111111, \"#46039f\"], [0.2222222222222222, \"#7201a8\"], [0.3333333333333333, \"#9c179e\"], [0.4444444444444444, \"#bd3786\"], [0.5555555555555556, \"#d8576b\"], [0.6666666666666666, \"#ed7953\"], [0.7777777777777778, \"#fb9f3a\"], [0.8888888888888888, \"#fdca26\"], [1.0, \"#f0f921\"]], \"type\": \"heatmap\"}], \"heatmapgl\": [{\"colorbar\": {\"outlinewidth\": 0, \"ticks\": \"\"}, \"colorscale\": [[0.0, \"#0d0887\"], [0.1111111111111111, \"#46039f\"], [0.2222222222222222, \"#7201a8\"], [0.3333333333333333, \"#9c179e\"], [0.4444444444444444, \"#bd3786\"], [0.5555555555555556, \"#d8576b\"], [0.6666666666666666, \"#ed7953\"], [0.7777777777777778, \"#fb9f3a\"], [0.8888888888888888, \"#fdca26\"], [1.0, \"#f0f921\"]], \"type\": \"heatmapgl\"}], \"histogram\": [{\"marker\": {\"colorbar\": {\"outlinewidth\": 0, \"ticks\": \"\"}}, \"type\": \"histogram\"}], \"histogram2d\": [{\"colorbar\": {\"outlinewidth\": 0, \"ticks\": \"\"}, \"colorscale\": [[0.0, \"#0d0887\"], [0.1111111111111111, \"#46039f\"], [0.2222222222222222, \"#7201a8\"], [0.3333333333333333, \"#9c179e\"], [0.4444444444444444, \"#bd3786\"], [0.5555555555555556, \"#d8576b\"], [0.6666666666666666, \"#ed7953\"], [0.7777777777777778, \"#fb9f3a\"], [0.8888888888888888, \"#fdca26\"], [1.0, \"#f0f921\"]], \"type\": \"histogram2d\"}], \"histogram2dcontour\": [{\"colorbar\": {\"outlinewidth\": 0, \"ticks\": \"\"}, \"colorscale\": [[0.0, \"#0d0887\"], [0.1111111111111111, \"#46039f\"], [0.2222222222222222, \"#7201a8\"], [0.3333333333333333, \"#9c179e\"], [0.4444444444444444, \"#bd3786\"], [0.5555555555555556, \"#d8576b\"], [0.6666666666666666, \"#ed7953\"], [0.7777777777777778, \"#fb9f3a\"], [0.8888888888888888, \"#fdca26\"], [1.0, \"#f0f921\"]], \"type\": \"histogram2dcontour\"}], \"mesh3d\": [{\"colorbar\": {\"outlinewidth\": 0, \"ticks\": \"\"}, \"type\": \"mesh3d\"}], \"parcoords\": [{\"line\": {\"colorbar\": {\"outlinewidth\": 0, \"ticks\": \"\"}}, \"type\": \"parcoords\"}], \"pie\": [{\"automargin\": true, \"type\": \"pie\"}], \"scatter\": [{\"marker\": {\"colorbar\": {\"outlinewidth\": 0, \"ticks\": \"\"}}, \"type\": \"scatter\"}], \"scatter3d\": [{\"line\": {\"colorbar\": {\"outlinewidth\": 0, \"ticks\": \"\"}}, \"marker\": {\"colorbar\": {\"outlinewidth\": 0, \"ticks\": \"\"}}, \"type\": \"scatter3d\"}], \"scattercarpet\": [{\"marker\": {\"colorbar\": {\"outlinewidth\": 0, \"ticks\": \"\"}}, \"type\": \"scattercarpet\"}], \"scattergeo\": [{\"marker\": {\"colorbar\": {\"outlinewidth\": 0, \"ticks\": \"\"}}, \"type\": \"scattergeo\"}], \"scattergl\": [{\"marker\": {\"colorbar\": {\"outlinewidth\": 0, \"ticks\": \"\"}}, \"type\": \"scattergl\"}], \"scattermapbox\": [{\"marker\": {\"colorbar\": {\"outlinewidth\": 0, \"ticks\": \"\"}}, \"type\": \"scattermapbox\"}], \"scatterpolar\": [{\"marker\": {\"colorbar\": {\"outlinewidth\": 0, \"ticks\": \"\"}}, \"type\": \"scatterpolar\"}], \"scatterpolargl\": [{\"marker\": {\"colorbar\": {\"outlinewidth\": 0, \"ticks\": \"\"}}, \"type\": \"scatterpolargl\"}], \"scatterternary\": [{\"marker\": {\"colorbar\": {\"outlinewidth\": 0, \"ticks\": \"\"}}, \"type\": \"scatterternary\"}], \"surface\": [{\"colorbar\": {\"outlinewidth\": 0, \"ticks\": \"\"}, \"colorscale\": [[0.0, \"#0d0887\"], [0.1111111111111111, \"#46039f\"], [0.2222222222222222, \"#7201a8\"], [0.3333333333333333, \"#9c179e\"], [0.4444444444444444, \"#bd3786\"], [0.5555555555555556, \"#d8576b\"], [0.6666666666666666, \"#ed7953\"], [0.7777777777777778, \"#fb9f3a\"], [0.8888888888888888, \"#fdca26\"], [1.0, \"#f0f921\"]], \"type\": \"surface\"}], \"table\": [{\"cells\": {\"fill\": {\"color\": \"#EBF0F8\"}, \"line\": {\"color\": \"white\"}}, \"header\": {\"fill\": {\"color\": \"#C8D4E3\"}, \"line\": {\"color\": \"white\"}}, \"type\": \"table\"}]}, \"layout\": {\"annotationdefaults\": {\"arrowcolor\": \"#2a3f5f\", \"arrowhead\": 0, \"arrowwidth\": 1}, \"coloraxis\": {\"colorbar\": {\"outlinewidth\": 0, \"ticks\": \"\"}}, \"colorscale\": {\"diverging\": [[0, \"#8e0152\"], [0.1, \"#c51b7d\"], [0.2, \"#de77ae\"], [0.3, \"#f1b6da\"], [0.4, \"#fde0ef\"], [0.5, \"#f7f7f7\"], [0.6, \"#e6f5d0\"], [0.7, \"#b8e186\"], [0.8, \"#7fbc41\"], [0.9, \"#4d9221\"], [1, \"#276419\"]], \"sequential\": [[0.0, \"#0d0887\"], [0.1111111111111111, \"#46039f\"], [0.2222222222222222, \"#7201a8\"], [0.3333333333333333, \"#9c179e\"], [0.4444444444444444, \"#bd3786\"], [0.5555555555555556, \"#d8576b\"], [0.6666666666666666, \"#ed7953\"], [0.7777777777777778, \"#fb9f3a\"], [0.8888888888888888, \"#fdca26\"], [1.0, \"#f0f921\"]], \"sequentialminus\": [[0.0, \"#0d0887\"], [0.1111111111111111, \"#46039f\"], [0.2222222222222222, \"#7201a8\"], [0.3333333333333333, \"#9c179e\"], [0.4444444444444444, \"#bd3786\"], [0.5555555555555556, \"#d8576b\"], [0.6666666666666666, \"#ed7953\"], [0.7777777777777778, \"#fb9f3a\"], [0.8888888888888888, \"#fdca26\"], [1.0, \"#f0f921\"]]}, \"colorway\": [\"#636efa\", \"#EF553B\", \"#00cc96\", \"#ab63fa\", \"#FFA15A\", \"#19d3f3\", \"#FF6692\", \"#B6E880\", \"#FF97FF\", \"#FECB52\"], \"font\": {\"color\": \"#2a3f5f\"}, \"geo\": {\"bgcolor\": \"white\", \"lakecolor\": \"white\", \"landcolor\": \"#E5ECF6\", \"showlakes\": true, \"showland\": true, \"subunitcolor\": \"white\"}, \"hoverlabel\": {\"align\": \"left\"}, \"hovermode\": \"closest\", \"mapbox\": {\"style\": \"light\"}, \"paper_bgcolor\": \"white\", \"plot_bgcolor\": \"#E5ECF6\", \"polar\": {\"angularaxis\": {\"gridcolor\": \"white\", \"linecolor\": \"white\", \"ticks\": \"\"}, \"bgcolor\": \"#E5ECF6\", \"radialaxis\": {\"gridcolor\": \"white\", \"linecolor\": \"white\", \"ticks\": \"\"}}, \"scene\": {\"xaxis\": {\"backgroundcolor\": \"#E5ECF6\", \"gridcolor\": \"white\", \"gridwidth\": 2, \"linecolor\": \"white\", \"showbackground\": true, \"ticks\": \"\", \"zerolinecolor\": \"white\"}, \"yaxis\": {\"backgroundcolor\": \"#E5ECF6\", \"gridcolor\": \"white\", \"gridwidth\": 2, \"linecolor\": \"white\", \"showbackground\": true, \"ticks\": \"\", \"zerolinecolor\": \"white\"}, \"zaxis\": {\"backgroundcolor\": \"#E5ECF6\", \"gridcolor\": \"white\", \"gridwidth\": 2, \"linecolor\": \"white\", \"showbackground\": true, \"ticks\": \"\", \"zerolinecolor\": \"white\"}}, \"shapedefaults\": {\"line\": {\"color\": \"#2a3f5f\"}}, \"ternary\": {\"aaxis\": {\"gridcolor\": \"white\", \"linecolor\": \"white\", \"ticks\": \"\"}, \"baxis\": {\"gridcolor\": \"white\", \"linecolor\": \"white\", \"ticks\": \"\"}, \"bgcolor\": \"#E5ECF6\", \"caxis\": {\"gridcolor\": \"white\", \"linecolor\": \"white\", \"ticks\": \"\"}}, \"title\": {\"x\": 0.05}, \"xaxis\": {\"automargin\": true, \"gridcolor\": \"white\", \"linecolor\": \"white\", \"ticks\": \"\", \"title\": {\"standoff\": 15}, \"zerolinecolor\": \"white\", \"zerolinewidth\": 2}, \"yaxis\": {\"automargin\": true, \"gridcolor\": \"white\", \"linecolor\": \"white\", \"ticks\": \"\", \"title\": {\"standoff\": 15}, \"zerolinecolor\": \"white\", \"zerolinewidth\": 2}}}, \"title\": {\"text\": \"Age distribution\"}, \"width\": 800, \"xaxis\": {\"anchor\": \"y\", \"domain\": [0.0, 1.0], \"title\": {\"text\": \"age\"}}, \"yaxis\": {\"anchor\": \"x\", \"domain\": [0.0, 1.0], \"title\": {\"text\": \"count\"}}},\n",
              "                        {\"responsive\": true}\n",
              "                    ).then(function(){\n",
              "                            \n",
              "var gd = document.getElementById('955b6faa-44a4-454f-a6dc-9a6d87f8abdb');\n",
              "var x = new MutationObserver(function (mutations, observer) {{\n",
              "        var display = window.getComputedStyle(gd).display;\n",
              "        if (!display || display === 'none') {{\n",
              "            console.log([gd, 'removed!']);\n",
              "            Plotly.purge(gd);\n",
              "            observer.disconnect();\n",
              "        }}\n",
              "}});\n",
              "\n",
              "// Listen for the removal of the full notebook cells\n",
              "var notebookContainer = gd.closest('#notebook-container');\n",
              "if (notebookContainer) {{\n",
              "    x.observe(notebookContainer, {childList: true});\n",
              "}}\n",
              "\n",
              "// Listen for the clearing of the current output cell\n",
              "var outputEl = gd.closest('.output');\n",
              "if (outputEl) {{\n",
              "    x.observe(outputEl, {childList: true});\n",
              "}}\n",
              "\n",
              "                        })\n",
              "                };\n",
              "                \n",
              "            </script>\n",
              "        </div>\n",
              "</body>\n",
              "</html>"
            ]
          },
          "metadata": {
            "tags": []
          }
        }
      ]
    },
    {
      "cell_type": "code",
      "metadata": {
        "id": "B2krg9fImt1V",
        "colab": {
          "base_uri": "https://localhost:8080/",
          "height": 542
        },
        "outputId": "0eaf4f30-bd7c-407b-8eaf-8ac04a16cae9"
      },
      "source": [
        "fig = go.Figure(\n",
        "    data=go.Violin(\n",
        "        y=df['age'], \n",
        "        x0='Age'\n",
        "    )\n",
        ")\n",
        "\n",
        "fig.show()"
      ],
      "execution_count": 39,
      "outputs": [
        {
          "output_type": "display_data",
          "data": {
            "text/html": [
              "<html>\n",
              "<head><meta charset=\"utf-8\" /></head>\n",
              "<body>\n",
              "    <div>\n",
              "            <script src=\"https://cdnjs.cloudflare.com/ajax/libs/mathjax/2.7.5/MathJax.js?config=TeX-AMS-MML_SVG\"></script><script type=\"text/javascript\">if (window.MathJax) {MathJax.Hub.Config({SVG: {font: \"STIX-Web\"}});}</script>\n",
              "                <script type=\"text/javascript\">window.PlotlyConfig = {MathJaxConfig: 'local'};</script>\n",
              "        <script src=\"https://cdn.plot.ly/plotly-latest.min.js\"></script>    \n",
              "            <div id=\"3d29e6d2-a5bd-4aa0-95cc-a7ff46cda5a2\" class=\"plotly-graph-div\" style=\"height:525px; width:100%;\"></div>\n",
              "            <script type=\"text/javascript\">\n",
              "                \n",
              "                    window.PLOTLYENV=window.PLOTLYENV || {};\n",
              "                    \n",
              "                if (document.getElementById(\"3d29e6d2-a5bd-4aa0-95cc-a7ff46cda5a2\")) {\n",
              "                    Plotly.newPlot(\n",
              "                        '3d29e6d2-a5bd-4aa0-95cc-a7ff46cda5a2',\n",
              "                        [{\"type\": \"violin\", \"x0\": \"Age\", \"y\": [53.0, 47.0, 23.0, 32.0, 39.0, 18.0, 22.0, 35.0, 34.0, 47.0, 25.0, 31.0, 41.0, 30.0, 37.0, 28.0, 42.0, 36.0, 49.0, 71.0, 33.0, 39.0, 23.0, 29.0, 34.0, 43.0, 24.0, 29.0, 34.0, 75.0, 68.0, 34.0, 27.0, 39.0, 24.0, 36.0, 33.0, 41.0, 48.0, 21.0, 24.0, 27.0, 32.0, 67.0, 49.0, 42.0, 36.0, 36.0, 19.0, 54.0, 25.0, 17.0, 29.0, 56.0, 61.0, 45.0, 26.0, 40.0, 26.0, 17.0, 68.0, 24.0, 34.0, 39.0, 26.0, 29.0, 33.0, 45.0, 26.0, 35.0, 31.0, 42.0, 48.0, 31.0, 54.0, 59.0, 42.0, 17.0, 23.0, 38.0, 29.0, 45.0, 28.0, 37.0, 28.0, 28.0, 51.0, 36.0, 59.0, 25.0, 26.0, 74.0, 33.0, 27.0, 57.0, 46.0, 41.0, 61.0, 45.0, 49.0, 45.0, 35.0, 23.0, 46.0, 23.0, 21.0, 35.0, 27.0, 37.0, 16.0, 51.0, 34.0, 34.0, 25.0, 56.0, 26.0, 24.0, 43.0, 31.0, 32.0, 30.0, 50.0, 20.0, 31.0, 38.0, 77.0, 37.11793090137039, 41.0, 51.0, 50.0, 47.0, 37.0, 41.0, 16.0, 42.0, 39.0, 30.0, 27.0, 43.0, 42.0, 21.0, 49.0, 34.0, 31.0, 27.0, 24.0, 34.0, 28.0, 28.0, 40.0, 37.0, 17.0, 35.0, 49.0, 43.0, 20.0, 25.0, 25.0, 26.0, 28.0, 45.0, 36.0, 34.0, 19.0, 37.0, 48.0, 29.0, 43.0, 40.0, 35.0, 27.0, 58.0, 46.0, 30.0, 64.0, 31.0, 23.0, 37.0, 37.0, 31.0, 39.0, 31.0, 54.0, 53.0, 25.0, 35.0, 41.0, 59.0, 36.0, 32.0, 53.0, 26.0, 29.0, 27.0, 28.0, 52.0, 49.0, 24.0, 24.0, 20.0, 22.0, 49.0, 64.0, 47.0, 39.0, 18.0, 31.0, 16.0, 20.0, 36.0, 63.0, 34.0, 24.0, 21.0, 44.0, 60.0, 42.0, 37.0, 36.0, 21.0, 24.0, 29.0, 57.0, 38.0, 23.0, 27.0, 28.0, 63.0, 53.0, 35.0, 26.0, 42.0, 41.0, 56.0, 39.0, 23.0, 40.0, 29.0, 26.0, 49.0, 36.0, 21.0, 27.0, 37.0, 36.0, 32.0, 44.0, 27.0, 63.0, 38.0, 17.0, 31.0, 34.0, 50.0, 51.0, 56.0, 23.0, 25.0, 31.0, 32.0, 60.0, 42.0, 39.0, 28.0, 22.0, 29.0, 31.0, 28.0, 21.0, 38.0, 66.0, 36.0, 83.0, 32.0, 27.0, 26.0, 31.0, 22.0, 41.0, 41.0, 51.0, 72.0, 52.0, 47.0, 18.0, 29.0, 23.0, 43.0, 45.0, 40.0, 44.0, 25.0, 37.0, 59.0, 35.0, 35.0, 18.0, 51.0, 30.0, 31.0, 39.0, 26.0, 51.0, 19.0, 46.0, 49.0, 63.0, 20.0, 25.0, 24.0, 58.0, 29.0, 76.0, 45.0, 20.0, 58.0, 21.0, 27.0, 26.0, 33.0, 27.0, 25.0, 53.0, 53.0, 42.0, 22.0, 52.0, 36.0, 30.0, 34.0, 44.0, 53.0, 36.0, 29.0, 32.0, 46.0, 18.0, 38.0, 21.0, 35.0, 58.0, 48.0, 31.0, 47.0, 34.0, 30.0, 28.0, 28.0, 40.0, 46.0, 37.0, 53.0, 41.0, 42.0, 45.0, 34.0, 18.0, 27.0, 54.0, 35.0, 17.0, 29.0, 38.0, 26.0, 52.0, 39.0, 22.0, 29.0, 43.0, 24.0, 32.0, 40.0, 47.0, 40.0, 25.0, 31.0, 36.0, 51.0, 24.0, 62.0, 39.0, 24.0, 57.0, 20.0, 33.0, 60.0, 32.0, 40.0, 18.0, 36.0, 35.0, 55.0, 19.0, 39.0, 47.0, 23.0, 26.0, 26.0, 18.0, 33.0, 56.0, 46.0, 36.0, 50.0, 45.0, 53.0, 45.0, 42.0, 27.0, 30.0, 36.0, 58.0, 30.0, 69.0, 30.0, 45.0, 22.0, 28.0, 19.0, 40.0, 46.0, 28.0, 22.0, 17.0, 46.0, 35.0, 35.0, 28.0, 15.0, 22.0, 28.0, 31.0, 40.0, 48.0, 58.0, 44.0, 21.0, 50.0, 23.0, 24.0, 49.0, 60.0, 35.0, 29.0, 20.0, 34.0, 22.0, 49.0, 32.0, 26.0, 41.0, 61.0, 49.0, 28.0, 35.0, 29.0, 51.0, 52.0, 24.0, 32.0, 45.0, 60.0, 23.0, 46.0, 33.0, 40.0, 27.0, 42.0, 37.0, 23.0, 36.0, 19.0, 35.0, 43.0, 25.0, 20.0, 42.0, 29.0, 42.0, 31.0, 18.0, 33.0, 59.0, 47.0, 39.0, 37.0, 35.0, 28.0, 59.0, 62.0, 50.0, 68.0, 27.0, 17.0, 21.0, 38.0, 54.0, 20.0, 25.0, 31.0, 35.0, 60.0, 24.0, 27.0, 36.0, 20.0, 24.0, 23.0, 41.0, 20.0, 43.0, 29.0, 35.0, 30.0, 24.0, 23.0, 29.0, 25.0, 27.0, 50.0, 19.0, 24.0, 23.0, 22.0, 46.0, 65.0, 43.0, 35.0, 47.0, 24.0, 35.0, 25.0, 27.0, 26.0, 34.0, 32.0, 47.0, 44.0, 31.0, 44.0, 30.0, 60.0, 50.0, 36.0, 59.0, 33.0, 19.0, 56.0, 45.0, 22.0, 34.0, 53.0, 48.0, 25.0, 30.0, 47.0, 33.0, 34.0, 29.0, 63.0, 49.0, 18.0, 71.0, 35.0, 55.0, 31.0, 18.0, 51.0, 39.0, 20.0, 29.0, 40.0, 42.0, 22.0, 19.0, 24.0, 30.0, 53.0, 25.0, 28.0, 24.0, 59.0, 46.0, 15.0, 41.0, 22.0, 24.0, 34.0, 48.0, 24.0, 27.0, 27.0, 27.0, 49.0, 30.0, 38.0, 26.0, 30.0, 53.0, 23.0, 34.0, 30.0, 43.0, 29.0, 47.0, 35.0, 40.0, 18.0, 24.0, 29.0, 44.0, 17.0, 19.0, 50.0, 57.0, 30.0, 38.0, 31.0, 29.0, 26.0, 64.0, 39.0, 57.0, 36.0, 36.0, 21.0, 53.0, 30.0, 34.0, 53.0, 45.0, 22.0, 22.0, 46.0, 27.0, 30.0, 54.0, 29.0, 42.0, 41.0, 28.0, 61.0, 23.0, 25.0, 37.11793090137039, 29.0, 20.0, 40.0, 45.0, 33.0, 76.0, 47.0, 45.0, 40.0, 37.0, 27.0, 36.0, 23.0, 49.0, 21.0, 32.0, 35.0, 28.0, 59.0, 28.0, 45.0, 45.0, 19.0, 25.0, 37.0, 33.0, 59.0, 31.0, 29.0, 32.0, 41.0, 31.0, 44.0, 23.0, 45.0, 39.0, 67.0, 29.0, 25.0, 28.0, 21.0, 32.0, 51.0, 39.0, 27.0, 31.0, 50.0, 37.11793090137039, 32.0, 47.0, 46.0, 57.0, 23.0, 56.0, 24.0, 27.0, 23.0, 26.0, 34.0, 21.0, 32.0, 33.0, 55.0, 48.0, 35.0, 19.0, 45.0, 28.0, 42.0, 17.0, 30.0, 21.0, 45.0, 33.0, 46.0, 23.0, 37.0, 43.0, 40.0, 59.0, 31.0, 46.0, 37.0, 28.0, 28.0, 55.0, 29.0, 26.0, 27.0, 31.0, 51.0, 50.0, 27.0, 18.0, 46.0, 19.0, 49.0, 31.0, 38.0, 40.0, 35.0, 34.0, 44.0, 23.0, 43.0, 37.11793090137039, 31.0, 27.0, 46.0, 18.0, 57.0, 15.0, 25.0, 50.0, 31.0, 35.0, 27.0, 20.0, 27.0, 33.0, 27.0, 22.0, 28.0, 31.0, 28.0, 53.0, 30.0, 39.0, 40.0, 30.0, 21.0, 35.0, 21.0, 47.0, 38.0, 36.0, 53.0, 34.0, 34.0, 30.0, 28.0, 47.0, 49.0, 36.0, 45.0, 21.0, 18.0, 25.0, 29.0, 57.0, 34.0, 35.0, 37.11793090137039, 18.0, 62.0, 29.0, 25.0, 30.0, 24.0, 52.0, 33.0, 56.0, 49.0, 20.0, 62.0, 62.0, 6.0, 30.0, 57.0, 18.0, 47.0, 48.0, 20.0, 30.0, 36.0, 51.0, 55.0, 48.0, 20.0, 25.0, 26.0, 45.0, 35.0, 34.0, 36.0, 22.0, 63.0, 31.0, 25.0, 57.0, 32.0, 42.0, 52.0, 25.0, 25.0, 31.0, 39.0, 16.0, 24.0, 32.0, 25.0, 28.0, 28.0, 21.0, 30.0, 58.0, 47.0, 41.0, 25.0, 44.0, 34.0, 27.0, 34.0, 29.0, 39.0, 24.0, 47.0, 45.0, 28.0, 50.0, 49.0, 45.0, 24.0, 32.0, 23.0, 52.0, 37.0, 26.0, 58.0, 50.0, 22.0, 53.0, 69.0, 23.0, 29.0, 25.0, 18.0, 31.0, 23.0, 18.0, 35.0, 27.0, 28.0, 26.0, 32.0, 36.0, 66.0, 21.0, 47.0, 24.0, 60.0, 61.0, 38.0, 51.0, 35.0, 46.0, 48.0, 36.0, 33.0, 66.0, 34.0, 55.0, 54.0, 36.0, 25.0, 24.0, 28.0, 36.0, 20.0, 49.0, 51.0, 21.0, 30.0, 32.0, 33.0, 56.0, 48.0, 39.0, 19.0, 45.0, 33.0, 52.0, 51.0, 37.11793090137039, 25.0, 24.0, 22.0, 32.0, 58.0, 24.0, 26.0, 30.0, 31.0, 34.0, 48.0, 37.11793090137039, 21.0, 39.0, 25.0, 30.0, 56.0, 29.0, 19.0, 35.0, 36.0, 24.0, 23.0, 31.0, 41.0, 55.0, 19.0, 38.0, 36.0, 34.0, 52.0, 28.0, 50.0, 37.11793090137039, 55.0, 23.0, 30.0, 54.0, 37.0, 37.0, 30.0, 27.0, 22.0, 29.0, 39.0, 33.0, 52.0, 28.0, 54.0, 38.0, 32.0, 34.0, 26.0, 50.0, 37.0, 45.0, 56.0, 45.0, 32.0, 12.0, 49.0, 58.0, 29.0, 60.0, 40.0, 39.0, 26.0, 24.0, 34.0, 27.0, 44.0, 25.0, 55.0, 19.0, 52.0, 31.0, 26.0, 24.0, 38.0, 33.0, 28.0, 27.0, 39.0, 29.0, 36.0, 55.0, 28.0, 40.0, 33.0, 37.0, 39.0, 43.0, 38.0, 55.0, 52.0, 32.0, 31.0, 27.0, 40.0, 31.0, 30.0, 26.0, 32.0, 33.0, 19.0, 33.0, 29.0, 41.0, 29.0, 38.0, 64.0, 42.0, 46.0, 42.0, 37.0, 25.0, 36.0, 21.0, 30.0, 53.0, 31.0, 22.0, 24.0, 36.0, 47.0, 54.0, 43.0, 38.0, 30.0, 51.0, 55.0, 16.0, 23.0, 36.0, 33.0, 17.0, 22.0, 22.0, 29.0, 41.0, 67.0, 36.0, 52.0, 56.0, 35.0, 45.0, 30.0, 29.0, 53.0, 32.0, 22.0, 24.0, 19.0, 29.0, 50.0, 29.0, 26.0, 39.0, 52.0, 51.0, 48.0, 30.0, 37.0, 30.0, 35.0, 32.0, 25.0, 35.0, 31.0, 30.0, 23.0, 41.0, 45.0, 46.0, 36.0, 31.0, 32.0, 38.0, 33.0, 45.0, 38.0, 22.0, 48.0, 36.0, 26.0, 39.0, 16.0, 58.0, 27.0, 26.0, 21.0, 37.0, 56.0, 19.0, 38.0, 18.0, 35.0, 23.0, 41.0, 44.0, 24.0, 39.0, 22.0, 37.0, 36.0, 41.0, 27.0, 30.0, 34.0, 22.0, 51.0, 42.0, 41.0, 49.0, 45.0, 45.0, 42.0, 41.0, 27.0, 37.0, 22.0, 21.0, 50.0, 23.0, 25.0, 51.0, 46.0, 23.0, 43.0, 37.0, 20.0, 45.0, 16.0, 30.0, 26.0, 24.0, 38.0, 28.0, 29.0, 34.0, 38.0, 43.0, 23.0, 33.0, 40.0, 38.0, 53.0, 29.0, 30.0, 60.0, 25.0, 24.0, 21.0, 23.0, 61.0, 54.0, 62.0, 16.0, 25.0, 28.0, 76.0, 25.0, 33.0, 51.0, 34.0, 30.0, 44.0, 24.0, 29.0, 48.0, 19.0, 22.0, 39.0, 36.0, 55.0, 46.0, 34.0, 27.0, 33.0, 18.0, 33.0, 51.0, 50.0, 46.0, 33.0, 25.0, 52.0, 18.0, 43.0, 34.0, 31.0, 65.0, 37.0, 30.0, 36.0, 25.0, 69.0, 48.0, 50.0, 52.0, 44.0, 60.0, 40.0, 20.0, 45.0, 44.0, 40.0, 25.0, 43.0, 27.0, 19.0, 39.0, 30.0, 28.0, 22.0, 16.0, 40.0, 38.0, 20.0, 35.0, 52.0, 26.0, 54.0, 38.0, 52.0, 26.0, 53.0, 35.0, 22.0, 31.0, 32.0, 37.0, 28.0, 18.0, 41.0, 15.0, 38.0, 41.0, 52.0, 48.0, 29.0, 51.0, 21.0, 24.0, 18.0, 30.0, 33.0, 60.0, 28.0, 26.0, 24.0, 44.0, 34.0, 21.0, 36.0, 37.0, 53.0, 24.0, 45.0, 48.0, 42.0, 33.0, 55.0, 28.0, 25.0, 28.0, 52.0, 59.0, 52.0, 39.0, 40.0, 36.0, 38.0, 26.0, 37.11793090137039, 29.0, 37.0, 29.0, 21.0, 33.0, 23.0, 26.0, 29.0, 33.0, 28.0, 35.0, 33.0, 24.0, 37.11793090137039, 28.0, 19.0, 43.0, 59.0, 34.0, 35.0, 23.0, 36.0, 46.0, 44.0, 20.0, 30.0, 29.0, 35.0, 36.0, 22.0, 31.0, 63.0, 38.0, 31.0, 27.0, 35.0, 22.0, 28.0, 26.0, 22.0, 31.0, 43.0, 24.0, 29.0, 43.0, 21.0, 19.0, 25.0, 59.0, 50.0, 58.0, 25.0, 32.0, 53.0, 38.0, 70.0, 33.0, 36.0, 21.0, 51.0, 43.0, 18.0, 33.0, 34.0, 31.0, 35.0, 31.0, 31.0, 23.0, 25.0, 25.0, 21.0, 49.0, 63.0, 43.0, 34.0, 38.0, 52.0, 68.0, 29.0, 32.0, 50.0, 31.0, 27.0, 31.0, 29.0, 23.0, 61.0, 33.0, 18.0, 80.0, 43.0, 50.0, 47.0, 54.0, 22.0, 43.0, 38.0, 36.0, 30.0, 59.0, 21.0, 34.0, 17.0, 37.0, 25.0, 23.0, 20.0, 19.0, 50.0, 24.0, 25.0, 20.0, 37.0, 44.0, 22.0, 31.0, 25.0, 37.11793090137039, 36.0, 50.0, 42.0, 42.0, 26.0, 19.0, 59.0, 36.0, 51.0, 27.0, 22.0, 30.0, 28.0, 63.0, 32.0, 26.0, 25.0, 27.0, 61.0, 30.0, 37.11793090137039, 37.0, 41.0, 25.0, 24.0, 44.0, 63.0, 58.0, 30.0, 35.0, 50.0, 40.0, 37.11793090137039, 19.0, 34.0, 18.0, 21.0, 29.0, 49.0, 24.0, 37.0, 32.0, 65.0, 37.0, 33.0, 63.0, 30.0, 40.0, 38.0, 50.0, 41.0, 41.0, 39.0, 44.0, 23.0, 32.0, 56.0, 33.0, 63.0, 31.0, 57.0, 26.0, 39.0, 42.0, 29.0, 43.0, 56.0, 31.0, 50.0, 36.0, 50.0, 49.0, 31.0, 34.0, 36.0, 29.0, 32.0, 18.0, 50.0, 36.0, 17.0, 19.0, 24.0, 24.0, 20.0, 33.0, 41.0, 47.0, 18.0, 31.0, 27.0, 36.0, 40.0, 59.0, 32.0, 38.0, 18.0, 23.0, 43.0, 67.0, 32.0, 22.0, 31.0, 43.0, 34.0, 51.0, 31.0, 54.0, 69.0, 58.0, 26.0, 59.0, 25.0, 20.0, 57.0, 56.0, 64.0, 34.0, 69.0, 45.0, 14.0, 44.0, 59.0, 33.0, 54.0, 22.0, 49.0, 23.0, 38.0, 53.0, 36.0, 29.0, 42.0, 36.0, 32.0, 53.0, 30.0, 25.0, 18.0, 55.0, 27.0, 37.0, 29.0, 40.0, 36.0, 38.0, 29.0, 59.0, 47.0, 22.0, 31.0, 29.0, 54.0, 71.0, 36.0, 34.0, 49.0, 36.0, 43.0, 53.0, 31.0, 32.0, 41.0, 26.0, 82.0, 37.0, 24.0, 35.0, 56.0, 22.0, 59.0, 36.0, 21.0, 38.0, 60.0, 18.0, 23.0, 37.11793090137039, 38.0, 22.0, 38.0, 25.0, 25.0, 36.0, 37.11793090137039, 44.0, 36.0, 35.0, 25.0, 31.0, 70.0, 25.0, 55.0, 35.0, 25.0, 32.0, 38.0, 32.0, 64.0, 55.0, 69.0, 37.0, 31.0, 25.0, 25.0, 13.0, 32.0, 69.0, 34.0, 29.0, 29.0, 40.0, 42.0, 25.0, 45.0, 55.0, 22.0, 61.0, 46.0, 30.0, 56.0, 35.0, 22.0, 23.0, 43.0, 43.0, 49.0, 23.0, 41.0, 33.0, 30.0, 25.0, 52.0, 32.0, 46.0, 48.0, 38.0, 26.0, 32.0, 28.0, 53.0, 38.0, 18.0, 32.0, 37.0, 18.0, 20.0, 28.0, 18.0, 16.0, 36.0, 57.0, 49.0, 31.0, 26.0, 51.0, 28.0, 35.0, 57.0, 36.0, 42.0, 37.11793090137039, 49.0, 21.0, 53.0, 62.0, 41.0, 40.0, 27.0, 19.0, 26.0, 44.0, 30.0, 31.0, 33.0, 22.0, 38.0, 46.0, 23.0, 24.0, 26.0, 26.0, 32.0, 50.0, 17.0, 39.0, 28.0, 66.0, 42.0, 34.0, 38.0, 28.0, 29.0, 23.0, 58.0, 21.0, 45.0, 38.0, 40.0, 19.0, 46.0, 25.0, 25.0, 37.0, 25.0, 36.0, 32.0, 33.0, 24.0, 37.0, 38.0, 45.0, 31.0, 34.0, 23.0, 39.0, 55.0, 31.0, 76.0, 59.0, 40.0, 23.0, 26.0, 35.0, 49.0, 36.0, 56.0, 34.0, 43.0, 31.0, 17.0, 32.0, 33.0, 43.0, 31.0, 23.0, 26.0, 45.0, 19.0, 36.0, 41.0, 53.0, 24.0, 37.11793090137039, 37.11793090137039, 40.0, 29.0, 22.0, 21.0, 25.0, 37.0, 37.0, 56.0, 25.0, 26.0, 35.0, 25.0, 29.0, 21.0, 15.0, 24.0, 18.0, 19.0, 27.0, 45.0, 36.0, 34.0, 23.0, 43.0, 19.0, 37.0, 23.0, 26.0, 20.0, 59.0, 33.0, 48.0, 50.0, 18.0, 23.0, 41.0, 41.0, 55.0, 29.0, 31.0, 25.0, 38.0, 37.11793090137039, 83.0, 22.0, 33.0, 36.0, 26.0, 29.0, 55.0, 47.0, 52.0, 49.0, 37.0, 37.0, 36.0, 31.0, 30.0, 37.11793090137039, 35.0, 35.0, 36.0, 39.0, 30.0, 44.0, 24.0, 53.0, 73.0, 31.0, 28.0, 18.0, 32.0, 60.0, 48.0, 33.0, 44.0, 20.0, 37.0, 72.0, 52.0, 46.0, 25.0, 38.0, 27.0, 24.0, 19.0, 31.0, 18.0, 53.0, 48.0, 29.0, 30.0, 61.0, 71.0, 41.0, 36.0, 28.0, 21.0, 46.0, 32.0, 33.0, 42.0, 17.0, 35.0, 23.0, 21.0, 44.0, 53.0, 63.0, 18.0, 51.0, 64.0, 45.0, 20.0, 41.0, 23.0, 32.0, 25.0, 42.0, 41.0, 31.0, 50.0, 38.0, 44.0, 38.0, 21.0, 32.0, 23.0, 41.0, 41.0, 38.0, 54.0, 20.0, 26.0, 29.0, 47.0, 28.0, 48.0, 34.0, 37.0, 33.0, 36.0, 43.0, 32.0, 29.0, 39.0, 40.0, 21.0, 50.0, 19.0, 28.0, 16.0, 49.0, 44.0, 25.0, 39.0, 44.0, 50.0, 57.0, 57.0, 33.0, 21.0, 52.0, 27.0, 60.0, 25.0, 34.0, 22.0, 26.0, 27.0, 29.0, 30.0, 32.0, 18.0, 37.0, 54.0, 50.0, 28.0, 59.0, 24.0, 34.0, 25.0, 25.0, 17.0, 48.0, 45.0, 18.0, 50.0, 36.0, 45.0, 42.0, 37.11793090137039, 23.0, 31.0, 26.0, 57.0, 18.0, 27.0, 41.0, 33.0, 22.0, 38.0, 26.0, 45.0, 68.0, 56.0, 23.0, 45.0, 41.0, 33.0, 22.0, 50.0, 52.0, 35.0, 18.0, 34.0, 51.0, 18.0, 29.0, 34.0, 25.0, 17.0, 26.0, 33.0, 25.0, 31.0, 25.0, 18.0, 45.0, 25.0, 23.0, 55.0, 37.0, 33.0, 27.0, 32.0, 31.0, 26.0, 32.0, 53.0, 19.0, 53.0, 35.0, 64.0, 24.0, 33.0, 55.0, 17.0, 48.0, 21.0, 22.0, 30.0, 34.0, 35.0, 32.0, 22.0, 46.0, 27.0, 18.0, 33.0, 26.0, 27.0, 26.0, 51.0, 63.0, 38.0, 25.0, 39.0, 41.0, 26.0, 30.0, 33.0, 38.0, 24.0, 47.0, 62.0, 30.0, 33.0, 23.0, 39.0, 41.0, 46.0, 36.0, 66.0, 27.0, 40.0, 25.0, 20.0, 43.0, 40.0, 33.0, 34.0, 27.0, 25.0, 37.0, 32.0, 25.0, 38.0, 50.0, 26.0, 70.0, 38.0, 41.0, 91.0, 25.0, 29.0, 24.0, 40.0, 51.0, 30.0, 28.0, 33.0, 23.0, 23.0, 20.0, 56.0, 36.0, 18.0, 43.0, 16.0, 29.0, 25.0, 34.0, 32.0, 58.0, 36.0, 32.0, 25.0, 59.0, 25.0, 25.0, 42.0, 36.0, 59.0, 21.0, 19.0, 45.0, 42.0, 27.0, 45.0, 51.0, 42.0, 24.0, 39.0, 18.0, 26.0, 35.0, 53.0, 54.0, 36.0, 56.0, 51.0, 45.0, 28.0, 36.0, 73.0, 26.0, 41.0, 59.0, 28.0, 45.0, 27.0, 46.0, 34.0, 30.0, 46.0, 47.0, 32.0, 65.0, 19.0, 22.0, 39.0, 38.0, 68.0, 49.0, 37.0, 33.0, 25.0, 36.0, 30.0, 39.0, 28.0, 28.0, 25.0, 57.0, 33.0, 24.0, 33.0, 56.0, 56.0, 16.0, 47.0, 33.0, 32.0, 21.0, 64.0, 19.0, 26.0, 25.0, 17.0, 55.0, 25.0, 43.0, 39.0, 24.0, 70.0, 79.0, 16.0, 35.0, 15.0, 23.0, 53.0, 20.0, 27.0, 53.0, 32.0, 57.0, 26.0, 53.0, 32.0, 25.0, 15.0, 59.0, 35.0, 33.0, 32.0, 49.0, 46.0, 25.0, 20.0, 48.0, 24.0, 18.0, 67.0, 26.0, 54.0, 15.0, 27.0, 26.0, 62.0, 24.0, 32.0, 29.0, 16.0, 25.0, 40.0, 39.0, 34.0, 36.0, 24.0, 50.0, 50.0, 37.11793090137039, 30.0, 35.0, 46.0, 51.0, 37.0, 41.0, 41.0, 48.0, 27.0, 29.0, 47.0, 34.0, 48.0, 41.0, 25.0, 24.0, 38.0, 28.0, 47.0, 65.0, 58.0, 33.0, 43.0, 24.0, 37.0, 31.0, 65.0, 59.0, 74.0, 21.0, 24.0, 37.11793090137039, 23.0, 59.0, 33.0, 34.0, 30.0, 22.0, 37.0, 20.0, 18.0, 24.0, 17.0, 27.0, 51.0, 29.0, 34.0, 18.0, 17.0, 55.0, 44.0, 27.0, 66.0, 45.0, 47.0, 34.0, 37.0, 54.0, 21.0, 21.0, 35.0, 75.0, 33.0, 45.0, 48.0, 58.0, 30.0, 44.0, 82.0, 29.0, 25.0, 53.0, 60.0, 19.0, 63.0, 50.0, 35.0, 45.0, 24.0, 36.0, 35.0, 33.0, 66.0, 54.0, 20.0, 40.0, 41.0, 30.0, 32.0, 24.0, 37.0, 28.0, 48.0, 30.0, 64.0, 21.0, 28.0, 36.0, 40.0, 32.0, 50.0, 28.0, 33.0, 37.0, 17.0, 20.0, 34.0, 37.0, 24.0, 47.0, 20.0, 56.0, 24.0, 47.0, 36.0, 35.0, 37.0, 45.0, 41.0, 23.0, 37.0, 23.0, 33.0, 23.0, 37.0, 19.0, 39.0, 53.0, 51.0, 25.0, 45.0, 28.0, 36.0, 32.0, 39.0, 46.0, 53.0, 42.0, 34.0, 29.0, 53.0, 45.0, 24.0, 51.0, 35.0, 27.0, 33.0, 16.0, 30.0, 22.0, 23.0, 50.0, 28.0, 34.0, 24.0, 54.0, 26.0, 39.0, 34.0, 27.0, 48.0, 47.0, 54.0, 33.0, 40.0, 58.0, 55.0, 47.0, 42.0, 29.0, 40.0, 23.0, 23.0, 25.0, 52.0, 43.0, 37.0, 32.0, 70.0, 24.0, 24.0, 38.0, 52.0, 27.0, 22.0, 42.0, 49.0, 59.0, 41.0, 34.0, 31.0, 23.0, 28.0, 33.0, 16.0, 35.0, 26.0, 62.0, 25.0, 25.0, 31.0, 35.0, 46.0, 39.0, 26.0, 37.0, 32.0, 31.0, 48.0, 29.0, 32.0, 28.0, 43.0, 39.0, 37.0, 39.0, 42.0, 33.0, 25.0, 29.0, 45.0, 27.0, 28.0, 57.0, 15.0, 33.0, 35.0, 47.0, 31.0, 36.0, 54.0, 24.0, 35.0, 32.0, 28.0, 45.0, 29.0, 36.0, 23.0, 17.0, 20.0, 33.0, 49.0, 31.0, 35.0, 24.0, 54.0, 41.0, 50.0, 46.0, 45.0, 20.0, 37.0, 34.0, 54.0, 65.0, 28.0, 26.0, 25.0, 32.0, 44.0, 32.0, 42.0, 66.0, 22.0, 51.0, 64.0, 30.0, 71.0, 30.0, 48.0, 56.0, 26.0, 28.0, 19.0, 24.0, 44.0, 28.0, 47.0, 18.0, 26.0, 33.0, 34.0, 62.0, 24.0, 55.0, 22.0, 46.0, 27.0, 32.0, 22.0, 54.0, 32.0, 45.0, 36.0, 37.0, 47.0, 30.0, 31.0, 44.0, 52.0, 16.0, 29.0, 42.0, 31.0, 41.0, 45.0, 50.0, 26.0, 22.0, 76.0, 58.0, 32.0, 19.0, 25.0, 48.0, 39.0, 31.0, 50.0, 15.0, 48.0, 32.0, 21.0, 37.0, 21.0, 40.0, 33.0, 25.0, 55.0, 53.0, 27.0, 35.0, 25.0, 31.0, 70.0, 40.0, 25.0, 38.0, 26.0, 27.0, 37.11793090137039, 28.0, 40.0, 44.0, 39.0, 24.0, 32.0, 31.0, 50.0, 31.0, 50.0, 45.0, 44.0, 48.0, 39.0, 30.0, 44.0, 28.0, 24.0, 27.0, 34.0, 41.0, 26.0, 38.0, 33.0, 22.0, 40.0, 34.0, 48.0, 37.0, 67.0, 35.0, 29.0, 28.0, 40.0, 31.0, 51.0, 47.0, 52.0, 28.0, 35.0, 25.0, 37.11793090137039, 34.0, 58.0, 24.0, 22.0, 46.0, 61.0, 43.0, 44.0, 35.0, 29.0, 57.0, 42.0, 44.0, 20.0, 32.0, 34.0, 18.0, 31.0, 24.0, 35.0, 34.0, 26.0, 55.0, 38.0, 23.0, 30.0, 44.0, 37.0, 27.0, 43.0, 25.0, 30.0, 35.0, 31.0, 35.0, 37.0, 25.0, 34.0, 33.0, 33.0, 32.0, 34.0, 46.0, 40.0, 27.0, 17.0, 46.0, 50.0, 41.0, 23.0, 33.0, 25.0, 27.0, 39.0, 22.0, 37.0, 27.0, 28.0, 56.0, 71.0, 53.0, 39.0, 56.0, 24.0, 35.0, 30.0, 31.0, 20.0, 35.0, 31.0, 49.0, 54.0, 48.0, 32.0, 35.0, 30.0, 32.0, 31.0, 14.0, 25.0, 32.0, 35.0, 27.0, 23.0, 55.0, 43.0, 62.0, 25.0, 37.11793090137039, 50.0, 19.0, 41.0, 55.0, 19.0, 67.0, 24.0, 44.0, 29.0, 48.0, 22.0, 37.11793090137039, 59.0, 68.0, 25.0, 23.0, 46.0, 25.0, 30.0, 56.0, 24.0, 18.0, 27.0, 26.0, 15.0, 26.0, 32.0, 17.0, 32.0, 43.0, 26.0, 51.0, 39.0, 43.0, 31.0, 22.0, 40.0, 64.0, 30.0, 59.0, 24.0, 32.0, 37.0, 33.0, 42.0, 37.0, 33.0, 62.0, 46.0, 69.0, 24.0, 42.0, 49.0, 35.0, 19.0, 40.0, 34.0, 22.0, 16.0, 69.0, 24.0, 28.0, 51.0, 20.0, 34.0, 27.0, 48.0, 33.0, 6.0, 26.0, 40.0, 46.0, 20.0, 28.0, 30.0, 36.0, 25.0, 28.0, 38.0, 30.0, 31.0, 36.0, 65.0, 42.0, 65.0, 30.0, 49.0, 66.0, 28.0, 27.0, 31.0, 46.0, 28.0, 35.0, 24.0, 17.0, 39.0, 21.0, 21.0, 57.0, 27.0, 62.0, 40.0, 38.0, 27.0, 54.0, 27.0, 51.0, 25.0, 46.0, 20.0, 32.0, 27.0, 21.0, 60.0, 44.0, 23.0, 31.0, 43.0, 39.0, 54.0, 22.0, 37.0, 42.0, 22.0, 42.0, 32.0, 30.0, 53.0, 27.0, 72.0, 29.0, 34.0, 26.0, 22.0, 16.0, 31.0, 58.0, 23.0, 44.0, 46.0, 61.0, 17.0, 46.0, 35.0, 36.0, 28.0, 37.0, 47.0, 35.0, 40.0, 24.0, 18.0, 38.0, 54.0, 27.0, 62.0, 66.0, 47.0, 19.0, 27.0, 23.0, 42.0, 43.0, 42.0, 45.0, 21.0, 43.0, 45.0, 33.0, 38.0, 33.0, 46.0, 52.0, 46.0, 40.0, 20.0, 39.0, 35.0, 31.0, 32.0, 56.0, 37.0, 32.0, 28.0, 26.0, 27.0, 37.11793090137039, 43.0, 49.0, 16.0, 35.0, 19.0, 59.0, 29.0, 37.0, 22.0, 40.0, 35.0, 39.0, 36.0, 78.0, 25.0, 41.0, 63.0, 48.0, 42.0, 39.0, 84.0, 33.0, 52.0, 48.0, 30.0, 29.0, 27.0, 41.0, 57.0, 27.0, 58.0, 59.0, 39.0, 28.0, 28.0, 23.0, 55.0, 33.0, 23.0, 45.0, 37.0, 21.0, 27.0, 39.0, 37.0, 22.0, 26.0, 27.0, 37.0, 58.0, 62.0, 25.0, 36.0, 37.11793090137039, 27.0, 37.0, 25.0, 40.0, 22.0, 29.0, 20.0, 33.0, 48.0, 47.0, 40.0, 29.0, 29.0, 44.0, 36.0, 48.0, 49.0, 38.0, 41.0, 37.11793090137039, 28.0, 33.0, 44.0, 65.0, 35.0, 25.0, 40.0, 36.0, 55.0, 19.0, 70.0, 37.0, 53.0, 84.0, 46.0, 29.0, 27.0, 32.0, 27.0, 38.0, 20.0, 45.0, 32.0, 48.0, 57.0, 34.0, 16.0, 47.0, 61.0, 32.0, 31.0, 46.0, 27.0, 31.0, 26.0, 31.0, 27.0, 49.0, 26.0, 28.0, 62.0, 50.0, 23.0, 40.0, 50.0, 50.0, 27.0, 35.0, 32.0, 56.0, 20.0, 56.0, 39.0, 47.0, 25.0, 21.0, 18.0, 36.0, 35.0, 29.0, 20.0, 30.0, 40.0, 48.0, 23.0, 42.0, 20.0, 25.0, 28.0, 34.0, 41.0, 24.0, 29.0, 33.0, 44.0, 31.0, 26.0, 51.0, 64.0, 29.0, 61.0, 44.0, 39.0, 35.0, 39.0, 60.0, 42.0, 27.0, 21.0, 33.0, 60.0, 24.0, 41.0, 41.0, 34.0, 23.0, 38.0, 58.0, 49.0, 27.0, 34.0, 34.0, 44.0, 30.0, 81.0, 40.0, 27.0, 26.0, 18.0, 59.0, 56.0, 22.0, 34.0, 23.0, 36.0, 48.0, 33.0, 24.0, 25.0, 20.0, 45.0, 29.0, 34.0, 23.0, 29.0, 44.0, 30.0, 28.0, 71.0, 25.0, 61.0, 39.0, 50.0, 37.11793090137039, 23.0, 39.0, 45.0, 34.0, 31.0, 55.0, 39.0, 32.0, 44.0, 24.0, 36.0, 41.0, 25.0, 39.0, 40.0, 32.0, 45.0, 31.0, 32.0, 48.0, 49.0, 48.0, 18.0, 48.0, 25.0, 27.0, 37.0, 44.0, 27.0, 41.0, 42.0, 36.0, 37.0, 56.0, 36.0, 46.0, 26.0, 41.0, 38.0, 42.0, 47.0, 26.0, 64.0, 49.0, 44.0, 48.0, 27.0, 67.0, 24.0, 26.0, 28.0, 21.0, 24.0, 21.0, 73.0, 39.0, 32.0, 38.0, 32.0, 26.0, 55.0, 50.0, 49.0, 48.0, 65.0, 37.0, 45.0, 33.0, 46.0, 33.0, 33.0, 51.0, 52.0, 24.0, 55.0, 28.0, 36.0, 24.0, 20.0, 54.0, 53.0, 36.0, 24.0, 34.0, 59.0, 34.0, 29.0, 24.0, 77.0, 30.0, 36.0, 36.0, 58.0, 47.0, 49.0, 31.0, 25.0, 37.11793090137039, 30.0, 33.0, 29.0, 31.0, 51.0, 42.0, 67.0, 23.0, 34.0, 51.0, 19.0, 29.0, 23.0, 46.0, 42.0, 21.0, 55.0, 37.11793090137039, 43.0, 32.0, 34.0, 40.0, 55.0, 20.0, 24.0, 43.0, 56.0, 47.0, 33.0, 20.0, 28.0, 50.0, 36.0, 47.0, 36.0, 49.0, 34.0, 41.0, 29.0, 34.0, 34.0, 22.0, 26.0, 32.0, 44.0, 21.0, 29.0, 18.0, 33.0, 28.0, 37.11793090137039, 40.0, 40.0, 37.0, 47.0, 33.0, 44.0, 65.0, 20.0, 17.0, 55.0, 33.0, 44.0, 37.0, 32.0, 31.0, 20.0, 30.0, 25.0, 47.0, 48.0, 32.0, 18.0, 29.0, 30.0, 39.0, 36.0, 36.0, 54.0, 27.0, 45.0, 19.0, 36.0, 33.0, 56.0, 33.0, 60.0, 26.0, 52.0, 40.0, 33.0, 41.0, 32.0, 34.0, 26.0, 62.0, 33.0, 55.0, 38.0, 43.0, 38.0, 27.0, 52.0, 37.0, 34.0, 41.0, 40.0, 53.0, 21.0, 34.0, 22.0, 25.0, 16.0, 37.0, 68.0, 25.0, 34.0, 23.0, 25.0, 57.0, 27.0, 51.0, 30.0, 33.0, 37.11793090137039, 19.0, 22.0, 37.0, 19.0, 33.0, 38.0, 45.0, 39.0, 21.0, 56.0, 27.0, 50.0, 16.0, 18.0, 38.0, 32.0, 33.0, 71.0, 30.0, 39.0, 19.0, 44.0, 54.0, 29.0, 37.11793090137039, 56.0, 64.0, 25.0, 18.0, 36.0, 24.0, 30.0, 53.0, 60.0, 32.0, 25.0, 44.0, 32.0, 33.0, 37.11793090137039, 35.0, 23.0, 27.0, 53.0, 35.0, 41.0, 18.0, 34.0, 49.0, 31.0, 29.0, 33.0, 38.0, 43.0, 29.0, 68.0, 62.0, 39.0, 59.0, 24.0, 70.0, 42.0, 26.0, 24.0, 48.0, 54.0, 48.0, 37.0, 40.0, 28.0, 43.0, 35.0, 21.0, 40.0, 32.0, 48.0, 31.0, 37.11793090137039, 58.0, 30.0, 21.0, 15.0, 30.0, 28.0, 21.0, 33.0, 37.11793090137039, 36.0, 38.0, 34.0, 23.0, 44.0, 20.0, 41.0, 18.0, 29.0, 37.0, 41.0, 25.0, 20.0, 34.0, 37.0, 18.0, 72.0, 17.0, 45.0, 49.0, 64.0, 36.0, 61.0, 24.0, 70.0, 40.0, 21.0, 27.0, 23.0, 33.0, 45.0, 19.0, 28.0, 63.0, 37.11793090137039, 39.0, 57.0, 32.0, 38.0, 46.0, 31.0, 40.0, 31.0, 50.0, 29.0, 25.0, 31.0, 23.0, 54.0, 44.0, 43.0, 37.0, 55.0, 40.0, 26.0, 29.0, 29.0, 42.0, 20.0, 34.0, 41.0, 29.0, 19.0, 32.0, 23.0, 41.0, 37.0, 24.0, 54.0, 58.0, 40.0, 27.0, 40.0, 23.0, 33.0, 26.0, 36.0, 38.0, 25.0, 31.0, 48.0, 43.0, 36.0, 39.0, 22.0, 24.0, 36.0, 25.0, 30.0, 76.0, 39.0, 49.0, 21.0, 31.0, 22.0, 27.0, 26.0, 84.0, 17.0, 17.0, 22.0, 41.0, 58.0, 29.0, 19.0, 18.0, 61.0, 18.0, 23.0, 38.0, 19.0, 63.0, 21.0, 25.0, 35.0, 50.0, 34.0, 37.11793090137039, 26.0, 61.0, 18.0, 37.0, 27.0, 24.0, 37.0, 28.0, 44.0, 30.0, 30.0, 34.0, 27.0, 28.0, 42.0, 32.0, 24.0, 17.0, 26.0, 35.0, 25.0, 33.0, 25.0, 29.0, 18.0, 19.0, 39.0, 61.0, 36.0, 72.0, 48.0, 34.0, 36.0, 33.0, 30.0, 61.0, 41.0, 52.0, 26.0, 37.11793090137039, 39.0, 36.0, 47.0, 37.11793090137039, 25.0, 63.0, 24.0, 38.0, 22.0, 59.0, 29.0, 18.0, 29.0, 25.0, 48.0, 60.0, 27.0, 65.0, 41.0, 33.0, 33.0, 22.0, 52.0, 42.0, 48.0, 24.0, 21.0, 20.0, 59.0, 46.0, 23.0, 32.0, 19.0, 64.0, 35.0, 41.0, 42.0, 35.0, 33.0, 32.0, 37.0, 37.0, 65.0, 30.0, 43.0, 18.0, 27.0, 41.0, 41.0, 33.0, 53.0, 42.0, 46.0, 51.0, 16.0, 41.0, 24.0, 23.0, 50.0, 41.0, 23.0, 33.0, 25.0, 30.0, 58.0, 47.0, 22.0, 27.0, 29.0, 43.0, 18.0, 19.0, 37.0, 42.0, 35.0, 50.0, 60.0, 35.0, 47.0, 37.11793090137039, 31.0, 24.0, 27.0, 27.0, 23.0, 57.0, 56.0, 36.0, 37.11793090137039, 37.11793090137039, 24.0, 34.0, 17.0, 21.0, 35.0, 34.0, 56.0, 35.0, 46.0, 42.0, 49.0, 44.0, 45.0, 36.0, 45.0, 34.0, 26.0, 28.0, 35.0, 20.0, 33.0, 39.0, 63.0, 27.0, 33.0, 27.0, 31.0, 33.0, 39.0, 27.0, 32.0, 29.0, 28.0, 50.0, 55.0, 42.0, 36.0, 38.0, 38.0, 35.0, 42.0, 70.0, 29.0, 26.0, 20.0, 30.0, 19.0, 48.0, 58.0, 38.0, 28.0, 34.0, 45.0, 18.0, 25.0, 38.0, 33.0, 39.0, 58.0, 48.0, 14.0, 18.0, 22.0, 46.0, 37.11793090137039, 37.11793090137039, 57.0, 32.0, 31.0, 64.0, 35.0, 42.0, 30.0, 26.0, 37.0, 21.0, 20.0, 46.0, 37.11793090137039, 20.0, 46.0, 24.0, 26.0, 60.0, 25.0, 29.0, 58.0, 59.0, 46.0, 55.0, 27.0, 30.0, 45.0, 51.0, 27.0, 47.0, 52.0, 45.0, 47.0, 68.0, 40.0, 18.0, 35.0, 80.0, 44.0, 31.0, 20.0, 43.0, 25.0, 38.0, 34.0, 58.0, 38.0, 29.0, 40.0, 49.0, 25.0, 21.0, 57.0, 28.0, 25.0, 58.0, 34.0, 34.0, 24.0, 32.0, 58.0, 20.0, 19.0, 46.0, 28.0, 47.0, 47.0, 34.0, 37.11793090137039, 45.0, 17.0, 34.0, 48.0, 32.0, 20.0, 31.0, 16.0, 24.0, 39.0, 26.0, 30.0, 36.0, 28.0, 21.0, 36.0, 28.0, 24.0, 29.0, 44.0, 41.0, 38.0, 40.0, 20.0, 27.0, 51.0, 48.0, 40.0, 29.0, 34.0, 20.0, 47.0, 29.0, 33.0, 46.0, 35.0, 36.0, 63.0, 27.0, 17.0, 22.0, 21.0, 31.0, 56.0, 32.0, 25.0, 47.0, 37.11793090137039, 23.0, 34.0, 51.0, 35.0, 46.0, 59.0, 30.0, 34.0, 44.0, 31.0, 51.0, 34.0, 45.0, 32.0, 31.0, 41.0, 29.0, 47.0, 30.0, 27.0, 38.0, 33.0, 25.0, 47.0, 49.0, 33.0, 36.0, 22.0, 29.0, 52.0, 61.0, 29.0, 37.0, 26.0, 19.0, 45.0, 22.0, 57.0, 46.0, 27.0, 26.0, 30.0, 18.0, 25.0, 51.0, 40.0, 47.0, 38.0, 39.0, 30.0, 42.0, 25.0, 22.0, 30.0, 33.0, 24.0, 31.0, 25.0, 28.0, 19.0, 31.0, 48.0, 53.0, 50.0, 55.0, 37.11793090137039, 37.0, 30.0, 36.0, 24.0, 35.0, 42.0, 37.0, 28.0, 32.0, 33.0, 27.0, 21.0, 47.0, 57.0, 34.0, 34.0, 30.0, 29.0, 28.0, 39.0, 54.0, 27.0, 32.0, 32.0, 47.0, 33.0, 42.0, 37.11793090137039, 24.0, 42.0, 34.0, 46.0, 40.0, 30.0, 42.0, 30.0, 63.0, 18.0, 29.0, 42.0, 32.0, 50.0, 29.0, 29.0, 51.0, 23.0, 47.0, 45.0, 42.0, 26.0, 29.0, 49.0, 17.0, 37.11793090137039, 45.0, 51.0, 37.0, 28.0, 52.0, 37.0, 37.0, 25.0, 35.0, 35.0, 61.0, 33.0, 34.0, 59.0, 32.0, 49.0, 31.0, 29.0, 25.0, 26.0, 37.11793090137039, 39.0, 26.0, 36.0, 45.0, 45.0, 54.0, 43.0, 37.11793090137039, 30.0, 37.11793090137039, 58.0, 39.0, 40.0, 36.0, 27.0, 20.0, 17.0, 59.0, 47.0, 45.0, 34.0, 46.0, 26.0, 21.0, 29.0, 33.0, 47.0, 22.0, 41.0, 28.0, 56.0, 41.0, 35.0, 59.0, 30.0, 49.0, 41.0, 21.0, 62.0, 32.0, 22.0, 58.0, 32.0, 26.0, 35.0, 27.0, 35.0, 23.0, 59.0, 23.0, 43.0, 41.0, 56.0, 45.0, 28.0, 37.11793090137039, 54.0, 39.0, 37.11793090137039, 41.0, 27.0, 70.0, 37.11793090137039, 35.0, 26.0, 58.0, 46.0, 39.0, 33.0, 20.0, 38.0, 41.0, 32.0, 37.11793090137039, 24.0, 19.0, 27.0, 40.0, 61.0, 20.0, 35.0, 17.0, 22.0, 45.0, 20.0, 18.0, 28.0, 38.0, 53.0, 31.0, 48.0, 20.0, 35.0, 22.0, 18.0, 74.0, 33.0, 38.0, 26.0, 41.0, 29.0, 19.0, 61.0, 34.0, 35.0, 43.0, 50.0, 32.0, 50.0, 54.0, 35.0, 33.0, 18.0, 50.0, 41.0, 37.0, 76.0, 19.0, 40.0, 61.0, 61.0, 22.0, 52.0, 23.0, 67.0, 44.0, 23.0, 39.0, 53.0, 39.0, 26.0, 38.0, 49.0, 34.0, 47.0, 34.0, 58.0, 17.0, 21.0, 37.0, 43.0, 61.0, 28.0, 41.0, 23.0, 36.0, 23.0, 26.0, 32.0, 62.0, 33.0, 32.0, 69.0, 35.0, 46.0, 46.0, 22.0, 20.0, 30.0, 49.0, 43.0, 52.0, 56.0, 36.0, 40.0, 52.0, 35.0, 35.0, 53.0, 23.0, 19.0, 41.0, 39.0, 28.0, 28.0, 37.11793090137039, 53.0, 27.0, 31.0, 38.0, 38.0, 41.0, 49.0, 56.0, 62.0, 31.0, 37.0, 37.11793090137039, 28.0, 46.0, 21.0, 30.0, 36.0, 48.0, 34.0, 45.0, 19.0, 32.0, 32.0, 24.0, 65.0, 29.0, 49.0, 19.0, 56.0, 39.0, 43.0, 57.0, 49.0, 18.0, 27.0, 52.0, 37.0, 45.0, 49.0, 38.0, 31.0, 51.0, 37.11793090137039, 51.0, 20.0, 26.0, 25.0, 37.11793090137039, 62.0, 27.0, 33.0, 39.0, 18.0, 27.0, 50.0, 57.0, 29.0, 39.0, 31.0, 34.0, 52.0, 33.0, 37.0, 52.0, 62.0, 30.0, 28.0, 51.0, 23.0, 36.0, 37.0, 49.0, 49.0, 35.0, 17.0, 30.0, 34.0, 46.0, 29.0, 28.0, 43.0, 42.0, 30.0, 24.0, 27.0, 41.0, 47.0, 26.0, 20.0, 18.0, 37.11793090137039, 29.0, 35.0, 77.0, 31.0, 54.0, 33.0, 76.0, 28.0, 31.0, 53.0, 33.0, 37.0, 57.0, 36.0, 39.0, 43.0, 44.0, 33.0, 49.0, 18.0, 21.0, 57.0, 29.0, 58.0, 74.0, 63.0, 28.0, 67.0, 64.0, 32.0, 49.0, 28.0, 31.0, 20.0, 27.0, 38.0, 37.0, 36.0, 35.0, 50.0, 75.0, 32.0, 34.0, 24.0, 37.0, 33.0, 37.0, 55.0, 31.0, 54.0, 37.0, 48.0, 28.0, 31.0, 48.0, 58.0, 19.0, 28.0, 21.0, 57.0, 17.0, 22.0, 26.0, 31.0, 61.0, 54.0, 28.0, 30.0, 30.0, 28.0, 26.0, 28.0, 21.0, 31.0, 27.0, 34.0, 22.0, 29.0, 38.0, 51.0, 34.0, 30.0, 33.0, 21.0, 39.0, 37.0, 34.0, 47.0, 29.0, 29.0, 44.0, 53.0, 45.0, 19.0, 40.0, 33.0, 45.0, 40.0, 27.0, 63.0, 50.0, 25.0, 39.0, 42.0, 25.0, 24.0, 37.11793090137039, 37.11793090137039, 62.0, 34.0, 33.0, 56.0, 22.0, 46.0, 41.0, 38.0, 22.0, 42.0, 29.0, 56.0, 32.0, 31.0, 21.0, 31.0, 48.0, 58.0, 32.0, 45.0, 37.0, 20.0, 34.0, 31.0, 26.0, 32.0, 66.0, 37.0, 38.0, 44.0, 28.0, 22.0, 59.0, 20.0, 39.0, 30.0, 27.0, 37.11793090137039, 37.0, 52.0, 35.0, 33.0, 27.0, 27.0, 41.0, 28.0, 26.0, 37.11793090137039, 34.0, 34.0, 38.0, 32.0, 50.0, 55.0, 51.0, 18.0, 42.0, 36.0, 37.0, 28.0, 24.0, 34.0, 22.0, 42.0, 48.0, 51.0, 40.0, 34.0, 30.0, 31.0, 54.0, 60.0, 40.0, 37.11793090137039, 40.0, 68.0, 68.0, 60.0, 16.0, 25.0, 20.0, 21.0, 38.0, 28.0, 18.0, 37.11793090137039, 26.0, 31.0, 58.0, 31.0, 41.0, 41.0, 41.0, 23.0, 17.0, 35.0, 65.0, 51.0, 47.0, 42.0, 42.0, 31.0, 23.0, 50.0, 47.0, 66.0, 55.0, 68.0, 31.0, 24.0, 30.0, 34.0, 23.0, 43.0, 22.0, 22.0, 42.0, 65.0, 18.0, 23.0, 52.0, 40.0, 27.0, 34.0, 25.0, 28.0, 37.11793090137039, 27.0, 41.0, 27.0, 38.0, 29.0, 47.0, 28.0, 38.0, 21.0, 44.0, 61.0, 25.0, 40.0, 26.0, 57.0, 57.0, 24.0, 46.0, 38.0, 24.0, 34.0, 65.0, 60.0, 59.0, 23.0, 35.0, 35.0, 16.0, 37.11793090137039, 42.0, 43.0, 52.0, 31.0, 27.0, 31.0, 34.0, 29.0, 34.0, 37.11793090137039, 18.0, 51.0, 25.0, 28.0, 37.0, 37.11793090137039, 23.0, 57.0, 49.0, 24.0, 20.0, 25.0, 26.0, 26.0, 41.0, 31.0, 30.0, 25.0, 57.0, 17.0, 27.0, 30.0, 18.0, 50.0, 21.0, 28.0, 28.0, 33.0, 59.0, 34.0, 37.0, 30.0, 47.0, 34.0, 24.0, 25.0, 37.11793090137039, 47.0, 49.0, 31.0, 47.0, 52.0, 29.0, 45.0, 51.0, 55.0, 35.0, 50.0, 31.0, 47.0, 35.0, 66.0, 19.0, 19.0, 43.0, 57.0, 31.0, 41.0, 39.0, 24.0, 20.0, 32.0, 31.0, 22.0, 60.0, 40.0, 37.0, 34.0, 22.0, 30.0, 26.0, 29.0, 32.0, 32.0, 27.0, 31.0, 35.0, 19.0, 34.0, 32.0, 43.0, 22.0, 43.0, 27.0, 39.0, 37.0, 20.0, 34.0, 32.0, 15.0, 52.0, 53.0, 24.0, 41.0, 17.0, 44.0, 56.0, 23.0, 32.0, 26.0, 41.0, 56.0, 33.0, 37.0, 41.0, 38.0, 67.0, 45.0, 48.0, 31.0, 47.0, 40.0, 40.0, 34.0, 51.0, 33.0, 25.0, 41.0, 19.0, 21.0, 58.0, 63.0, 37.11793090137039, 58.0, 16.0, 31.0, 33.0, 40.0, 34.0, 29.0, 27.0, 23.0, 38.0, 17.0, 75.0, 40.0, 36.0, 27.0, 28.0, 20.0, 38.0, 16.0, 30.0, 30.0, 30.0, 36.0, 33.0, 39.0, 22.0, 49.0, 45.0, 45.0, 30.0, 30.0, 31.0, 73.0, 39.0, 37.0, 37.11793090137039, 31.0, 25.0, 24.0, 27.0, 37.11793090137039, 32.0, 43.0, 84.0, 29.0, 31.0, 57.0, 37.0, 29.0, 47.0, 44.0, 38.0, 32.0, 26.0, 21.0, 47.0, 30.0, 62.0, 41.0, 50.0, 37.11793090137039, 31.0, 30.0, 32.0, 20.0, 38.0, 25.0, 47.0, 19.0, 35.0, 58.0, 18.0, 42.0, 39.0, 61.0, 51.0, 28.0, 33.0, 47.0, 39.0, 31.0, 18.0, 23.0, 46.0, 50.0, 34.0, 32.0, 45.0, 31.0, 19.0, 53.0, 55.0, 32.0, 46.0, 26.0, 46.0, 22.0, 38.0, 44.0, 37.0, 52.0, 29.0, 19.0, 66.0, 40.0, 30.0, 69.0, 27.0, 62.0, 37.11793090137039, 39.0, 67.0, 54.0, 29.0, 33.0, 31.0, 38.0, 28.0, 45.0, 59.0, 17.0, 19.0, 36.0, 39.0, 37.11793090137039, 33.0, 31.0, 29.0, 51.0, 35.0, 36.0, 31.0, 39.0, 58.0, 39.0, 24.0, 48.0, 31.0, 37.11793090137039, 43.0, 33.0, 24.0, 40.0, 28.0, 24.0, 27.0, 40.0, 35.0, 42.0, 42.0, 24.0, 59.0, 61.0, 26.0, 32.0, 50.0, 38.0, 29.0, 27.0, 43.0, 21.0, 36.0, 24.0, 32.0, 26.0, 54.0, 44.0, 69.0, 45.0, 26.0, 43.0, 38.0, 21.0, 23.0, 56.0, 33.0, 40.0, 21.0, 20.0, 21.0, 47.0, 38.0, 31.0, 51.0, 19.0, 21.0, 48.0, 42.0, 30.0, 47.0, 57.0, 27.0, 50.0, 37.0, 24.0, 24.0, 30.0, 49.0, 47.0, 31.0, 33.0, 29.0, 42.0, 38.0, 25.0, 39.0, 64.0, 28.0, 32.0, 69.0, 29.0, 45.0, 40.0, 60.0, 22.0, 28.0, 38.0, 28.0, 37.0, 22.0, 42.0, 18.0, 38.0, 58.0, 50.0, 31.0, 35.0, 53.0, 31.0, 35.0, 22.0, 37.11793090137039, 32.0, 39.0, 44.0, 46.0, 49.0, 32.0, 53.0, 25.0, 36.0, 22.0, 33.0, 39.0, 44.0, 25.0, 36.0, 42.0, 24.0, 22.0, 35.0, 38.0, 28.0, 26.0, 62.0, 27.0, 23.0, 25.0, 22.0, 31.0]}],\n",
              "                        {\"template\": {\"data\": {\"bar\": [{\"error_x\": {\"color\": \"#2a3f5f\"}, \"error_y\": {\"color\": \"#2a3f5f\"}, \"marker\": {\"line\": {\"color\": \"#E5ECF6\", \"width\": 0.5}}, \"type\": \"bar\"}], \"barpolar\": [{\"marker\": {\"line\": {\"color\": \"#E5ECF6\", \"width\": 0.5}}, \"type\": \"barpolar\"}], \"carpet\": [{\"aaxis\": {\"endlinecolor\": \"#2a3f5f\", \"gridcolor\": \"white\", \"linecolor\": \"white\", \"minorgridcolor\": \"white\", \"startlinecolor\": \"#2a3f5f\"}, \"baxis\": {\"endlinecolor\": \"#2a3f5f\", \"gridcolor\": \"white\", \"linecolor\": \"white\", \"minorgridcolor\": \"white\", \"startlinecolor\": \"#2a3f5f\"}, \"type\": \"carpet\"}], \"choropleth\": [{\"colorbar\": {\"outlinewidth\": 0, \"ticks\": \"\"}, \"type\": \"choropleth\"}], \"contour\": [{\"colorbar\": {\"outlinewidth\": 0, \"ticks\": \"\"}, \"colorscale\": [[0.0, \"#0d0887\"], [0.1111111111111111, \"#46039f\"], [0.2222222222222222, \"#7201a8\"], [0.3333333333333333, \"#9c179e\"], [0.4444444444444444, \"#bd3786\"], [0.5555555555555556, \"#d8576b\"], [0.6666666666666666, \"#ed7953\"], [0.7777777777777778, \"#fb9f3a\"], [0.8888888888888888, \"#fdca26\"], [1.0, \"#f0f921\"]], \"type\": \"contour\"}], \"contourcarpet\": [{\"colorbar\": {\"outlinewidth\": 0, \"ticks\": \"\"}, \"type\": \"contourcarpet\"}], \"heatmap\": [{\"colorbar\": {\"outlinewidth\": 0, \"ticks\": \"\"}, \"colorscale\": [[0.0, \"#0d0887\"], [0.1111111111111111, \"#46039f\"], [0.2222222222222222, \"#7201a8\"], [0.3333333333333333, \"#9c179e\"], [0.4444444444444444, \"#bd3786\"], [0.5555555555555556, \"#d8576b\"], [0.6666666666666666, \"#ed7953\"], [0.7777777777777778, \"#fb9f3a\"], [0.8888888888888888, \"#fdca26\"], [1.0, \"#f0f921\"]], \"type\": \"heatmap\"}], \"heatmapgl\": [{\"colorbar\": {\"outlinewidth\": 0, \"ticks\": \"\"}, \"colorscale\": [[0.0, \"#0d0887\"], [0.1111111111111111, \"#46039f\"], [0.2222222222222222, \"#7201a8\"], [0.3333333333333333, \"#9c179e\"], [0.4444444444444444, \"#bd3786\"], [0.5555555555555556, \"#d8576b\"], [0.6666666666666666, \"#ed7953\"], [0.7777777777777778, \"#fb9f3a\"], [0.8888888888888888, \"#fdca26\"], [1.0, \"#f0f921\"]], \"type\": \"heatmapgl\"}], \"histogram\": [{\"marker\": {\"colorbar\": {\"outlinewidth\": 0, \"ticks\": \"\"}}, \"type\": \"histogram\"}], \"histogram2d\": [{\"colorbar\": {\"outlinewidth\": 0, \"ticks\": \"\"}, \"colorscale\": [[0.0, \"#0d0887\"], [0.1111111111111111, \"#46039f\"], [0.2222222222222222, \"#7201a8\"], [0.3333333333333333, \"#9c179e\"], [0.4444444444444444, \"#bd3786\"], [0.5555555555555556, \"#d8576b\"], [0.6666666666666666, \"#ed7953\"], [0.7777777777777778, \"#fb9f3a\"], [0.8888888888888888, \"#fdca26\"], [1.0, \"#f0f921\"]], \"type\": \"histogram2d\"}], \"histogram2dcontour\": [{\"colorbar\": {\"outlinewidth\": 0, \"ticks\": \"\"}, \"colorscale\": [[0.0, \"#0d0887\"], [0.1111111111111111, \"#46039f\"], [0.2222222222222222, \"#7201a8\"], [0.3333333333333333, \"#9c179e\"], [0.4444444444444444, \"#bd3786\"], [0.5555555555555556, \"#d8576b\"], [0.6666666666666666, \"#ed7953\"], [0.7777777777777778, \"#fb9f3a\"], [0.8888888888888888, \"#fdca26\"], [1.0, \"#f0f921\"]], \"type\": \"histogram2dcontour\"}], \"mesh3d\": [{\"colorbar\": {\"outlinewidth\": 0, \"ticks\": \"\"}, \"type\": \"mesh3d\"}], \"parcoords\": [{\"line\": {\"colorbar\": {\"outlinewidth\": 0, \"ticks\": \"\"}}, \"type\": \"parcoords\"}], \"pie\": [{\"automargin\": true, \"type\": \"pie\"}], \"scatter\": [{\"marker\": {\"colorbar\": {\"outlinewidth\": 0, \"ticks\": \"\"}}, \"type\": \"scatter\"}], \"scatter3d\": [{\"line\": {\"colorbar\": {\"outlinewidth\": 0, \"ticks\": \"\"}}, \"marker\": {\"colorbar\": {\"outlinewidth\": 0, \"ticks\": \"\"}}, \"type\": \"scatter3d\"}], \"scattercarpet\": [{\"marker\": {\"colorbar\": {\"outlinewidth\": 0, \"ticks\": \"\"}}, \"type\": \"scattercarpet\"}], \"scattergeo\": [{\"marker\": {\"colorbar\": {\"outlinewidth\": 0, \"ticks\": \"\"}}, \"type\": \"scattergeo\"}], \"scattergl\": [{\"marker\": {\"colorbar\": {\"outlinewidth\": 0, \"ticks\": \"\"}}, \"type\": \"scattergl\"}], \"scattermapbox\": [{\"marker\": {\"colorbar\": {\"outlinewidth\": 0, \"ticks\": \"\"}}, \"type\": \"scattermapbox\"}], \"scatterpolar\": [{\"marker\": {\"colorbar\": {\"outlinewidth\": 0, \"ticks\": \"\"}}, \"type\": \"scatterpolar\"}], \"scatterpolargl\": [{\"marker\": {\"colorbar\": {\"outlinewidth\": 0, \"ticks\": \"\"}}, \"type\": \"scatterpolargl\"}], \"scatterternary\": [{\"marker\": {\"colorbar\": {\"outlinewidth\": 0, \"ticks\": \"\"}}, \"type\": \"scatterternary\"}], \"surface\": [{\"colorbar\": {\"outlinewidth\": 0, \"ticks\": \"\"}, \"colorscale\": [[0.0, \"#0d0887\"], [0.1111111111111111, \"#46039f\"], [0.2222222222222222, \"#7201a8\"], [0.3333333333333333, \"#9c179e\"], [0.4444444444444444, \"#bd3786\"], [0.5555555555555556, \"#d8576b\"], [0.6666666666666666, \"#ed7953\"], [0.7777777777777778, \"#fb9f3a\"], [0.8888888888888888, \"#fdca26\"], [1.0, \"#f0f921\"]], \"type\": \"surface\"}], \"table\": [{\"cells\": {\"fill\": {\"color\": \"#EBF0F8\"}, \"line\": {\"color\": \"white\"}}, \"header\": {\"fill\": {\"color\": \"#C8D4E3\"}, \"line\": {\"color\": \"white\"}}, \"type\": \"table\"}]}, \"layout\": {\"annotationdefaults\": {\"arrowcolor\": \"#2a3f5f\", \"arrowhead\": 0, \"arrowwidth\": 1}, \"coloraxis\": {\"colorbar\": {\"outlinewidth\": 0, \"ticks\": \"\"}}, \"colorscale\": {\"diverging\": [[0, \"#8e0152\"], [0.1, \"#c51b7d\"], [0.2, \"#de77ae\"], [0.3, \"#f1b6da\"], [0.4, \"#fde0ef\"], [0.5, \"#f7f7f7\"], [0.6, \"#e6f5d0\"], [0.7, \"#b8e186\"], [0.8, \"#7fbc41\"], [0.9, \"#4d9221\"], [1, \"#276419\"]], \"sequential\": [[0.0, \"#0d0887\"], [0.1111111111111111, \"#46039f\"], [0.2222222222222222, \"#7201a8\"], [0.3333333333333333, \"#9c179e\"], [0.4444444444444444, \"#bd3786\"], [0.5555555555555556, \"#d8576b\"], [0.6666666666666666, \"#ed7953\"], [0.7777777777777778, \"#fb9f3a\"], [0.8888888888888888, \"#fdca26\"], [1.0, \"#f0f921\"]], \"sequentialminus\": [[0.0, \"#0d0887\"], [0.1111111111111111, \"#46039f\"], [0.2222222222222222, \"#7201a8\"], [0.3333333333333333, \"#9c179e\"], [0.4444444444444444, \"#bd3786\"], [0.5555555555555556, \"#d8576b\"], [0.6666666666666666, \"#ed7953\"], [0.7777777777777778, \"#fb9f3a\"], [0.8888888888888888, \"#fdca26\"], [1.0, \"#f0f921\"]]}, \"colorway\": [\"#636efa\", \"#EF553B\", \"#00cc96\", \"#ab63fa\", \"#FFA15A\", \"#19d3f3\", \"#FF6692\", \"#B6E880\", \"#FF97FF\", \"#FECB52\"], \"font\": {\"color\": \"#2a3f5f\"}, \"geo\": {\"bgcolor\": \"white\", \"lakecolor\": \"white\", \"landcolor\": \"#E5ECF6\", \"showlakes\": true, \"showland\": true, \"subunitcolor\": \"white\"}, \"hoverlabel\": {\"align\": \"left\"}, \"hovermode\": \"closest\", \"mapbox\": {\"style\": \"light\"}, \"paper_bgcolor\": \"white\", \"plot_bgcolor\": \"#E5ECF6\", \"polar\": {\"angularaxis\": {\"gridcolor\": \"white\", \"linecolor\": \"white\", \"ticks\": \"\"}, \"bgcolor\": \"#E5ECF6\", \"radialaxis\": {\"gridcolor\": \"white\", \"linecolor\": \"white\", \"ticks\": \"\"}}, \"scene\": {\"xaxis\": {\"backgroundcolor\": \"#E5ECF6\", \"gridcolor\": \"white\", \"gridwidth\": 2, \"linecolor\": \"white\", \"showbackground\": true, \"ticks\": \"\", \"zerolinecolor\": \"white\"}, \"yaxis\": {\"backgroundcolor\": \"#E5ECF6\", \"gridcolor\": \"white\", \"gridwidth\": 2, \"linecolor\": \"white\", \"showbackground\": true, \"ticks\": \"\", \"zerolinecolor\": \"white\"}, \"zaxis\": {\"backgroundcolor\": \"#E5ECF6\", \"gridcolor\": \"white\", \"gridwidth\": 2, \"linecolor\": \"white\", \"showbackground\": true, \"ticks\": \"\", \"zerolinecolor\": \"white\"}}, \"shapedefaults\": {\"line\": {\"color\": \"#2a3f5f\"}}, \"ternary\": {\"aaxis\": {\"gridcolor\": \"white\", \"linecolor\": \"white\", \"ticks\": \"\"}, \"baxis\": {\"gridcolor\": \"white\", \"linecolor\": \"white\", \"ticks\": \"\"}, \"bgcolor\": \"#E5ECF6\", \"caxis\": {\"gridcolor\": \"white\", \"linecolor\": \"white\", \"ticks\": \"\"}}, \"title\": {\"x\": 0.05}, \"xaxis\": {\"automargin\": true, \"gridcolor\": \"white\", \"linecolor\": \"white\", \"ticks\": \"\", \"title\": {\"standoff\": 15}, \"zerolinecolor\": \"white\", \"zerolinewidth\": 2}, \"yaxis\": {\"automargin\": true, \"gridcolor\": \"white\", \"linecolor\": \"white\", \"ticks\": \"\", \"title\": {\"standoff\": 15}, \"zerolinecolor\": \"white\", \"zerolinewidth\": 2}}}},\n",
              "                        {\"responsive\": true}\n",
              "                    ).then(function(){\n",
              "                            \n",
              "var gd = document.getElementById('3d29e6d2-a5bd-4aa0-95cc-a7ff46cda5a2');\n",
              "var x = new MutationObserver(function (mutations, observer) {{\n",
              "        var display = window.getComputedStyle(gd).display;\n",
              "        if (!display || display === 'none') {{\n",
              "            console.log([gd, 'removed!']);\n",
              "            Plotly.purge(gd);\n",
              "            observer.disconnect();\n",
              "        }}\n",
              "}});\n",
              "\n",
              "// Listen for the removal of the full notebook cells\n",
              "var notebookContainer = gd.closest('#notebook-container');\n",
              "if (notebookContainer) {{\n",
              "    x.observe(notebookContainer, {childList: true});\n",
              "}}\n",
              "\n",
              "// Listen for the clearing of the current output cell\n",
              "var outputEl = gd.closest('.output');\n",
              "if (outputEl) {{\n",
              "    x.observe(outputEl, {childList: true});\n",
              "}}\n",
              "\n",
              "                        })\n",
              "                };\n",
              "                \n",
              "            </script>\n",
              "        </div>\n",
              "</body>\n",
              "</html>"
            ]
          },
          "metadata": {
            "tags": []
          }
        }
      ]
    },
    {
      "cell_type": "code",
      "metadata": {
        "id": "Du4sRRAPm3tc",
        "colab": {
          "base_uri": "https://localhost:8080/",
          "height": 517
        },
        "outputId": "0113e2d6-e3c0-48c0-895e-447f4bb036d1"
      },
      "source": [
        "data = df['gender'].value_counts().reset_index()\n",
        "data.columns = ['gender', 'count']\n",
        "\n",
        "fig = px.pie(\n",
        "    data, \n",
        "    values='count', \n",
        "    names='gender',  \n",
        "    title='Gender distribution', \n",
        "    width=500, \n",
        "    height=500\n",
        ")\n",
        "\n",
        "fig.show()"
      ],
      "execution_count": 40,
      "outputs": [
        {
          "output_type": "display_data",
          "data": {
            "text/html": [
              "<html>\n",
              "<head><meta charset=\"utf-8\" /></head>\n",
              "<body>\n",
              "    <div>\n",
              "            <script src=\"https://cdnjs.cloudflare.com/ajax/libs/mathjax/2.7.5/MathJax.js?config=TeX-AMS-MML_SVG\"></script><script type=\"text/javascript\">if (window.MathJax) {MathJax.Hub.Config({SVG: {font: \"STIX-Web\"}});}</script>\n",
              "                <script type=\"text/javascript\">window.PlotlyConfig = {MathJaxConfig: 'local'};</script>\n",
              "        <script src=\"https://cdn.plot.ly/plotly-latest.min.js\"></script>    \n",
              "            <div id=\"f87bc476-6112-4634-a4e9-302752e4eed7\" class=\"plotly-graph-div\" style=\"height:500px; width:500px;\"></div>\n",
              "            <script type=\"text/javascript\">\n",
              "                \n",
              "                    window.PLOTLYENV=window.PLOTLYENV || {};\n",
              "                    \n",
              "                if (document.getElementById(\"f87bc476-6112-4634-a4e9-302752e4eed7\")) {\n",
              "                    Plotly.newPlot(\n",
              "                        'f87bc476-6112-4634-a4e9-302752e4eed7',\n",
              "                        [{\"domain\": {\"x\": [0.0, 1.0], \"y\": [0.0, 1.0]}, \"hoverlabel\": {\"namelength\": 0}, \"hovertemplate\": \"gender=%{label}<br>count=%{value}\", \"labels\": [\"M\", \"F\"], \"legendgroup\": \"\", \"name\": \"\", \"showlegend\": true, \"type\": \"pie\", \"values\": [4673, 222]}],\n",
              "                        {\"height\": 500, \"legend\": {\"tracegroupgap\": 0}, \"template\": {\"data\": {\"bar\": [{\"error_x\": {\"color\": \"#2a3f5f\"}, \"error_y\": {\"color\": \"#2a3f5f\"}, \"marker\": {\"line\": {\"color\": \"#E5ECF6\", \"width\": 0.5}}, \"type\": \"bar\"}], \"barpolar\": [{\"marker\": {\"line\": {\"color\": \"#E5ECF6\", \"width\": 0.5}}, \"type\": \"barpolar\"}], \"carpet\": [{\"aaxis\": {\"endlinecolor\": \"#2a3f5f\", \"gridcolor\": \"white\", \"linecolor\": \"white\", \"minorgridcolor\": \"white\", \"startlinecolor\": \"#2a3f5f\"}, \"baxis\": {\"endlinecolor\": \"#2a3f5f\", \"gridcolor\": \"white\", \"linecolor\": \"white\", \"minorgridcolor\": \"white\", \"startlinecolor\": \"#2a3f5f\"}, \"type\": \"carpet\"}], \"choropleth\": [{\"colorbar\": {\"outlinewidth\": 0, \"ticks\": \"\"}, \"type\": \"choropleth\"}], \"contour\": [{\"colorbar\": {\"outlinewidth\": 0, \"ticks\": \"\"}, \"colorscale\": [[0.0, \"#0d0887\"], [0.1111111111111111, \"#46039f\"], [0.2222222222222222, \"#7201a8\"], [0.3333333333333333, \"#9c179e\"], [0.4444444444444444, \"#bd3786\"], [0.5555555555555556, \"#d8576b\"], [0.6666666666666666, \"#ed7953\"], [0.7777777777777778, \"#fb9f3a\"], [0.8888888888888888, \"#fdca26\"], [1.0, \"#f0f921\"]], \"type\": \"contour\"}], \"contourcarpet\": [{\"colorbar\": {\"outlinewidth\": 0, \"ticks\": \"\"}, \"type\": \"contourcarpet\"}], \"heatmap\": [{\"colorbar\": {\"outlinewidth\": 0, \"ticks\": \"\"}, \"colorscale\": [[0.0, \"#0d0887\"], [0.1111111111111111, \"#46039f\"], [0.2222222222222222, \"#7201a8\"], [0.3333333333333333, \"#9c179e\"], [0.4444444444444444, \"#bd3786\"], [0.5555555555555556, \"#d8576b\"], [0.6666666666666666, \"#ed7953\"], [0.7777777777777778, \"#fb9f3a\"], [0.8888888888888888, \"#fdca26\"], [1.0, \"#f0f921\"]], \"type\": \"heatmap\"}], \"heatmapgl\": [{\"colorbar\": {\"outlinewidth\": 0, \"ticks\": \"\"}, \"colorscale\": [[0.0, \"#0d0887\"], [0.1111111111111111, \"#46039f\"], [0.2222222222222222, \"#7201a8\"], [0.3333333333333333, \"#9c179e\"], [0.4444444444444444, \"#bd3786\"], [0.5555555555555556, \"#d8576b\"], [0.6666666666666666, \"#ed7953\"], [0.7777777777777778, \"#fb9f3a\"], [0.8888888888888888, \"#fdca26\"], [1.0, \"#f0f921\"]], \"type\": \"heatmapgl\"}], \"histogram\": [{\"marker\": {\"colorbar\": {\"outlinewidth\": 0, \"ticks\": \"\"}}, \"type\": \"histogram\"}], \"histogram2d\": [{\"colorbar\": {\"outlinewidth\": 0, \"ticks\": \"\"}, \"colorscale\": [[0.0, \"#0d0887\"], [0.1111111111111111, \"#46039f\"], [0.2222222222222222, \"#7201a8\"], [0.3333333333333333, \"#9c179e\"], [0.4444444444444444, \"#bd3786\"], [0.5555555555555556, \"#d8576b\"], [0.6666666666666666, \"#ed7953\"], [0.7777777777777778, \"#fb9f3a\"], [0.8888888888888888, \"#fdca26\"], [1.0, \"#f0f921\"]], \"type\": \"histogram2d\"}], \"histogram2dcontour\": [{\"colorbar\": {\"outlinewidth\": 0, \"ticks\": \"\"}, \"colorscale\": [[0.0, \"#0d0887\"], [0.1111111111111111, \"#46039f\"], [0.2222222222222222, \"#7201a8\"], [0.3333333333333333, \"#9c179e\"], [0.4444444444444444, \"#bd3786\"], [0.5555555555555556, \"#d8576b\"], [0.6666666666666666, \"#ed7953\"], [0.7777777777777778, \"#fb9f3a\"], [0.8888888888888888, \"#fdca26\"], [1.0, \"#f0f921\"]], \"type\": \"histogram2dcontour\"}], \"mesh3d\": [{\"colorbar\": {\"outlinewidth\": 0, \"ticks\": \"\"}, \"type\": \"mesh3d\"}], \"parcoords\": [{\"line\": {\"colorbar\": {\"outlinewidth\": 0, \"ticks\": \"\"}}, \"type\": \"parcoords\"}], \"pie\": [{\"automargin\": true, \"type\": \"pie\"}], \"scatter\": [{\"marker\": {\"colorbar\": {\"outlinewidth\": 0, \"ticks\": \"\"}}, \"type\": \"scatter\"}], \"scatter3d\": [{\"line\": {\"colorbar\": {\"outlinewidth\": 0, \"ticks\": \"\"}}, \"marker\": {\"colorbar\": {\"outlinewidth\": 0, \"ticks\": \"\"}}, \"type\": \"scatter3d\"}], \"scattercarpet\": [{\"marker\": {\"colorbar\": {\"outlinewidth\": 0, \"ticks\": \"\"}}, \"type\": \"scattercarpet\"}], \"scattergeo\": [{\"marker\": {\"colorbar\": {\"outlinewidth\": 0, \"ticks\": \"\"}}, \"type\": \"scattergeo\"}], \"scattergl\": [{\"marker\": {\"colorbar\": {\"outlinewidth\": 0, \"ticks\": \"\"}}, \"type\": \"scattergl\"}], \"scattermapbox\": [{\"marker\": {\"colorbar\": {\"outlinewidth\": 0, \"ticks\": \"\"}}, \"type\": \"scattermapbox\"}], \"scatterpolar\": [{\"marker\": {\"colorbar\": {\"outlinewidth\": 0, \"ticks\": \"\"}}, \"type\": \"scatterpolar\"}], \"scatterpolargl\": [{\"marker\": {\"colorbar\": {\"outlinewidth\": 0, \"ticks\": \"\"}}, \"type\": \"scatterpolargl\"}], \"scatterternary\": [{\"marker\": {\"colorbar\": {\"outlinewidth\": 0, \"ticks\": \"\"}}, \"type\": \"scatterternary\"}], \"surface\": [{\"colorbar\": {\"outlinewidth\": 0, \"ticks\": \"\"}, \"colorscale\": [[0.0, \"#0d0887\"], [0.1111111111111111, \"#46039f\"], [0.2222222222222222, \"#7201a8\"], [0.3333333333333333, \"#9c179e\"], [0.4444444444444444, \"#bd3786\"], [0.5555555555555556, \"#d8576b\"], [0.6666666666666666, \"#ed7953\"], [0.7777777777777778, \"#fb9f3a\"], [0.8888888888888888, \"#fdca26\"], [1.0, \"#f0f921\"]], \"type\": \"surface\"}], \"table\": [{\"cells\": {\"fill\": {\"color\": \"#EBF0F8\"}, \"line\": {\"color\": \"white\"}}, \"header\": {\"fill\": {\"color\": \"#C8D4E3\"}, \"line\": {\"color\": \"white\"}}, \"type\": \"table\"}]}, \"layout\": {\"annotationdefaults\": {\"arrowcolor\": \"#2a3f5f\", \"arrowhead\": 0, \"arrowwidth\": 1}, \"coloraxis\": {\"colorbar\": {\"outlinewidth\": 0, \"ticks\": \"\"}}, \"colorscale\": {\"diverging\": [[0, \"#8e0152\"], [0.1, \"#c51b7d\"], [0.2, \"#de77ae\"], [0.3, \"#f1b6da\"], [0.4, \"#fde0ef\"], [0.5, \"#f7f7f7\"], [0.6, \"#e6f5d0\"], [0.7, \"#b8e186\"], [0.8, \"#7fbc41\"], [0.9, \"#4d9221\"], [1, \"#276419\"]], \"sequential\": [[0.0, \"#0d0887\"], [0.1111111111111111, \"#46039f\"], [0.2222222222222222, \"#7201a8\"], [0.3333333333333333, \"#9c179e\"], [0.4444444444444444, \"#bd3786\"], [0.5555555555555556, \"#d8576b\"], [0.6666666666666666, \"#ed7953\"], [0.7777777777777778, \"#fb9f3a\"], [0.8888888888888888, \"#fdca26\"], [1.0, \"#f0f921\"]], \"sequentialminus\": [[0.0, \"#0d0887\"], [0.1111111111111111, \"#46039f\"], [0.2222222222222222, \"#7201a8\"], [0.3333333333333333, \"#9c179e\"], [0.4444444444444444, \"#bd3786\"], [0.5555555555555556, \"#d8576b\"], [0.6666666666666666, \"#ed7953\"], [0.7777777777777778, \"#fb9f3a\"], [0.8888888888888888, \"#fdca26\"], [1.0, \"#f0f921\"]]}, \"colorway\": [\"#636efa\", \"#EF553B\", \"#00cc96\", \"#ab63fa\", \"#FFA15A\", \"#19d3f3\", \"#FF6692\", \"#B6E880\", \"#FF97FF\", \"#FECB52\"], \"font\": {\"color\": \"#2a3f5f\"}, \"geo\": {\"bgcolor\": \"white\", \"lakecolor\": \"white\", \"landcolor\": \"#E5ECF6\", \"showlakes\": true, \"showland\": true, \"subunitcolor\": \"white\"}, \"hoverlabel\": {\"align\": \"left\"}, \"hovermode\": \"closest\", \"mapbox\": {\"style\": \"light\"}, \"paper_bgcolor\": \"white\", \"plot_bgcolor\": \"#E5ECF6\", \"polar\": {\"angularaxis\": {\"gridcolor\": \"white\", \"linecolor\": \"white\", \"ticks\": \"\"}, \"bgcolor\": \"#E5ECF6\", \"radialaxis\": {\"gridcolor\": \"white\", \"linecolor\": \"white\", \"ticks\": \"\"}}, \"scene\": {\"xaxis\": {\"backgroundcolor\": \"#E5ECF6\", \"gridcolor\": \"white\", \"gridwidth\": 2, \"linecolor\": \"white\", \"showbackground\": true, \"ticks\": \"\", \"zerolinecolor\": \"white\"}, \"yaxis\": {\"backgroundcolor\": \"#E5ECF6\", \"gridcolor\": \"white\", \"gridwidth\": 2, \"linecolor\": \"white\", \"showbackground\": true, \"ticks\": \"\", \"zerolinecolor\": \"white\"}, \"zaxis\": {\"backgroundcolor\": \"#E5ECF6\", \"gridcolor\": \"white\", \"gridwidth\": 2, \"linecolor\": \"white\", \"showbackground\": true, \"ticks\": \"\", \"zerolinecolor\": \"white\"}}, \"shapedefaults\": {\"line\": {\"color\": \"#2a3f5f\"}}, \"ternary\": {\"aaxis\": {\"gridcolor\": \"white\", \"linecolor\": \"white\", \"ticks\": \"\"}, \"baxis\": {\"gridcolor\": \"white\", \"linecolor\": \"white\", \"ticks\": \"\"}, \"bgcolor\": \"#E5ECF6\", \"caxis\": {\"gridcolor\": \"white\", \"linecolor\": \"white\", \"ticks\": \"\"}}, \"title\": {\"x\": 0.05}, \"xaxis\": {\"automargin\": true, \"gridcolor\": \"white\", \"linecolor\": \"white\", \"ticks\": \"\", \"title\": {\"standoff\": 15}, \"zerolinecolor\": \"white\", \"zerolinewidth\": 2}, \"yaxis\": {\"automargin\": true, \"gridcolor\": \"white\", \"linecolor\": \"white\", \"ticks\": \"\", \"title\": {\"standoff\": 15}, \"zerolinecolor\": \"white\", \"zerolinewidth\": 2}}}, \"title\": {\"text\": \"Gender distribution\"}, \"width\": 500},\n",
              "                        {\"responsive\": true}\n",
              "                    ).then(function(){\n",
              "                            \n",
              "var gd = document.getElementById('f87bc476-6112-4634-a4e9-302752e4eed7');\n",
              "var x = new MutationObserver(function (mutations, observer) {{\n",
              "        var display = window.getComputedStyle(gd).display;\n",
              "        if (!display || display === 'none') {{\n",
              "            console.log([gd, 'removed!']);\n",
              "            Plotly.purge(gd);\n",
              "            observer.disconnect();\n",
              "        }}\n",
              "}});\n",
              "\n",
              "// Listen for the removal of the full notebook cells\n",
              "var notebookContainer = gd.closest('#notebook-container');\n",
              "if (notebookContainer) {{\n",
              "    x.observe(notebookContainer, {childList: true});\n",
              "}}\n",
              "\n",
              "// Listen for the clearing of the current output cell\n",
              "var outputEl = gd.closest('.output');\n",
              "if (outputEl) {{\n",
              "    x.observe(outputEl, {childList: true});\n",
              "}}\n",
              "\n",
              "                        })\n",
              "                };\n",
              "                \n",
              "            </script>\n",
              "        </div>\n",
              "</body>\n",
              "</html>"
            ]
          },
          "metadata": {
            "tags": []
          }
        }
      ]
    },
    {
      "cell_type": "code",
      "metadata": {
        "id": "fuFEVgmHm5d9",
        "colab": {
          "base_uri": "https://localhost:8080/",
          "height": 617
        },
        "outputId": "fd042670-6530-4876-93ef-591c1f3f2334"
      },
      "source": [
        "data = df['race'].value_counts().reset_index()\n",
        "data.columns = ['race', 'count']\n",
        "data = data.sort_values('count')\n",
        "\n",
        "fig = px.bar(\n",
        "    data, \n",
        "    x='count', \n",
        "    y='race', \n",
        "    orientation='h', \n",
        "    title='Race distribution', \n",
        "    width=600,\n",
        "    height=600\n",
        ")\n",
        "\n",
        "fig.show()"
      ],
      "execution_count": 41,
      "outputs": [
        {
          "output_type": "display_data",
          "data": {
            "text/html": [
              "<html>\n",
              "<head><meta charset=\"utf-8\" /></head>\n",
              "<body>\n",
              "    <div>\n",
              "            <script src=\"https://cdnjs.cloudflare.com/ajax/libs/mathjax/2.7.5/MathJax.js?config=TeX-AMS-MML_SVG\"></script><script type=\"text/javascript\">if (window.MathJax) {MathJax.Hub.Config({SVG: {font: \"STIX-Web\"}});}</script>\n",
              "                <script type=\"text/javascript\">window.PlotlyConfig = {MathJaxConfig: 'local'};</script>\n",
              "        <script src=\"https://cdn.plot.ly/plotly-latest.min.js\"></script>    \n",
              "            <div id=\"3beadcd5-8a7a-45c4-8994-e947b3ee4a6b\" class=\"plotly-graph-div\" style=\"height:600px; width:600px;\"></div>\n",
              "            <script type=\"text/javascript\">\n",
              "                \n",
              "                    window.PLOTLYENV=window.PLOTLYENV || {};\n",
              "                    \n",
              "                if (document.getElementById(\"3beadcd5-8a7a-45c4-8994-e947b3ee4a6b\")) {\n",
              "                    Plotly.newPlot(\n",
              "                        '3beadcd5-8a7a-45c4-8994-e947b3ee4a6b',\n",
              "                        [{\"alignmentgroup\": \"True\", \"hoverlabel\": {\"namelength\": 0}, \"hovertemplate\": \"count=%{x}<br>race=%{y}\", \"legendgroup\": \"\", \"marker\": {\"color\": \"#636efa\"}, \"name\": \"\", \"offsetgroup\": \"\", \"orientation\": \"h\", \"showlegend\": false, \"textposition\": \"auto\", \"type\": \"bar\", \"x\": [48, 78, 93, 902, 1298, 2476], \"xaxis\": \"x\", \"y\": [\"Other\", \"Native\", \"Asian\", \"Hispanic\", \"Black\", \"White\"], \"yaxis\": \"y\"}],\n",
              "                        {\"barmode\": \"relative\", \"height\": 600, \"legend\": {\"tracegroupgap\": 0}, \"template\": {\"data\": {\"bar\": [{\"error_x\": {\"color\": \"#2a3f5f\"}, \"error_y\": {\"color\": \"#2a3f5f\"}, \"marker\": {\"line\": {\"color\": \"#E5ECF6\", \"width\": 0.5}}, \"type\": \"bar\"}], \"barpolar\": [{\"marker\": {\"line\": {\"color\": \"#E5ECF6\", \"width\": 0.5}}, \"type\": \"barpolar\"}], \"carpet\": [{\"aaxis\": {\"endlinecolor\": \"#2a3f5f\", \"gridcolor\": \"white\", \"linecolor\": \"white\", \"minorgridcolor\": \"white\", \"startlinecolor\": \"#2a3f5f\"}, \"baxis\": {\"endlinecolor\": \"#2a3f5f\", \"gridcolor\": \"white\", \"linecolor\": \"white\", \"minorgridcolor\": \"white\", \"startlinecolor\": \"#2a3f5f\"}, \"type\": \"carpet\"}], \"choropleth\": [{\"colorbar\": {\"outlinewidth\": 0, \"ticks\": \"\"}, \"type\": \"choropleth\"}], \"contour\": [{\"colorbar\": {\"outlinewidth\": 0, \"ticks\": \"\"}, \"colorscale\": [[0.0, \"#0d0887\"], [0.1111111111111111, \"#46039f\"], [0.2222222222222222, \"#7201a8\"], [0.3333333333333333, \"#9c179e\"], [0.4444444444444444, \"#bd3786\"], [0.5555555555555556, \"#d8576b\"], [0.6666666666666666, \"#ed7953\"], [0.7777777777777778, \"#fb9f3a\"], [0.8888888888888888, \"#fdca26\"], [1.0, \"#f0f921\"]], \"type\": \"contour\"}], \"contourcarpet\": [{\"colorbar\": {\"outlinewidth\": 0, \"ticks\": \"\"}, \"type\": \"contourcarpet\"}], \"heatmap\": [{\"colorbar\": {\"outlinewidth\": 0, \"ticks\": \"\"}, \"colorscale\": [[0.0, \"#0d0887\"], [0.1111111111111111, \"#46039f\"], [0.2222222222222222, \"#7201a8\"], [0.3333333333333333, \"#9c179e\"], [0.4444444444444444, \"#bd3786\"], [0.5555555555555556, \"#d8576b\"], [0.6666666666666666, \"#ed7953\"], [0.7777777777777778, \"#fb9f3a\"], [0.8888888888888888, \"#fdca26\"], [1.0, \"#f0f921\"]], \"type\": \"heatmap\"}], \"heatmapgl\": [{\"colorbar\": {\"outlinewidth\": 0, \"ticks\": \"\"}, \"colorscale\": [[0.0, \"#0d0887\"], [0.1111111111111111, \"#46039f\"], [0.2222222222222222, \"#7201a8\"], [0.3333333333333333, \"#9c179e\"], [0.4444444444444444, \"#bd3786\"], [0.5555555555555556, \"#d8576b\"], [0.6666666666666666, \"#ed7953\"], [0.7777777777777778, \"#fb9f3a\"], [0.8888888888888888, \"#fdca26\"], [1.0, \"#f0f921\"]], \"type\": \"heatmapgl\"}], \"histogram\": [{\"marker\": {\"colorbar\": {\"outlinewidth\": 0, \"ticks\": \"\"}}, \"type\": \"histogram\"}], \"histogram2d\": [{\"colorbar\": {\"outlinewidth\": 0, \"ticks\": \"\"}, \"colorscale\": [[0.0, \"#0d0887\"], [0.1111111111111111, \"#46039f\"], [0.2222222222222222, \"#7201a8\"], [0.3333333333333333, \"#9c179e\"], [0.4444444444444444, \"#bd3786\"], [0.5555555555555556, \"#d8576b\"], [0.6666666666666666, \"#ed7953\"], [0.7777777777777778, \"#fb9f3a\"], [0.8888888888888888, \"#fdca26\"], [1.0, \"#f0f921\"]], \"type\": \"histogram2d\"}], \"histogram2dcontour\": [{\"colorbar\": {\"outlinewidth\": 0, \"ticks\": \"\"}, \"colorscale\": [[0.0, \"#0d0887\"], [0.1111111111111111, \"#46039f\"], [0.2222222222222222, \"#7201a8\"], [0.3333333333333333, \"#9c179e\"], [0.4444444444444444, \"#bd3786\"], [0.5555555555555556, \"#d8576b\"], [0.6666666666666666, \"#ed7953\"], [0.7777777777777778, \"#fb9f3a\"], [0.8888888888888888, \"#fdca26\"], [1.0, \"#f0f921\"]], \"type\": \"histogram2dcontour\"}], \"mesh3d\": [{\"colorbar\": {\"outlinewidth\": 0, \"ticks\": \"\"}, \"type\": \"mesh3d\"}], \"parcoords\": [{\"line\": {\"colorbar\": {\"outlinewidth\": 0, \"ticks\": \"\"}}, \"type\": \"parcoords\"}], \"pie\": [{\"automargin\": true, \"type\": \"pie\"}], \"scatter\": [{\"marker\": {\"colorbar\": {\"outlinewidth\": 0, \"ticks\": \"\"}}, \"type\": \"scatter\"}], \"scatter3d\": [{\"line\": {\"colorbar\": {\"outlinewidth\": 0, \"ticks\": \"\"}}, \"marker\": {\"colorbar\": {\"outlinewidth\": 0, \"ticks\": \"\"}}, \"type\": \"scatter3d\"}], \"scattercarpet\": [{\"marker\": {\"colorbar\": {\"outlinewidth\": 0, \"ticks\": \"\"}}, \"type\": \"scattercarpet\"}], \"scattergeo\": [{\"marker\": {\"colorbar\": {\"outlinewidth\": 0, \"ticks\": \"\"}}, \"type\": \"scattergeo\"}], \"scattergl\": [{\"marker\": {\"colorbar\": {\"outlinewidth\": 0, \"ticks\": \"\"}}, \"type\": \"scattergl\"}], \"scattermapbox\": [{\"marker\": {\"colorbar\": {\"outlinewidth\": 0, \"ticks\": \"\"}}, \"type\": \"scattermapbox\"}], \"scatterpolar\": [{\"marker\": {\"colorbar\": {\"outlinewidth\": 0, \"ticks\": \"\"}}, \"type\": \"scatterpolar\"}], \"scatterpolargl\": [{\"marker\": {\"colorbar\": {\"outlinewidth\": 0, \"ticks\": \"\"}}, \"type\": \"scatterpolargl\"}], \"scatterternary\": [{\"marker\": {\"colorbar\": {\"outlinewidth\": 0, \"ticks\": \"\"}}, \"type\": \"scatterternary\"}], \"surface\": [{\"colorbar\": {\"outlinewidth\": 0, \"ticks\": \"\"}, \"colorscale\": [[0.0, \"#0d0887\"], [0.1111111111111111, \"#46039f\"], [0.2222222222222222, \"#7201a8\"], [0.3333333333333333, \"#9c179e\"], [0.4444444444444444, \"#bd3786\"], [0.5555555555555556, \"#d8576b\"], [0.6666666666666666, \"#ed7953\"], [0.7777777777777778, \"#fb9f3a\"], [0.8888888888888888, \"#fdca26\"], [1.0, \"#f0f921\"]], \"type\": \"surface\"}], \"table\": [{\"cells\": {\"fill\": {\"color\": \"#EBF0F8\"}, \"line\": {\"color\": \"white\"}}, \"header\": {\"fill\": {\"color\": \"#C8D4E3\"}, \"line\": {\"color\": \"white\"}}, \"type\": \"table\"}]}, \"layout\": {\"annotationdefaults\": {\"arrowcolor\": \"#2a3f5f\", \"arrowhead\": 0, \"arrowwidth\": 1}, \"coloraxis\": {\"colorbar\": {\"outlinewidth\": 0, \"ticks\": \"\"}}, \"colorscale\": {\"diverging\": [[0, \"#8e0152\"], [0.1, \"#c51b7d\"], [0.2, \"#de77ae\"], [0.3, \"#f1b6da\"], [0.4, \"#fde0ef\"], [0.5, \"#f7f7f7\"], [0.6, \"#e6f5d0\"], [0.7, \"#b8e186\"], [0.8, \"#7fbc41\"], [0.9, \"#4d9221\"], [1, \"#276419\"]], \"sequential\": [[0.0, \"#0d0887\"], [0.1111111111111111, \"#46039f\"], [0.2222222222222222, \"#7201a8\"], [0.3333333333333333, \"#9c179e\"], [0.4444444444444444, \"#bd3786\"], [0.5555555555555556, \"#d8576b\"], [0.6666666666666666, \"#ed7953\"], [0.7777777777777778, \"#fb9f3a\"], [0.8888888888888888, \"#fdca26\"], [1.0, \"#f0f921\"]], \"sequentialminus\": [[0.0, \"#0d0887\"], [0.1111111111111111, \"#46039f\"], [0.2222222222222222, \"#7201a8\"], [0.3333333333333333, \"#9c179e\"], [0.4444444444444444, \"#bd3786\"], [0.5555555555555556, \"#d8576b\"], [0.6666666666666666, \"#ed7953\"], [0.7777777777777778, \"#fb9f3a\"], [0.8888888888888888, \"#fdca26\"], [1.0, \"#f0f921\"]]}, \"colorway\": [\"#636efa\", \"#EF553B\", \"#00cc96\", \"#ab63fa\", \"#FFA15A\", \"#19d3f3\", \"#FF6692\", \"#B6E880\", \"#FF97FF\", \"#FECB52\"], \"font\": {\"color\": \"#2a3f5f\"}, \"geo\": {\"bgcolor\": \"white\", \"lakecolor\": \"white\", \"landcolor\": \"#E5ECF6\", \"showlakes\": true, \"showland\": true, \"subunitcolor\": \"white\"}, \"hoverlabel\": {\"align\": \"left\"}, \"hovermode\": \"closest\", \"mapbox\": {\"style\": \"light\"}, \"paper_bgcolor\": \"white\", \"plot_bgcolor\": \"#E5ECF6\", \"polar\": {\"angularaxis\": {\"gridcolor\": \"white\", \"linecolor\": \"white\", \"ticks\": \"\"}, \"bgcolor\": \"#E5ECF6\", \"radialaxis\": {\"gridcolor\": \"white\", \"linecolor\": \"white\", \"ticks\": \"\"}}, \"scene\": {\"xaxis\": {\"backgroundcolor\": \"#E5ECF6\", \"gridcolor\": \"white\", \"gridwidth\": 2, \"linecolor\": \"white\", \"showbackground\": true, \"ticks\": \"\", \"zerolinecolor\": \"white\"}, \"yaxis\": {\"backgroundcolor\": \"#E5ECF6\", \"gridcolor\": \"white\", \"gridwidth\": 2, \"linecolor\": \"white\", \"showbackground\": true, \"ticks\": \"\", \"zerolinecolor\": \"white\"}, \"zaxis\": {\"backgroundcolor\": \"#E5ECF6\", \"gridcolor\": \"white\", \"gridwidth\": 2, \"linecolor\": \"white\", \"showbackground\": true, \"ticks\": \"\", \"zerolinecolor\": \"white\"}}, \"shapedefaults\": {\"line\": {\"color\": \"#2a3f5f\"}}, \"ternary\": {\"aaxis\": {\"gridcolor\": \"white\", \"linecolor\": \"white\", \"ticks\": \"\"}, \"baxis\": {\"gridcolor\": \"white\", \"linecolor\": \"white\", \"ticks\": \"\"}, \"bgcolor\": \"#E5ECF6\", \"caxis\": {\"gridcolor\": \"white\", \"linecolor\": \"white\", \"ticks\": \"\"}}, \"title\": {\"x\": 0.05}, \"xaxis\": {\"automargin\": true, \"gridcolor\": \"white\", \"linecolor\": \"white\", \"ticks\": \"\", \"title\": {\"standoff\": 15}, \"zerolinecolor\": \"white\", \"zerolinewidth\": 2}, \"yaxis\": {\"automargin\": true, \"gridcolor\": \"white\", \"linecolor\": \"white\", \"ticks\": \"\", \"title\": {\"standoff\": 15}, \"zerolinecolor\": \"white\", \"zerolinewidth\": 2}}}, \"title\": {\"text\": \"Race distribution\"}, \"width\": 600, \"xaxis\": {\"anchor\": \"y\", \"domain\": [0.0, 1.0], \"title\": {\"text\": \"count\"}}, \"yaxis\": {\"anchor\": \"x\", \"domain\": [0.0, 1.0], \"title\": {\"text\": \"race\"}}},\n",
              "                        {\"responsive\": true}\n",
              "                    ).then(function(){\n",
              "                            \n",
              "var gd = document.getElementById('3beadcd5-8a7a-45c4-8994-e947b3ee4a6b');\n",
              "var x = new MutationObserver(function (mutations, observer) {{\n",
              "        var display = window.getComputedStyle(gd).display;\n",
              "        if (!display || display === 'none') {{\n",
              "            console.log([gd, 'removed!']);\n",
              "            Plotly.purge(gd);\n",
              "            observer.disconnect();\n",
              "        }}\n",
              "}});\n",
              "\n",
              "// Listen for the removal of the full notebook cells\n",
              "var notebookContainer = gd.closest('#notebook-container');\n",
              "if (notebookContainer) {{\n",
              "    x.observe(notebookContainer, {childList: true});\n",
              "}}\n",
              "\n",
              "// Listen for the clearing of the current output cell\n",
              "var outputEl = gd.closest('.output');\n",
              "if (outputEl) {{\n",
              "    x.observe(outputEl, {childList: true});\n",
              "}}\n",
              "\n",
              "                        })\n",
              "                };\n",
              "                \n",
              "            </script>\n",
              "        </div>\n",
              "</body>\n",
              "</html>"
            ]
          },
          "metadata": {
            "tags": []
          }
        }
      ]
    },
    {
      "cell_type": "code",
      "metadata": {
        "id": "WwdwBt6vnHXD",
        "colab": {
          "base_uri": "https://localhost:8080/",
          "height": 917
        },
        "outputId": "3aeeffcf-be02-43bf-b038-ec730520970d"
      },
      "source": [
        "city = df.groupby('city')['name'].count().reset_index().sort_values('name', ascending=True).tail(50)\n",
        "\n",
        "fig = px.bar(\n",
        "    city, \n",
        "    x=\"name\", \n",
        "    y=\"city\", \n",
        "    orientation='h',\n",
        "    title=\"Top 50 cities by deaths\", \n",
        "    width=800, \n",
        "    height=900\n",
        ")\n",
        "\n",
        "fig.show()\n"
      ],
      "execution_count": 42,
      "outputs": [
        {
          "output_type": "display_data",
          "data": {
            "text/html": [
              "<html>\n",
              "<head><meta charset=\"utf-8\" /></head>\n",
              "<body>\n",
              "    <div>\n",
              "            <script src=\"https://cdnjs.cloudflare.com/ajax/libs/mathjax/2.7.5/MathJax.js?config=TeX-AMS-MML_SVG\"></script><script type=\"text/javascript\">if (window.MathJax) {MathJax.Hub.Config({SVG: {font: \"STIX-Web\"}});}</script>\n",
              "                <script type=\"text/javascript\">window.PlotlyConfig = {MathJaxConfig: 'local'};</script>\n",
              "        <script src=\"https://cdn.plot.ly/plotly-latest.min.js\"></script>    \n",
              "            <div id=\"6f14634b-2a06-4b1e-a08c-39d06976808c\" class=\"plotly-graph-div\" style=\"height:900px; width:800px;\"></div>\n",
              "            <script type=\"text/javascript\">\n",
              "                \n",
              "                    window.PLOTLYENV=window.PLOTLYENV || {};\n",
              "                    \n",
              "                if (document.getElementById(\"6f14634b-2a06-4b1e-a08c-39d06976808c\")) {\n",
              "                    Plotly.newPlot(\n",
              "                        '6f14634b-2a06-4b1e-a08c-39d06976808c',\n",
              "                        [{\"alignmentgroup\": \"True\", \"hoverlabel\": {\"namelength\": 0}, \"hovertemplate\": \"name=%{x}<br>city=%{y}\", \"legendgroup\": \"\", \"marker\": {\"color\": \"#636efa\"}, \"name\": \"\", \"offsetgroup\": \"\", \"orientation\": \"h\", \"showlegend\": false, \"textposition\": \"auto\", \"type\": \"bar\", \"x\": [12, 12, 12, 12, 13, 13, 13, 13, 14, 14, 15, 15, 15, 15, 15, 15, 15, 15, 16, 16, 16, 16, 17, 18, 18, 18, 19, 20, 20, 21, 21, 21, 22, 23, 23, 24, 26, 29, 29, 30, 30, 31, 32, 36, 38, 40, 41, 51, 66, 78], \"xaxis\": \"x\", \"y\": [\"El Paso\", \"Honolulu\", \"Lakewood\", \"Glendale\", \"Salt Lake City\", \"Fort Worth\", \"San Bernardino\", \"Greenville\", \"Milwaukee\", \"Dallas\", \"San Jose\", \"Springfield\", \"Washington\", \"San Francisco\", \"San Diego\", \"Arlington\", \"Aurora\", \"Memphis\", \"Colorado Springs\", \"Philadelphia\", \"Pueblo\", \"Charlotte\", \"Long Beach\", \"Portland\", \"Indianapolis\", \"Fresno\", \"Baltimore\", \"Orlando\", \"Mesa\", \"Tulsa\", \"Atlanta\", \"New York\", \"Bakersfield\", \"Tucson\", \"Louisville\", \"Denver\", \"Miami\", \"Kansas City\", \"Austin\", \"Oklahoma City\", \"St. Louis\", \"Jacksonville\", \"Albuquerque\", \"Columbus\", \"Chicago\", \"San Antonio\", \"Las Vegas\", \"Houston\", \"Phoenix\", \"Los Angeles\"], \"yaxis\": \"y\"}],\n",
              "                        {\"barmode\": \"relative\", \"height\": 900, \"legend\": {\"tracegroupgap\": 0}, \"template\": {\"data\": {\"bar\": [{\"error_x\": {\"color\": \"#2a3f5f\"}, \"error_y\": {\"color\": \"#2a3f5f\"}, \"marker\": {\"line\": {\"color\": \"#E5ECF6\", \"width\": 0.5}}, \"type\": \"bar\"}], \"barpolar\": [{\"marker\": {\"line\": {\"color\": \"#E5ECF6\", \"width\": 0.5}}, \"type\": \"barpolar\"}], \"carpet\": [{\"aaxis\": {\"endlinecolor\": \"#2a3f5f\", \"gridcolor\": \"white\", \"linecolor\": \"white\", \"minorgridcolor\": \"white\", \"startlinecolor\": \"#2a3f5f\"}, \"baxis\": {\"endlinecolor\": \"#2a3f5f\", \"gridcolor\": \"white\", \"linecolor\": \"white\", \"minorgridcolor\": \"white\", \"startlinecolor\": \"#2a3f5f\"}, \"type\": \"carpet\"}], \"choropleth\": [{\"colorbar\": {\"outlinewidth\": 0, \"ticks\": \"\"}, \"type\": \"choropleth\"}], \"contour\": [{\"colorbar\": {\"outlinewidth\": 0, \"ticks\": \"\"}, \"colorscale\": [[0.0, \"#0d0887\"], [0.1111111111111111, \"#46039f\"], [0.2222222222222222, \"#7201a8\"], [0.3333333333333333, \"#9c179e\"], [0.4444444444444444, \"#bd3786\"], [0.5555555555555556, \"#d8576b\"], [0.6666666666666666, \"#ed7953\"], [0.7777777777777778, \"#fb9f3a\"], [0.8888888888888888, \"#fdca26\"], [1.0, \"#f0f921\"]], \"type\": \"contour\"}], \"contourcarpet\": [{\"colorbar\": {\"outlinewidth\": 0, \"ticks\": \"\"}, \"type\": \"contourcarpet\"}], \"heatmap\": [{\"colorbar\": {\"outlinewidth\": 0, \"ticks\": \"\"}, \"colorscale\": [[0.0, \"#0d0887\"], [0.1111111111111111, \"#46039f\"], [0.2222222222222222, \"#7201a8\"], [0.3333333333333333, \"#9c179e\"], [0.4444444444444444, \"#bd3786\"], [0.5555555555555556, \"#d8576b\"], [0.6666666666666666, \"#ed7953\"], [0.7777777777777778, \"#fb9f3a\"], [0.8888888888888888, \"#fdca26\"], [1.0, \"#f0f921\"]], \"type\": \"heatmap\"}], \"heatmapgl\": [{\"colorbar\": {\"outlinewidth\": 0, \"ticks\": \"\"}, \"colorscale\": [[0.0, \"#0d0887\"], [0.1111111111111111, \"#46039f\"], [0.2222222222222222, \"#7201a8\"], [0.3333333333333333, \"#9c179e\"], [0.4444444444444444, \"#bd3786\"], [0.5555555555555556, \"#d8576b\"], [0.6666666666666666, \"#ed7953\"], [0.7777777777777778, \"#fb9f3a\"], [0.8888888888888888, \"#fdca26\"], [1.0, \"#f0f921\"]], \"type\": \"heatmapgl\"}], \"histogram\": [{\"marker\": {\"colorbar\": {\"outlinewidth\": 0, \"ticks\": \"\"}}, \"type\": \"histogram\"}], \"histogram2d\": [{\"colorbar\": {\"outlinewidth\": 0, \"ticks\": \"\"}, \"colorscale\": [[0.0, \"#0d0887\"], [0.1111111111111111, \"#46039f\"], [0.2222222222222222, \"#7201a8\"], [0.3333333333333333, \"#9c179e\"], [0.4444444444444444, \"#bd3786\"], [0.5555555555555556, \"#d8576b\"], [0.6666666666666666, \"#ed7953\"], [0.7777777777777778, \"#fb9f3a\"], [0.8888888888888888, \"#fdca26\"], [1.0, \"#f0f921\"]], \"type\": \"histogram2d\"}], \"histogram2dcontour\": [{\"colorbar\": {\"outlinewidth\": 0, \"ticks\": \"\"}, \"colorscale\": [[0.0, \"#0d0887\"], [0.1111111111111111, \"#46039f\"], [0.2222222222222222, \"#7201a8\"], [0.3333333333333333, \"#9c179e\"], [0.4444444444444444, \"#bd3786\"], [0.5555555555555556, \"#d8576b\"], [0.6666666666666666, \"#ed7953\"], [0.7777777777777778, \"#fb9f3a\"], [0.8888888888888888, \"#fdca26\"], [1.0, \"#f0f921\"]], \"type\": \"histogram2dcontour\"}], \"mesh3d\": [{\"colorbar\": {\"outlinewidth\": 0, \"ticks\": \"\"}, \"type\": \"mesh3d\"}], \"parcoords\": [{\"line\": {\"colorbar\": {\"outlinewidth\": 0, \"ticks\": \"\"}}, \"type\": \"parcoords\"}], \"pie\": [{\"automargin\": true, \"type\": \"pie\"}], \"scatter\": [{\"marker\": {\"colorbar\": {\"outlinewidth\": 0, \"ticks\": \"\"}}, \"type\": \"scatter\"}], \"scatter3d\": [{\"line\": {\"colorbar\": {\"outlinewidth\": 0, \"ticks\": \"\"}}, \"marker\": {\"colorbar\": {\"outlinewidth\": 0, \"ticks\": \"\"}}, \"type\": \"scatter3d\"}], \"scattercarpet\": [{\"marker\": {\"colorbar\": {\"outlinewidth\": 0, \"ticks\": \"\"}}, \"type\": \"scattercarpet\"}], \"scattergeo\": [{\"marker\": {\"colorbar\": {\"outlinewidth\": 0, \"ticks\": \"\"}}, \"type\": \"scattergeo\"}], \"scattergl\": [{\"marker\": {\"colorbar\": {\"outlinewidth\": 0, \"ticks\": \"\"}}, \"type\": \"scattergl\"}], \"scattermapbox\": [{\"marker\": {\"colorbar\": {\"outlinewidth\": 0, \"ticks\": \"\"}}, \"type\": \"scattermapbox\"}], \"scatterpolar\": [{\"marker\": {\"colorbar\": {\"outlinewidth\": 0, \"ticks\": \"\"}}, \"type\": \"scatterpolar\"}], \"scatterpolargl\": [{\"marker\": {\"colorbar\": {\"outlinewidth\": 0, \"ticks\": \"\"}}, \"type\": \"scatterpolargl\"}], \"scatterternary\": [{\"marker\": {\"colorbar\": {\"outlinewidth\": 0, \"ticks\": \"\"}}, \"type\": \"scatterternary\"}], \"surface\": [{\"colorbar\": {\"outlinewidth\": 0, \"ticks\": \"\"}, \"colorscale\": [[0.0, \"#0d0887\"], [0.1111111111111111, \"#46039f\"], [0.2222222222222222, \"#7201a8\"], [0.3333333333333333, \"#9c179e\"], [0.4444444444444444, \"#bd3786\"], [0.5555555555555556, \"#d8576b\"], [0.6666666666666666, \"#ed7953\"], [0.7777777777777778, \"#fb9f3a\"], [0.8888888888888888, \"#fdca26\"], [1.0, \"#f0f921\"]], \"type\": \"surface\"}], \"table\": [{\"cells\": {\"fill\": {\"color\": \"#EBF0F8\"}, \"line\": {\"color\": \"white\"}}, \"header\": {\"fill\": {\"color\": \"#C8D4E3\"}, \"line\": {\"color\": \"white\"}}, \"type\": \"table\"}]}, \"layout\": {\"annotationdefaults\": {\"arrowcolor\": \"#2a3f5f\", \"arrowhead\": 0, \"arrowwidth\": 1}, \"coloraxis\": {\"colorbar\": {\"outlinewidth\": 0, \"ticks\": \"\"}}, \"colorscale\": {\"diverging\": [[0, \"#8e0152\"], [0.1, \"#c51b7d\"], [0.2, \"#de77ae\"], [0.3, \"#f1b6da\"], [0.4, \"#fde0ef\"], [0.5, \"#f7f7f7\"], [0.6, \"#e6f5d0\"], [0.7, \"#b8e186\"], [0.8, \"#7fbc41\"], [0.9, \"#4d9221\"], [1, \"#276419\"]], \"sequential\": [[0.0, \"#0d0887\"], [0.1111111111111111, \"#46039f\"], [0.2222222222222222, \"#7201a8\"], [0.3333333333333333, \"#9c179e\"], [0.4444444444444444, \"#bd3786\"], [0.5555555555555556, \"#d8576b\"], [0.6666666666666666, \"#ed7953\"], [0.7777777777777778, \"#fb9f3a\"], [0.8888888888888888, \"#fdca26\"], [1.0, \"#f0f921\"]], \"sequentialminus\": [[0.0, \"#0d0887\"], [0.1111111111111111, \"#46039f\"], [0.2222222222222222, \"#7201a8\"], [0.3333333333333333, \"#9c179e\"], [0.4444444444444444, \"#bd3786\"], [0.5555555555555556, \"#d8576b\"], [0.6666666666666666, \"#ed7953\"], [0.7777777777777778, \"#fb9f3a\"], [0.8888888888888888, \"#fdca26\"], [1.0, \"#f0f921\"]]}, \"colorway\": [\"#636efa\", \"#EF553B\", \"#00cc96\", \"#ab63fa\", \"#FFA15A\", \"#19d3f3\", \"#FF6692\", \"#B6E880\", \"#FF97FF\", \"#FECB52\"], \"font\": {\"color\": \"#2a3f5f\"}, \"geo\": {\"bgcolor\": \"white\", \"lakecolor\": \"white\", \"landcolor\": \"#E5ECF6\", \"showlakes\": true, \"showland\": true, \"subunitcolor\": \"white\"}, \"hoverlabel\": {\"align\": \"left\"}, \"hovermode\": \"closest\", \"mapbox\": {\"style\": \"light\"}, \"paper_bgcolor\": \"white\", \"plot_bgcolor\": \"#E5ECF6\", \"polar\": {\"angularaxis\": {\"gridcolor\": \"white\", \"linecolor\": \"white\", \"ticks\": \"\"}, \"bgcolor\": \"#E5ECF6\", \"radialaxis\": {\"gridcolor\": \"white\", \"linecolor\": \"white\", \"ticks\": \"\"}}, \"scene\": {\"xaxis\": {\"backgroundcolor\": \"#E5ECF6\", \"gridcolor\": \"white\", \"gridwidth\": 2, \"linecolor\": \"white\", \"showbackground\": true, \"ticks\": \"\", \"zerolinecolor\": \"white\"}, \"yaxis\": {\"backgroundcolor\": \"#E5ECF6\", \"gridcolor\": \"white\", \"gridwidth\": 2, \"linecolor\": \"white\", \"showbackground\": true, \"ticks\": \"\", \"zerolinecolor\": \"white\"}, \"zaxis\": {\"backgroundcolor\": \"#E5ECF6\", \"gridcolor\": \"white\", \"gridwidth\": 2, \"linecolor\": \"white\", \"showbackground\": true, \"ticks\": \"\", \"zerolinecolor\": \"white\"}}, \"shapedefaults\": {\"line\": {\"color\": \"#2a3f5f\"}}, \"ternary\": {\"aaxis\": {\"gridcolor\": \"white\", \"linecolor\": \"white\", \"ticks\": \"\"}, \"baxis\": {\"gridcolor\": \"white\", \"linecolor\": \"white\", \"ticks\": \"\"}, \"bgcolor\": \"#E5ECF6\", \"caxis\": {\"gridcolor\": \"white\", \"linecolor\": \"white\", \"ticks\": \"\"}}, \"title\": {\"x\": 0.05}, \"xaxis\": {\"automargin\": true, \"gridcolor\": \"white\", \"linecolor\": \"white\", \"ticks\": \"\", \"title\": {\"standoff\": 15}, \"zerolinecolor\": \"white\", \"zerolinewidth\": 2}, \"yaxis\": {\"automargin\": true, \"gridcolor\": \"white\", \"linecolor\": \"white\", \"ticks\": \"\", \"title\": {\"standoff\": 15}, \"zerolinecolor\": \"white\", \"zerolinewidth\": 2}}}, \"title\": {\"text\": \"Top 50 cities by deaths\"}, \"width\": 800, \"xaxis\": {\"anchor\": \"y\", \"domain\": [0.0, 1.0], \"title\": {\"text\": \"name\"}}, \"yaxis\": {\"anchor\": \"x\", \"domain\": [0.0, 1.0], \"title\": {\"text\": \"city\"}}},\n",
              "                        {\"responsive\": true}\n",
              "                    ).then(function(){\n",
              "                            \n",
              "var gd = document.getElementById('6f14634b-2a06-4b1e-a08c-39d06976808c');\n",
              "var x = new MutationObserver(function (mutations, observer) {{\n",
              "        var display = window.getComputedStyle(gd).display;\n",
              "        if (!display || display === 'none') {{\n",
              "            console.log([gd, 'removed!']);\n",
              "            Plotly.purge(gd);\n",
              "            observer.disconnect();\n",
              "        }}\n",
              "}});\n",
              "\n",
              "// Listen for the removal of the full notebook cells\n",
              "var notebookContainer = gd.closest('#notebook-container');\n",
              "if (notebookContainer) {{\n",
              "    x.observe(notebookContainer, {childList: true});\n",
              "}}\n",
              "\n",
              "// Listen for the clearing of the current output cell\n",
              "var outputEl = gd.closest('.output');\n",
              "if (outputEl) {{\n",
              "    x.observe(outputEl, {childList: true});\n",
              "}}\n",
              "\n",
              "                        })\n",
              "                };\n",
              "                \n",
              "            </script>\n",
              "        </div>\n",
              "</body>\n",
              "</html>"
            ]
          },
          "metadata": {
            "tags": []
          }
        }
      ]
    },
    {
      "cell_type": "markdown",
      "metadata": {
        "id": "hs2AqZTGnRn6"
      },
      "source": [
        "**Lets extract some standard features from date and check them**"
      ]
    },
    {
      "cell_type": "code",
      "metadata": {
        "id": "OZdg5AUynJIN"
      },
      "source": [
        "df[\"date\"] = pd.to_datetime(df[\"date\"])\n",
        "df[\"weekday\"] = df[\"date\"].dt.weekday\n",
        "df['month'] = df['date'].dt.month\n",
        "df['month_day'] = df['date'].dt.day\n",
        "df['year'] = df['date'].dt.year"
      ],
      "execution_count": 43,
      "outputs": []
    },
    {
      "cell_type": "code",
      "metadata": {
        "id": "GoCE9Z0Bnbp8",
        "colab": {
          "base_uri": "https://localhost:8080/",
          "height": 542
        },
        "outputId": "98163e8a-a385-42ed-e1e7-350106a20249"
      },
      "source": [
        "data = df.groupby(['weekday'])['name'].count().reset_index()\n",
        "data.columns = ['weekday', 'count']\n",
        "\n",
        "fig = px.bar(\n",
        "    data, \n",
        "    x='weekday', \n",
        "    y='count',\n",
        "    orientation='v', \n",
        "    title='Day of week', \n",
        "    width=600\n",
        ")\n",
        "\n",
        "fig.show()\n"
      ],
      "execution_count": 44,
      "outputs": [
        {
          "output_type": "display_data",
          "data": {
            "text/html": [
              "<html>\n",
              "<head><meta charset=\"utf-8\" /></head>\n",
              "<body>\n",
              "    <div>\n",
              "            <script src=\"https://cdnjs.cloudflare.com/ajax/libs/mathjax/2.7.5/MathJax.js?config=TeX-AMS-MML_SVG\"></script><script type=\"text/javascript\">if (window.MathJax) {MathJax.Hub.Config({SVG: {font: \"STIX-Web\"}});}</script>\n",
              "                <script type=\"text/javascript\">window.PlotlyConfig = {MathJaxConfig: 'local'};</script>\n",
              "        <script src=\"https://cdn.plot.ly/plotly-latest.min.js\"></script>    \n",
              "            <div id=\"e7dad3c5-3d91-47e0-85de-6cfb0e078752\" class=\"plotly-graph-div\" style=\"height:525px; width:600px;\"></div>\n",
              "            <script type=\"text/javascript\">\n",
              "                \n",
              "                    window.PLOTLYENV=window.PLOTLYENV || {};\n",
              "                    \n",
              "                if (document.getElementById(\"e7dad3c5-3d91-47e0-85de-6cfb0e078752\")) {\n",
              "                    Plotly.newPlot(\n",
              "                        'e7dad3c5-3d91-47e0-85de-6cfb0e078752',\n",
              "                        [{\"alignmentgroup\": \"True\", \"hoverlabel\": {\"namelength\": 0}, \"hovertemplate\": \"weekday=%{x}<br>count=%{y}\", \"legendgroup\": \"\", \"marker\": {\"color\": \"#636efa\"}, \"name\": \"\", \"offsetgroup\": \"\", \"orientation\": \"v\", \"showlegend\": false, \"textposition\": \"auto\", \"type\": \"bar\", \"x\": [0, 1, 2, 3, 4, 5, 6], \"xaxis\": \"x\", \"y\": [671, 735, 758, 734, 674, 648, 675], \"yaxis\": \"y\"}],\n",
              "                        {\"barmode\": \"relative\", \"legend\": {\"tracegroupgap\": 0}, \"template\": {\"data\": {\"bar\": [{\"error_x\": {\"color\": \"#2a3f5f\"}, \"error_y\": {\"color\": \"#2a3f5f\"}, \"marker\": {\"line\": {\"color\": \"#E5ECF6\", \"width\": 0.5}}, \"type\": \"bar\"}], \"barpolar\": [{\"marker\": {\"line\": {\"color\": \"#E5ECF6\", \"width\": 0.5}}, \"type\": \"barpolar\"}], \"carpet\": [{\"aaxis\": {\"endlinecolor\": \"#2a3f5f\", \"gridcolor\": \"white\", \"linecolor\": \"white\", \"minorgridcolor\": \"white\", \"startlinecolor\": \"#2a3f5f\"}, \"baxis\": {\"endlinecolor\": \"#2a3f5f\", \"gridcolor\": \"white\", \"linecolor\": \"white\", \"minorgridcolor\": \"white\", \"startlinecolor\": \"#2a3f5f\"}, \"type\": \"carpet\"}], \"choropleth\": [{\"colorbar\": {\"outlinewidth\": 0, \"ticks\": \"\"}, \"type\": \"choropleth\"}], \"contour\": [{\"colorbar\": {\"outlinewidth\": 0, \"ticks\": \"\"}, \"colorscale\": [[0.0, \"#0d0887\"], [0.1111111111111111, \"#46039f\"], [0.2222222222222222, \"#7201a8\"], [0.3333333333333333, \"#9c179e\"], [0.4444444444444444, \"#bd3786\"], [0.5555555555555556, \"#d8576b\"], [0.6666666666666666, \"#ed7953\"], [0.7777777777777778, \"#fb9f3a\"], [0.8888888888888888, \"#fdca26\"], [1.0, \"#f0f921\"]], \"type\": \"contour\"}], \"contourcarpet\": [{\"colorbar\": {\"outlinewidth\": 0, \"ticks\": \"\"}, \"type\": \"contourcarpet\"}], \"heatmap\": [{\"colorbar\": {\"outlinewidth\": 0, \"ticks\": \"\"}, \"colorscale\": [[0.0, \"#0d0887\"], [0.1111111111111111, \"#46039f\"], [0.2222222222222222, \"#7201a8\"], [0.3333333333333333, \"#9c179e\"], [0.4444444444444444, \"#bd3786\"], [0.5555555555555556, \"#d8576b\"], [0.6666666666666666, \"#ed7953\"], [0.7777777777777778, \"#fb9f3a\"], [0.8888888888888888, \"#fdca26\"], [1.0, \"#f0f921\"]], \"type\": \"heatmap\"}], \"heatmapgl\": [{\"colorbar\": {\"outlinewidth\": 0, \"ticks\": \"\"}, \"colorscale\": [[0.0, \"#0d0887\"], [0.1111111111111111, \"#46039f\"], [0.2222222222222222, \"#7201a8\"], [0.3333333333333333, \"#9c179e\"], [0.4444444444444444, \"#bd3786\"], [0.5555555555555556, \"#d8576b\"], [0.6666666666666666, \"#ed7953\"], [0.7777777777777778, \"#fb9f3a\"], [0.8888888888888888, \"#fdca26\"], [1.0, \"#f0f921\"]], \"type\": \"heatmapgl\"}], \"histogram\": [{\"marker\": {\"colorbar\": {\"outlinewidth\": 0, \"ticks\": \"\"}}, \"type\": \"histogram\"}], \"histogram2d\": [{\"colorbar\": {\"outlinewidth\": 0, \"ticks\": \"\"}, \"colorscale\": [[0.0, \"#0d0887\"], [0.1111111111111111, \"#46039f\"], [0.2222222222222222, \"#7201a8\"], [0.3333333333333333, \"#9c179e\"], [0.4444444444444444, \"#bd3786\"], [0.5555555555555556, \"#d8576b\"], [0.6666666666666666, \"#ed7953\"], [0.7777777777777778, \"#fb9f3a\"], [0.8888888888888888, \"#fdca26\"], [1.0, \"#f0f921\"]], \"type\": \"histogram2d\"}], \"histogram2dcontour\": [{\"colorbar\": {\"outlinewidth\": 0, \"ticks\": \"\"}, \"colorscale\": [[0.0, \"#0d0887\"], [0.1111111111111111, \"#46039f\"], [0.2222222222222222, \"#7201a8\"], [0.3333333333333333, \"#9c179e\"], [0.4444444444444444, \"#bd3786\"], [0.5555555555555556, \"#d8576b\"], [0.6666666666666666, \"#ed7953\"], [0.7777777777777778, \"#fb9f3a\"], [0.8888888888888888, \"#fdca26\"], [1.0, \"#f0f921\"]], \"type\": \"histogram2dcontour\"}], \"mesh3d\": [{\"colorbar\": {\"outlinewidth\": 0, \"ticks\": \"\"}, \"type\": \"mesh3d\"}], \"parcoords\": [{\"line\": {\"colorbar\": {\"outlinewidth\": 0, \"ticks\": \"\"}}, \"type\": \"parcoords\"}], \"pie\": [{\"automargin\": true, \"type\": \"pie\"}], \"scatter\": [{\"marker\": {\"colorbar\": {\"outlinewidth\": 0, \"ticks\": \"\"}}, \"type\": \"scatter\"}], \"scatter3d\": [{\"line\": {\"colorbar\": {\"outlinewidth\": 0, \"ticks\": \"\"}}, \"marker\": {\"colorbar\": {\"outlinewidth\": 0, \"ticks\": \"\"}}, \"type\": \"scatter3d\"}], \"scattercarpet\": [{\"marker\": {\"colorbar\": {\"outlinewidth\": 0, \"ticks\": \"\"}}, \"type\": \"scattercarpet\"}], \"scattergeo\": [{\"marker\": {\"colorbar\": {\"outlinewidth\": 0, \"ticks\": \"\"}}, \"type\": \"scattergeo\"}], \"scattergl\": [{\"marker\": {\"colorbar\": {\"outlinewidth\": 0, \"ticks\": \"\"}}, \"type\": \"scattergl\"}], \"scattermapbox\": [{\"marker\": {\"colorbar\": {\"outlinewidth\": 0, \"ticks\": \"\"}}, \"type\": \"scattermapbox\"}], \"scatterpolar\": [{\"marker\": {\"colorbar\": {\"outlinewidth\": 0, \"ticks\": \"\"}}, \"type\": \"scatterpolar\"}], \"scatterpolargl\": [{\"marker\": {\"colorbar\": {\"outlinewidth\": 0, \"ticks\": \"\"}}, \"type\": \"scatterpolargl\"}], \"scatterternary\": [{\"marker\": {\"colorbar\": {\"outlinewidth\": 0, \"ticks\": \"\"}}, \"type\": \"scatterternary\"}], \"surface\": [{\"colorbar\": {\"outlinewidth\": 0, \"ticks\": \"\"}, \"colorscale\": [[0.0, \"#0d0887\"], [0.1111111111111111, \"#46039f\"], [0.2222222222222222, \"#7201a8\"], [0.3333333333333333, \"#9c179e\"], [0.4444444444444444, \"#bd3786\"], [0.5555555555555556, \"#d8576b\"], [0.6666666666666666, \"#ed7953\"], [0.7777777777777778, \"#fb9f3a\"], [0.8888888888888888, \"#fdca26\"], [1.0, \"#f0f921\"]], \"type\": \"surface\"}], \"table\": [{\"cells\": {\"fill\": {\"color\": \"#EBF0F8\"}, \"line\": {\"color\": \"white\"}}, \"header\": {\"fill\": {\"color\": \"#C8D4E3\"}, \"line\": {\"color\": \"white\"}}, \"type\": \"table\"}]}, \"layout\": {\"annotationdefaults\": {\"arrowcolor\": \"#2a3f5f\", \"arrowhead\": 0, \"arrowwidth\": 1}, \"coloraxis\": {\"colorbar\": {\"outlinewidth\": 0, \"ticks\": \"\"}}, \"colorscale\": {\"diverging\": [[0, \"#8e0152\"], [0.1, \"#c51b7d\"], [0.2, \"#de77ae\"], [0.3, \"#f1b6da\"], [0.4, \"#fde0ef\"], [0.5, \"#f7f7f7\"], [0.6, \"#e6f5d0\"], [0.7, \"#b8e186\"], [0.8, \"#7fbc41\"], [0.9, \"#4d9221\"], [1, \"#276419\"]], \"sequential\": [[0.0, \"#0d0887\"], [0.1111111111111111, \"#46039f\"], [0.2222222222222222, \"#7201a8\"], [0.3333333333333333, \"#9c179e\"], [0.4444444444444444, \"#bd3786\"], [0.5555555555555556, \"#d8576b\"], [0.6666666666666666, \"#ed7953\"], [0.7777777777777778, \"#fb9f3a\"], [0.8888888888888888, \"#fdca26\"], [1.0, \"#f0f921\"]], \"sequentialminus\": [[0.0, \"#0d0887\"], [0.1111111111111111, \"#46039f\"], [0.2222222222222222, \"#7201a8\"], [0.3333333333333333, \"#9c179e\"], [0.4444444444444444, \"#bd3786\"], [0.5555555555555556, \"#d8576b\"], [0.6666666666666666, \"#ed7953\"], [0.7777777777777778, \"#fb9f3a\"], [0.8888888888888888, \"#fdca26\"], [1.0, \"#f0f921\"]]}, \"colorway\": [\"#636efa\", \"#EF553B\", \"#00cc96\", \"#ab63fa\", \"#FFA15A\", \"#19d3f3\", \"#FF6692\", \"#B6E880\", \"#FF97FF\", \"#FECB52\"], \"font\": {\"color\": \"#2a3f5f\"}, \"geo\": {\"bgcolor\": \"white\", \"lakecolor\": \"white\", \"landcolor\": \"#E5ECF6\", \"showlakes\": true, \"showland\": true, \"subunitcolor\": \"white\"}, \"hoverlabel\": {\"align\": \"left\"}, \"hovermode\": \"closest\", \"mapbox\": {\"style\": \"light\"}, \"paper_bgcolor\": \"white\", \"plot_bgcolor\": \"#E5ECF6\", \"polar\": {\"angularaxis\": {\"gridcolor\": \"white\", \"linecolor\": \"white\", \"ticks\": \"\"}, \"bgcolor\": \"#E5ECF6\", \"radialaxis\": {\"gridcolor\": \"white\", \"linecolor\": \"white\", \"ticks\": \"\"}}, \"scene\": {\"xaxis\": {\"backgroundcolor\": \"#E5ECF6\", \"gridcolor\": \"white\", \"gridwidth\": 2, \"linecolor\": \"white\", \"showbackground\": true, \"ticks\": \"\", \"zerolinecolor\": \"white\"}, \"yaxis\": {\"backgroundcolor\": \"#E5ECF6\", \"gridcolor\": \"white\", \"gridwidth\": 2, \"linecolor\": \"white\", \"showbackground\": true, \"ticks\": \"\", \"zerolinecolor\": \"white\"}, \"zaxis\": {\"backgroundcolor\": \"#E5ECF6\", \"gridcolor\": \"white\", \"gridwidth\": 2, \"linecolor\": \"white\", \"showbackground\": true, \"ticks\": \"\", \"zerolinecolor\": \"white\"}}, \"shapedefaults\": {\"line\": {\"color\": \"#2a3f5f\"}}, \"ternary\": {\"aaxis\": {\"gridcolor\": \"white\", \"linecolor\": \"white\", \"ticks\": \"\"}, \"baxis\": {\"gridcolor\": \"white\", \"linecolor\": \"white\", \"ticks\": \"\"}, \"bgcolor\": \"#E5ECF6\", \"caxis\": {\"gridcolor\": \"white\", \"linecolor\": \"white\", \"ticks\": \"\"}}, \"title\": {\"x\": 0.05}, \"xaxis\": {\"automargin\": true, \"gridcolor\": \"white\", \"linecolor\": \"white\", \"ticks\": \"\", \"title\": {\"standoff\": 15}, \"zerolinecolor\": \"white\", \"zerolinewidth\": 2}, \"yaxis\": {\"automargin\": true, \"gridcolor\": \"white\", \"linecolor\": \"white\", \"ticks\": \"\", \"title\": {\"standoff\": 15}, \"zerolinecolor\": \"white\", \"zerolinewidth\": 2}}}, \"title\": {\"text\": \"Day of week\"}, \"width\": 600, \"xaxis\": {\"anchor\": \"y\", \"domain\": [0.0, 1.0], \"title\": {\"text\": \"weekday\"}}, \"yaxis\": {\"anchor\": \"x\", \"domain\": [0.0, 1.0], \"title\": {\"text\": \"count\"}}},\n",
              "                        {\"responsive\": true}\n",
              "                    ).then(function(){\n",
              "                            \n",
              "var gd = document.getElementById('e7dad3c5-3d91-47e0-85de-6cfb0e078752');\n",
              "var x = new MutationObserver(function (mutations, observer) {{\n",
              "        var display = window.getComputedStyle(gd).display;\n",
              "        if (!display || display === 'none') {{\n",
              "            console.log([gd, 'removed!']);\n",
              "            Plotly.purge(gd);\n",
              "            observer.disconnect();\n",
              "        }}\n",
              "}});\n",
              "\n",
              "// Listen for the removal of the full notebook cells\n",
              "var notebookContainer = gd.closest('#notebook-container');\n",
              "if (notebookContainer) {{\n",
              "    x.observe(notebookContainer, {childList: true});\n",
              "}}\n",
              "\n",
              "// Listen for the clearing of the current output cell\n",
              "var outputEl = gd.closest('.output');\n",
              "if (outputEl) {{\n",
              "    x.observe(outputEl, {childList: true});\n",
              "}}\n",
              "\n",
              "                        })\n",
              "                };\n",
              "                \n",
              "            </script>\n",
              "        </div>\n",
              "</body>\n",
              "</html>"
            ]
          },
          "metadata": {
            "tags": []
          }
        }
      ]
    },
    {
      "cell_type": "code",
      "metadata": {
        "id": "tETYntPTnh6d",
        "colab": {
          "base_uri": "https://localhost:8080/",
          "height": 542
        },
        "outputId": "f2205073-7724-4cdd-cb29-f8121d59d2dc"
      },
      "source": [
        "data = df.groupby(['month'])['name'].count().reset_index()\n",
        "data.columns = ['month', 'count']\n",
        "\n",
        "fig = px.bar(\n",
        "    data, \n",
        "    x='month', \n",
        "    y='count', \n",
        "    orientation='v', \n",
        "    title='Month of year', \n",
        "    width=800\n",
        ")\n",
        "\n",
        "fig.show()"
      ],
      "execution_count": 45,
      "outputs": [
        {
          "output_type": "display_data",
          "data": {
            "text/html": [
              "<html>\n",
              "<head><meta charset=\"utf-8\" /></head>\n",
              "<body>\n",
              "    <div>\n",
              "            <script src=\"https://cdnjs.cloudflare.com/ajax/libs/mathjax/2.7.5/MathJax.js?config=TeX-AMS-MML_SVG\"></script><script type=\"text/javascript\">if (window.MathJax) {MathJax.Hub.Config({SVG: {font: \"STIX-Web\"}});}</script>\n",
              "                <script type=\"text/javascript\">window.PlotlyConfig = {MathJaxConfig: 'local'};</script>\n",
              "        <script src=\"https://cdn.plot.ly/plotly-latest.min.js\"></script>    \n",
              "            <div id=\"9ea8b59b-1108-445b-8931-2bc6ef82ece0\" class=\"plotly-graph-div\" style=\"height:525px; width:800px;\"></div>\n",
              "            <script type=\"text/javascript\">\n",
              "                \n",
              "                    window.PLOTLYENV=window.PLOTLYENV || {};\n",
              "                    \n",
              "                if (document.getElementById(\"9ea8b59b-1108-445b-8931-2bc6ef82ece0\")) {\n",
              "                    Plotly.newPlot(\n",
              "                        '9ea8b59b-1108-445b-8931-2bc6ef82ece0',\n",
              "                        [{\"alignmentgroup\": \"True\", \"hoverlabel\": {\"namelength\": 0}, \"hovertemplate\": \"month=%{x}<br>count=%{y}\", \"legendgroup\": \"\", \"marker\": {\"color\": \"#636efa\"}, \"name\": \"\", \"offsetgroup\": \"\", \"orientation\": \"v\", \"showlegend\": false, \"textposition\": \"auto\", \"type\": \"bar\", \"x\": [1, 2, 3, 4, 5, 6, 7, 8, 9, 10, 11, 12], \"xaxis\": \"x\", \"y\": [505, 462, 503, 430, 418, 399, 413, 371, 328, 367, 354, 345], \"yaxis\": \"y\"}],\n",
              "                        {\"barmode\": \"relative\", \"legend\": {\"tracegroupgap\": 0}, \"template\": {\"data\": {\"bar\": [{\"error_x\": {\"color\": \"#2a3f5f\"}, \"error_y\": {\"color\": \"#2a3f5f\"}, \"marker\": {\"line\": {\"color\": \"#E5ECF6\", \"width\": 0.5}}, \"type\": \"bar\"}], \"barpolar\": [{\"marker\": {\"line\": {\"color\": \"#E5ECF6\", \"width\": 0.5}}, \"type\": \"barpolar\"}], \"carpet\": [{\"aaxis\": {\"endlinecolor\": \"#2a3f5f\", \"gridcolor\": \"white\", \"linecolor\": \"white\", \"minorgridcolor\": \"white\", \"startlinecolor\": \"#2a3f5f\"}, \"baxis\": {\"endlinecolor\": \"#2a3f5f\", \"gridcolor\": \"white\", \"linecolor\": \"white\", \"minorgridcolor\": \"white\", \"startlinecolor\": \"#2a3f5f\"}, \"type\": \"carpet\"}], \"choropleth\": [{\"colorbar\": {\"outlinewidth\": 0, \"ticks\": \"\"}, \"type\": \"choropleth\"}], \"contour\": [{\"colorbar\": {\"outlinewidth\": 0, \"ticks\": \"\"}, \"colorscale\": [[0.0, \"#0d0887\"], [0.1111111111111111, \"#46039f\"], [0.2222222222222222, \"#7201a8\"], [0.3333333333333333, \"#9c179e\"], [0.4444444444444444, \"#bd3786\"], [0.5555555555555556, \"#d8576b\"], [0.6666666666666666, \"#ed7953\"], [0.7777777777777778, \"#fb9f3a\"], [0.8888888888888888, \"#fdca26\"], [1.0, \"#f0f921\"]], \"type\": \"contour\"}], \"contourcarpet\": [{\"colorbar\": {\"outlinewidth\": 0, \"ticks\": \"\"}, \"type\": \"contourcarpet\"}], \"heatmap\": [{\"colorbar\": {\"outlinewidth\": 0, \"ticks\": \"\"}, \"colorscale\": [[0.0, \"#0d0887\"], [0.1111111111111111, \"#46039f\"], [0.2222222222222222, \"#7201a8\"], [0.3333333333333333, \"#9c179e\"], [0.4444444444444444, \"#bd3786\"], [0.5555555555555556, \"#d8576b\"], [0.6666666666666666, \"#ed7953\"], [0.7777777777777778, \"#fb9f3a\"], [0.8888888888888888, \"#fdca26\"], [1.0, \"#f0f921\"]], \"type\": \"heatmap\"}], \"heatmapgl\": [{\"colorbar\": {\"outlinewidth\": 0, \"ticks\": \"\"}, \"colorscale\": [[0.0, \"#0d0887\"], [0.1111111111111111, \"#46039f\"], [0.2222222222222222, \"#7201a8\"], [0.3333333333333333, \"#9c179e\"], [0.4444444444444444, \"#bd3786\"], [0.5555555555555556, \"#d8576b\"], [0.6666666666666666, \"#ed7953\"], [0.7777777777777778, \"#fb9f3a\"], [0.8888888888888888, \"#fdca26\"], [1.0, \"#f0f921\"]], \"type\": \"heatmapgl\"}], \"histogram\": [{\"marker\": {\"colorbar\": {\"outlinewidth\": 0, \"ticks\": \"\"}}, \"type\": \"histogram\"}], \"histogram2d\": [{\"colorbar\": {\"outlinewidth\": 0, \"ticks\": \"\"}, \"colorscale\": [[0.0, \"#0d0887\"], [0.1111111111111111, \"#46039f\"], [0.2222222222222222, \"#7201a8\"], [0.3333333333333333, \"#9c179e\"], [0.4444444444444444, \"#bd3786\"], [0.5555555555555556, \"#d8576b\"], [0.6666666666666666, \"#ed7953\"], [0.7777777777777778, \"#fb9f3a\"], [0.8888888888888888, \"#fdca26\"], [1.0, \"#f0f921\"]], \"type\": \"histogram2d\"}], \"histogram2dcontour\": [{\"colorbar\": {\"outlinewidth\": 0, \"ticks\": \"\"}, \"colorscale\": [[0.0, \"#0d0887\"], [0.1111111111111111, \"#46039f\"], [0.2222222222222222, \"#7201a8\"], [0.3333333333333333, \"#9c179e\"], [0.4444444444444444, \"#bd3786\"], [0.5555555555555556, \"#d8576b\"], [0.6666666666666666, \"#ed7953\"], [0.7777777777777778, \"#fb9f3a\"], [0.8888888888888888, \"#fdca26\"], [1.0, \"#f0f921\"]], \"type\": \"histogram2dcontour\"}], \"mesh3d\": [{\"colorbar\": {\"outlinewidth\": 0, \"ticks\": \"\"}, \"type\": \"mesh3d\"}], \"parcoords\": [{\"line\": {\"colorbar\": {\"outlinewidth\": 0, \"ticks\": \"\"}}, \"type\": \"parcoords\"}], \"pie\": [{\"automargin\": true, \"type\": \"pie\"}], \"scatter\": [{\"marker\": {\"colorbar\": {\"outlinewidth\": 0, \"ticks\": \"\"}}, \"type\": \"scatter\"}], \"scatter3d\": [{\"line\": {\"colorbar\": {\"outlinewidth\": 0, \"ticks\": \"\"}}, \"marker\": {\"colorbar\": {\"outlinewidth\": 0, \"ticks\": \"\"}}, \"type\": \"scatter3d\"}], \"scattercarpet\": [{\"marker\": {\"colorbar\": {\"outlinewidth\": 0, \"ticks\": \"\"}}, \"type\": \"scattercarpet\"}], \"scattergeo\": [{\"marker\": {\"colorbar\": {\"outlinewidth\": 0, \"ticks\": \"\"}}, \"type\": \"scattergeo\"}], \"scattergl\": [{\"marker\": {\"colorbar\": {\"outlinewidth\": 0, \"ticks\": \"\"}}, \"type\": \"scattergl\"}], \"scattermapbox\": [{\"marker\": {\"colorbar\": {\"outlinewidth\": 0, \"ticks\": \"\"}}, \"type\": \"scattermapbox\"}], \"scatterpolar\": [{\"marker\": {\"colorbar\": {\"outlinewidth\": 0, \"ticks\": \"\"}}, \"type\": \"scatterpolar\"}], \"scatterpolargl\": [{\"marker\": {\"colorbar\": {\"outlinewidth\": 0, \"ticks\": \"\"}}, \"type\": \"scatterpolargl\"}], \"scatterternary\": [{\"marker\": {\"colorbar\": {\"outlinewidth\": 0, \"ticks\": \"\"}}, \"type\": \"scatterternary\"}], \"surface\": [{\"colorbar\": {\"outlinewidth\": 0, \"ticks\": \"\"}, \"colorscale\": [[0.0, \"#0d0887\"], [0.1111111111111111, \"#46039f\"], [0.2222222222222222, \"#7201a8\"], [0.3333333333333333, \"#9c179e\"], [0.4444444444444444, \"#bd3786\"], [0.5555555555555556, \"#d8576b\"], [0.6666666666666666, \"#ed7953\"], [0.7777777777777778, \"#fb9f3a\"], [0.8888888888888888, \"#fdca26\"], [1.0, \"#f0f921\"]], \"type\": \"surface\"}], \"table\": [{\"cells\": {\"fill\": {\"color\": \"#EBF0F8\"}, \"line\": {\"color\": \"white\"}}, \"header\": {\"fill\": {\"color\": \"#C8D4E3\"}, \"line\": {\"color\": \"white\"}}, \"type\": \"table\"}]}, \"layout\": {\"annotationdefaults\": {\"arrowcolor\": \"#2a3f5f\", \"arrowhead\": 0, \"arrowwidth\": 1}, \"coloraxis\": {\"colorbar\": {\"outlinewidth\": 0, \"ticks\": \"\"}}, \"colorscale\": {\"diverging\": [[0, \"#8e0152\"], [0.1, \"#c51b7d\"], [0.2, \"#de77ae\"], [0.3, \"#f1b6da\"], [0.4, \"#fde0ef\"], [0.5, \"#f7f7f7\"], [0.6, \"#e6f5d0\"], [0.7, \"#b8e186\"], [0.8, \"#7fbc41\"], [0.9, \"#4d9221\"], [1, \"#276419\"]], \"sequential\": [[0.0, \"#0d0887\"], [0.1111111111111111, \"#46039f\"], [0.2222222222222222, \"#7201a8\"], [0.3333333333333333, \"#9c179e\"], [0.4444444444444444, \"#bd3786\"], [0.5555555555555556, \"#d8576b\"], [0.6666666666666666, \"#ed7953\"], [0.7777777777777778, \"#fb9f3a\"], [0.8888888888888888, \"#fdca26\"], [1.0, \"#f0f921\"]], \"sequentialminus\": [[0.0, \"#0d0887\"], [0.1111111111111111, \"#46039f\"], [0.2222222222222222, \"#7201a8\"], [0.3333333333333333, \"#9c179e\"], [0.4444444444444444, \"#bd3786\"], [0.5555555555555556, \"#d8576b\"], [0.6666666666666666, \"#ed7953\"], [0.7777777777777778, \"#fb9f3a\"], [0.8888888888888888, \"#fdca26\"], [1.0, \"#f0f921\"]]}, \"colorway\": [\"#636efa\", \"#EF553B\", \"#00cc96\", \"#ab63fa\", \"#FFA15A\", \"#19d3f3\", \"#FF6692\", \"#B6E880\", \"#FF97FF\", \"#FECB52\"], \"font\": {\"color\": \"#2a3f5f\"}, \"geo\": {\"bgcolor\": \"white\", \"lakecolor\": \"white\", \"landcolor\": \"#E5ECF6\", \"showlakes\": true, \"showland\": true, \"subunitcolor\": \"white\"}, \"hoverlabel\": {\"align\": \"left\"}, \"hovermode\": \"closest\", \"mapbox\": {\"style\": \"light\"}, \"paper_bgcolor\": \"white\", \"plot_bgcolor\": \"#E5ECF6\", \"polar\": {\"angularaxis\": {\"gridcolor\": \"white\", \"linecolor\": \"white\", \"ticks\": \"\"}, \"bgcolor\": \"#E5ECF6\", \"radialaxis\": {\"gridcolor\": \"white\", \"linecolor\": \"white\", \"ticks\": \"\"}}, \"scene\": {\"xaxis\": {\"backgroundcolor\": \"#E5ECF6\", \"gridcolor\": \"white\", \"gridwidth\": 2, \"linecolor\": \"white\", \"showbackground\": true, \"ticks\": \"\", \"zerolinecolor\": \"white\"}, \"yaxis\": {\"backgroundcolor\": \"#E5ECF6\", \"gridcolor\": \"white\", \"gridwidth\": 2, \"linecolor\": \"white\", \"showbackground\": true, \"ticks\": \"\", \"zerolinecolor\": \"white\"}, \"zaxis\": {\"backgroundcolor\": \"#E5ECF6\", \"gridcolor\": \"white\", \"gridwidth\": 2, \"linecolor\": \"white\", \"showbackground\": true, \"ticks\": \"\", \"zerolinecolor\": \"white\"}}, \"shapedefaults\": {\"line\": {\"color\": \"#2a3f5f\"}}, \"ternary\": {\"aaxis\": {\"gridcolor\": \"white\", \"linecolor\": \"white\", \"ticks\": \"\"}, \"baxis\": {\"gridcolor\": \"white\", \"linecolor\": \"white\", \"ticks\": \"\"}, \"bgcolor\": \"#E5ECF6\", \"caxis\": {\"gridcolor\": \"white\", \"linecolor\": \"white\", \"ticks\": \"\"}}, \"title\": {\"x\": 0.05}, \"xaxis\": {\"automargin\": true, \"gridcolor\": \"white\", \"linecolor\": \"white\", \"ticks\": \"\", \"title\": {\"standoff\": 15}, \"zerolinecolor\": \"white\", \"zerolinewidth\": 2}, \"yaxis\": {\"automargin\": true, \"gridcolor\": \"white\", \"linecolor\": \"white\", \"ticks\": \"\", \"title\": {\"standoff\": 15}, \"zerolinecolor\": \"white\", \"zerolinewidth\": 2}}}, \"title\": {\"text\": \"Month of year\"}, \"width\": 800, \"xaxis\": {\"anchor\": \"y\", \"domain\": [0.0, 1.0], \"title\": {\"text\": \"month\"}}, \"yaxis\": {\"anchor\": \"x\", \"domain\": [0.0, 1.0], \"title\": {\"text\": \"count\"}}},\n",
              "                        {\"responsive\": true}\n",
              "                    ).then(function(){\n",
              "                            \n",
              "var gd = document.getElementById('9ea8b59b-1108-445b-8931-2bc6ef82ece0');\n",
              "var x = new MutationObserver(function (mutations, observer) {{\n",
              "        var display = window.getComputedStyle(gd).display;\n",
              "        if (!display || display === 'none') {{\n",
              "            console.log([gd, 'removed!']);\n",
              "            Plotly.purge(gd);\n",
              "            observer.disconnect();\n",
              "        }}\n",
              "}});\n",
              "\n",
              "// Listen for the removal of the full notebook cells\n",
              "var notebookContainer = gd.closest('#notebook-container');\n",
              "if (notebookContainer) {{\n",
              "    x.observe(notebookContainer, {childList: true});\n",
              "}}\n",
              "\n",
              "// Listen for the clearing of the current output cell\n",
              "var outputEl = gd.closest('.output');\n",
              "if (outputEl) {{\n",
              "    x.observe(outputEl, {childList: true});\n",
              "}}\n",
              "\n",
              "                        })\n",
              "                };\n",
              "                \n",
              "            </script>\n",
              "        </div>\n",
              "</body>\n",
              "</html>"
            ]
          },
          "metadata": {
            "tags": []
          }
        }
      ]
    },
    {
      "cell_type": "code",
      "metadata": {
        "id": "4Z0VBweVnowd",
        "colab": {
          "base_uri": "https://localhost:8080/",
          "height": 542
        },
        "outputId": "d7790711-75a0-411a-f26d-5d015db1493b"
      },
      "source": [
        "data = df.groupby(['month_day'])['name'].count().reset_index()\n",
        "data.columns = ['month_day', 'count']\n",
        "\n",
        "fig = px.bar(\n",
        "    data, \n",
        "    x='month_day', \n",
        "    y='count', \n",
        "    orientation='v', \n",
        "    title='Day of month', \n",
        "    width=800\n",
        ")\n",
        "\n",
        "fig.show()"
      ],
      "execution_count": 46,
      "outputs": [
        {
          "output_type": "display_data",
          "data": {
            "text/html": [
              "<html>\n",
              "<head><meta charset=\"utf-8\" /></head>\n",
              "<body>\n",
              "    <div>\n",
              "            <script src=\"https://cdnjs.cloudflare.com/ajax/libs/mathjax/2.7.5/MathJax.js?config=TeX-AMS-MML_SVG\"></script><script type=\"text/javascript\">if (window.MathJax) {MathJax.Hub.Config({SVG: {font: \"STIX-Web\"}});}</script>\n",
              "                <script type=\"text/javascript\">window.PlotlyConfig = {MathJaxConfig: 'local'};</script>\n",
              "        <script src=\"https://cdn.plot.ly/plotly-latest.min.js\"></script>    \n",
              "            <div id=\"625b80a2-20db-41bd-a163-e76aa5fdbae8\" class=\"plotly-graph-div\" style=\"height:525px; width:800px;\"></div>\n",
              "            <script type=\"text/javascript\">\n",
              "                \n",
              "                    window.PLOTLYENV=window.PLOTLYENV || {};\n",
              "                    \n",
              "                if (document.getElementById(\"625b80a2-20db-41bd-a163-e76aa5fdbae8\")) {\n",
              "                    Plotly.newPlot(\n",
              "                        '625b80a2-20db-41bd-a163-e76aa5fdbae8',\n",
              "                        [{\"alignmentgroup\": \"True\", \"hoverlabel\": {\"namelength\": 0}, \"hovertemplate\": \"month_day=%{x}<br>count=%{y}\", \"legendgroup\": \"\", \"marker\": {\"color\": \"#636efa\"}, \"name\": \"\", \"offsetgroup\": \"\", \"orientation\": \"v\", \"showlegend\": false, \"textposition\": \"auto\", \"type\": \"bar\", \"x\": [1, 2, 3, 4, 5, 6, 7, 8, 9, 10, 11, 12, 13, 14, 15, 16, 17, 18, 19, 20, 21, 22, 23, 24, 25, 26, 27, 28, 29, 30, 31], \"xaxis\": \"x\", \"y\": [177, 144, 155, 162, 207, 173, 177, 140, 169, 164, 170, 166, 156, 166, 162, 163, 170, 142, 152, 152, 161, 151, 174, 146, 143, 153, 179, 158, 155, 117, 91], \"yaxis\": \"y\"}],\n",
              "                        {\"barmode\": \"relative\", \"legend\": {\"tracegroupgap\": 0}, \"template\": {\"data\": {\"bar\": [{\"error_x\": {\"color\": \"#2a3f5f\"}, \"error_y\": {\"color\": \"#2a3f5f\"}, \"marker\": {\"line\": {\"color\": \"#E5ECF6\", \"width\": 0.5}}, \"type\": \"bar\"}], \"barpolar\": [{\"marker\": {\"line\": {\"color\": \"#E5ECF6\", \"width\": 0.5}}, \"type\": \"barpolar\"}], \"carpet\": [{\"aaxis\": {\"endlinecolor\": \"#2a3f5f\", \"gridcolor\": \"white\", \"linecolor\": \"white\", \"minorgridcolor\": \"white\", \"startlinecolor\": \"#2a3f5f\"}, \"baxis\": {\"endlinecolor\": \"#2a3f5f\", \"gridcolor\": \"white\", \"linecolor\": \"white\", \"minorgridcolor\": \"white\", \"startlinecolor\": \"#2a3f5f\"}, \"type\": \"carpet\"}], \"choropleth\": [{\"colorbar\": {\"outlinewidth\": 0, \"ticks\": \"\"}, \"type\": \"choropleth\"}], \"contour\": [{\"colorbar\": {\"outlinewidth\": 0, \"ticks\": \"\"}, \"colorscale\": [[0.0, \"#0d0887\"], [0.1111111111111111, \"#46039f\"], [0.2222222222222222, \"#7201a8\"], [0.3333333333333333, \"#9c179e\"], [0.4444444444444444, \"#bd3786\"], [0.5555555555555556, \"#d8576b\"], [0.6666666666666666, \"#ed7953\"], [0.7777777777777778, \"#fb9f3a\"], [0.8888888888888888, \"#fdca26\"], [1.0, \"#f0f921\"]], \"type\": \"contour\"}], \"contourcarpet\": [{\"colorbar\": {\"outlinewidth\": 0, \"ticks\": \"\"}, \"type\": \"contourcarpet\"}], \"heatmap\": [{\"colorbar\": {\"outlinewidth\": 0, \"ticks\": \"\"}, \"colorscale\": [[0.0, \"#0d0887\"], [0.1111111111111111, \"#46039f\"], [0.2222222222222222, \"#7201a8\"], [0.3333333333333333, \"#9c179e\"], [0.4444444444444444, \"#bd3786\"], [0.5555555555555556, \"#d8576b\"], [0.6666666666666666, \"#ed7953\"], [0.7777777777777778, \"#fb9f3a\"], [0.8888888888888888, \"#fdca26\"], [1.0, \"#f0f921\"]], \"type\": \"heatmap\"}], \"heatmapgl\": [{\"colorbar\": {\"outlinewidth\": 0, \"ticks\": \"\"}, \"colorscale\": [[0.0, \"#0d0887\"], [0.1111111111111111, \"#46039f\"], [0.2222222222222222, \"#7201a8\"], [0.3333333333333333, \"#9c179e\"], [0.4444444444444444, \"#bd3786\"], [0.5555555555555556, \"#d8576b\"], [0.6666666666666666, \"#ed7953\"], [0.7777777777777778, \"#fb9f3a\"], [0.8888888888888888, \"#fdca26\"], [1.0, \"#f0f921\"]], \"type\": \"heatmapgl\"}], \"histogram\": [{\"marker\": {\"colorbar\": {\"outlinewidth\": 0, \"ticks\": \"\"}}, \"type\": \"histogram\"}], \"histogram2d\": [{\"colorbar\": {\"outlinewidth\": 0, \"ticks\": \"\"}, \"colorscale\": [[0.0, \"#0d0887\"], [0.1111111111111111, \"#46039f\"], [0.2222222222222222, \"#7201a8\"], [0.3333333333333333, \"#9c179e\"], [0.4444444444444444, \"#bd3786\"], [0.5555555555555556, \"#d8576b\"], [0.6666666666666666, \"#ed7953\"], [0.7777777777777778, \"#fb9f3a\"], [0.8888888888888888, \"#fdca26\"], [1.0, \"#f0f921\"]], \"type\": \"histogram2d\"}], \"histogram2dcontour\": [{\"colorbar\": {\"outlinewidth\": 0, \"ticks\": \"\"}, \"colorscale\": [[0.0, \"#0d0887\"], [0.1111111111111111, \"#46039f\"], [0.2222222222222222, \"#7201a8\"], [0.3333333333333333, \"#9c179e\"], [0.4444444444444444, \"#bd3786\"], [0.5555555555555556, \"#d8576b\"], [0.6666666666666666, \"#ed7953\"], [0.7777777777777778, \"#fb9f3a\"], [0.8888888888888888, \"#fdca26\"], [1.0, \"#f0f921\"]], \"type\": \"histogram2dcontour\"}], \"mesh3d\": [{\"colorbar\": {\"outlinewidth\": 0, \"ticks\": \"\"}, \"type\": \"mesh3d\"}], \"parcoords\": [{\"line\": {\"colorbar\": {\"outlinewidth\": 0, \"ticks\": \"\"}}, \"type\": \"parcoords\"}], \"pie\": [{\"automargin\": true, \"type\": \"pie\"}], \"scatter\": [{\"marker\": {\"colorbar\": {\"outlinewidth\": 0, \"ticks\": \"\"}}, \"type\": \"scatter\"}], \"scatter3d\": [{\"line\": {\"colorbar\": {\"outlinewidth\": 0, \"ticks\": \"\"}}, \"marker\": {\"colorbar\": {\"outlinewidth\": 0, \"ticks\": \"\"}}, \"type\": \"scatter3d\"}], \"scattercarpet\": [{\"marker\": {\"colorbar\": {\"outlinewidth\": 0, \"ticks\": \"\"}}, \"type\": \"scattercarpet\"}], \"scattergeo\": [{\"marker\": {\"colorbar\": {\"outlinewidth\": 0, \"ticks\": \"\"}}, \"type\": \"scattergeo\"}], \"scattergl\": [{\"marker\": {\"colorbar\": {\"outlinewidth\": 0, \"ticks\": \"\"}}, \"type\": \"scattergl\"}], \"scattermapbox\": [{\"marker\": {\"colorbar\": {\"outlinewidth\": 0, \"ticks\": \"\"}}, \"type\": \"scattermapbox\"}], \"scatterpolar\": [{\"marker\": {\"colorbar\": {\"outlinewidth\": 0, \"ticks\": \"\"}}, \"type\": \"scatterpolar\"}], \"scatterpolargl\": [{\"marker\": {\"colorbar\": {\"outlinewidth\": 0, \"ticks\": \"\"}}, \"type\": \"scatterpolargl\"}], \"scatterternary\": [{\"marker\": {\"colorbar\": {\"outlinewidth\": 0, \"ticks\": \"\"}}, \"type\": \"scatterternary\"}], \"surface\": [{\"colorbar\": {\"outlinewidth\": 0, \"ticks\": \"\"}, \"colorscale\": [[0.0, \"#0d0887\"], [0.1111111111111111, \"#46039f\"], [0.2222222222222222, \"#7201a8\"], [0.3333333333333333, \"#9c179e\"], [0.4444444444444444, \"#bd3786\"], [0.5555555555555556, \"#d8576b\"], [0.6666666666666666, \"#ed7953\"], [0.7777777777777778, \"#fb9f3a\"], [0.8888888888888888, \"#fdca26\"], [1.0, \"#f0f921\"]], \"type\": \"surface\"}], \"table\": [{\"cells\": {\"fill\": {\"color\": \"#EBF0F8\"}, \"line\": {\"color\": \"white\"}}, \"header\": {\"fill\": {\"color\": \"#C8D4E3\"}, \"line\": {\"color\": \"white\"}}, \"type\": \"table\"}]}, \"layout\": {\"annotationdefaults\": {\"arrowcolor\": \"#2a3f5f\", \"arrowhead\": 0, \"arrowwidth\": 1}, \"coloraxis\": {\"colorbar\": {\"outlinewidth\": 0, \"ticks\": \"\"}}, \"colorscale\": {\"diverging\": [[0, \"#8e0152\"], [0.1, \"#c51b7d\"], [0.2, \"#de77ae\"], [0.3, \"#f1b6da\"], [0.4, \"#fde0ef\"], [0.5, \"#f7f7f7\"], [0.6, \"#e6f5d0\"], [0.7, \"#b8e186\"], [0.8, \"#7fbc41\"], [0.9, \"#4d9221\"], [1, \"#276419\"]], \"sequential\": [[0.0, \"#0d0887\"], [0.1111111111111111, \"#46039f\"], [0.2222222222222222, \"#7201a8\"], [0.3333333333333333, \"#9c179e\"], [0.4444444444444444, \"#bd3786\"], [0.5555555555555556, \"#d8576b\"], [0.6666666666666666, \"#ed7953\"], [0.7777777777777778, \"#fb9f3a\"], [0.8888888888888888, \"#fdca26\"], [1.0, \"#f0f921\"]], \"sequentialminus\": [[0.0, \"#0d0887\"], [0.1111111111111111, \"#46039f\"], [0.2222222222222222, \"#7201a8\"], [0.3333333333333333, \"#9c179e\"], [0.4444444444444444, \"#bd3786\"], [0.5555555555555556, \"#d8576b\"], [0.6666666666666666, \"#ed7953\"], [0.7777777777777778, \"#fb9f3a\"], [0.8888888888888888, \"#fdca26\"], [1.0, \"#f0f921\"]]}, \"colorway\": [\"#636efa\", \"#EF553B\", \"#00cc96\", \"#ab63fa\", \"#FFA15A\", \"#19d3f3\", \"#FF6692\", \"#B6E880\", \"#FF97FF\", \"#FECB52\"], \"font\": {\"color\": \"#2a3f5f\"}, \"geo\": {\"bgcolor\": \"white\", \"lakecolor\": \"white\", \"landcolor\": \"#E5ECF6\", \"showlakes\": true, \"showland\": true, \"subunitcolor\": \"white\"}, \"hoverlabel\": {\"align\": \"left\"}, \"hovermode\": \"closest\", \"mapbox\": {\"style\": \"light\"}, \"paper_bgcolor\": \"white\", \"plot_bgcolor\": \"#E5ECF6\", \"polar\": {\"angularaxis\": {\"gridcolor\": \"white\", \"linecolor\": \"white\", \"ticks\": \"\"}, \"bgcolor\": \"#E5ECF6\", \"radialaxis\": {\"gridcolor\": \"white\", \"linecolor\": \"white\", \"ticks\": \"\"}}, \"scene\": {\"xaxis\": {\"backgroundcolor\": \"#E5ECF6\", \"gridcolor\": \"white\", \"gridwidth\": 2, \"linecolor\": \"white\", \"showbackground\": true, \"ticks\": \"\", \"zerolinecolor\": \"white\"}, \"yaxis\": {\"backgroundcolor\": \"#E5ECF6\", \"gridcolor\": \"white\", \"gridwidth\": 2, \"linecolor\": \"white\", \"showbackground\": true, \"ticks\": \"\", \"zerolinecolor\": \"white\"}, \"zaxis\": {\"backgroundcolor\": \"#E5ECF6\", \"gridcolor\": \"white\", \"gridwidth\": 2, \"linecolor\": \"white\", \"showbackground\": true, \"ticks\": \"\", \"zerolinecolor\": \"white\"}}, \"shapedefaults\": {\"line\": {\"color\": \"#2a3f5f\"}}, \"ternary\": {\"aaxis\": {\"gridcolor\": \"white\", \"linecolor\": \"white\", \"ticks\": \"\"}, \"baxis\": {\"gridcolor\": \"white\", \"linecolor\": \"white\", \"ticks\": \"\"}, \"bgcolor\": \"#E5ECF6\", \"caxis\": {\"gridcolor\": \"white\", \"linecolor\": \"white\", \"ticks\": \"\"}}, \"title\": {\"x\": 0.05}, \"xaxis\": {\"automargin\": true, \"gridcolor\": \"white\", \"linecolor\": \"white\", \"ticks\": \"\", \"title\": {\"standoff\": 15}, \"zerolinecolor\": \"white\", \"zerolinewidth\": 2}, \"yaxis\": {\"automargin\": true, \"gridcolor\": \"white\", \"linecolor\": \"white\", \"ticks\": \"\", \"title\": {\"standoff\": 15}, \"zerolinecolor\": \"white\", \"zerolinewidth\": 2}}}, \"title\": {\"text\": \"Day of month\"}, \"width\": 800, \"xaxis\": {\"anchor\": \"y\", \"domain\": [0.0, 1.0], \"title\": {\"text\": \"month_day\"}}, \"yaxis\": {\"anchor\": \"x\", \"domain\": [0.0, 1.0], \"title\": {\"text\": \"count\"}}},\n",
              "                        {\"responsive\": true}\n",
              "                    ).then(function(){\n",
              "                            \n",
              "var gd = document.getElementById('625b80a2-20db-41bd-a163-e76aa5fdbae8');\n",
              "var x = new MutationObserver(function (mutations, observer) {{\n",
              "        var display = window.getComputedStyle(gd).display;\n",
              "        if (!display || display === 'none') {{\n",
              "            console.log([gd, 'removed!']);\n",
              "            Plotly.purge(gd);\n",
              "            observer.disconnect();\n",
              "        }}\n",
              "}});\n",
              "\n",
              "// Listen for the removal of the full notebook cells\n",
              "var notebookContainer = gd.closest('#notebook-container');\n",
              "if (notebookContainer) {{\n",
              "    x.observe(notebookContainer, {childList: true});\n",
              "}}\n",
              "\n",
              "// Listen for the clearing of the current output cell\n",
              "var outputEl = gd.closest('.output');\n",
              "if (outputEl) {{\n",
              "    x.observe(outputEl, {childList: true});\n",
              "}}\n",
              "\n",
              "                        })\n",
              "                };\n",
              "                \n",
              "            </script>\n",
              "        </div>\n",
              "</body>\n",
              "</html>"
            ]
          },
          "metadata": {
            "tags": []
          }
        }
      ]
    },
    {
      "cell_type": "code",
      "metadata": {
        "id": "OhoKC-F5nwp4",
        "colab": {
          "base_uri": "https://localhost:8080/",
          "height": 542
        },
        "outputId": "93212565-f2a5-48f9-c0d6-199d22a66703"
      },
      "source": [
        "data = df.groupby(['year'])['name'].count().reset_index()\n",
        "data.columns = ['year', 'count']\n",
        "\n",
        "fig = px.bar(\n",
        "    data, \n",
        "    x='year', \n",
        "    y='count',\n",
        "    orientation='v', \n",
        "    title='Year', \n",
        "    width=600\n",
        ")\n",
        "\n",
        "fig.show()"
      ],
      "execution_count": 47,
      "outputs": [
        {
          "output_type": "display_data",
          "data": {
            "text/html": [
              "<html>\n",
              "<head><meta charset=\"utf-8\" /></head>\n",
              "<body>\n",
              "    <div>\n",
              "            <script src=\"https://cdnjs.cloudflare.com/ajax/libs/mathjax/2.7.5/MathJax.js?config=TeX-AMS-MML_SVG\"></script><script type=\"text/javascript\">if (window.MathJax) {MathJax.Hub.Config({SVG: {font: \"STIX-Web\"}});}</script>\n",
              "                <script type=\"text/javascript\">window.PlotlyConfig = {MathJaxConfig: 'local'};</script>\n",
              "        <script src=\"https://cdn.plot.ly/plotly-latest.min.js\"></script>    \n",
              "            <div id=\"e9b53955-5652-4c78-a239-606e3ae20a86\" class=\"plotly-graph-div\" style=\"height:525px; width:600px;\"></div>\n",
              "            <script type=\"text/javascript\">\n",
              "                \n",
              "                    window.PLOTLYENV=window.PLOTLYENV || {};\n",
              "                    \n",
              "                if (document.getElementById(\"e9b53955-5652-4c78-a239-606e3ae20a86\")) {\n",
              "                    Plotly.newPlot(\n",
              "                        'e9b53955-5652-4c78-a239-606e3ae20a86',\n",
              "                        [{\"alignmentgroup\": \"True\", \"hoverlabel\": {\"namelength\": 0}, \"hovertemplate\": \"year=%{x}<br>count=%{y}\", \"legendgroup\": \"\", \"marker\": {\"color\": \"#636efa\"}, \"name\": \"\", \"offsetgroup\": \"\", \"orientation\": \"v\", \"showlegend\": false, \"textposition\": \"auto\", \"type\": \"bar\", \"x\": [2015, 2016, 2017, 2018, 2019, 2020], \"xaxis\": \"x\", \"y\": [965, 904, 906, 888, 858, 374], \"yaxis\": \"y\"}],\n",
              "                        {\"barmode\": \"relative\", \"legend\": {\"tracegroupgap\": 0}, \"template\": {\"data\": {\"bar\": [{\"error_x\": {\"color\": \"#2a3f5f\"}, \"error_y\": {\"color\": \"#2a3f5f\"}, \"marker\": {\"line\": {\"color\": \"#E5ECF6\", \"width\": 0.5}}, \"type\": \"bar\"}], \"barpolar\": [{\"marker\": {\"line\": {\"color\": \"#E5ECF6\", \"width\": 0.5}}, \"type\": \"barpolar\"}], \"carpet\": [{\"aaxis\": {\"endlinecolor\": \"#2a3f5f\", \"gridcolor\": \"white\", \"linecolor\": \"white\", \"minorgridcolor\": \"white\", \"startlinecolor\": \"#2a3f5f\"}, \"baxis\": {\"endlinecolor\": \"#2a3f5f\", \"gridcolor\": \"white\", \"linecolor\": \"white\", \"minorgridcolor\": \"white\", \"startlinecolor\": \"#2a3f5f\"}, \"type\": \"carpet\"}], \"choropleth\": [{\"colorbar\": {\"outlinewidth\": 0, \"ticks\": \"\"}, \"type\": \"choropleth\"}], \"contour\": [{\"colorbar\": {\"outlinewidth\": 0, \"ticks\": \"\"}, \"colorscale\": [[0.0, \"#0d0887\"], [0.1111111111111111, \"#46039f\"], [0.2222222222222222, \"#7201a8\"], [0.3333333333333333, \"#9c179e\"], [0.4444444444444444, \"#bd3786\"], [0.5555555555555556, \"#d8576b\"], [0.6666666666666666, \"#ed7953\"], [0.7777777777777778, \"#fb9f3a\"], [0.8888888888888888, \"#fdca26\"], [1.0, \"#f0f921\"]], \"type\": \"contour\"}], \"contourcarpet\": [{\"colorbar\": {\"outlinewidth\": 0, \"ticks\": \"\"}, \"type\": \"contourcarpet\"}], \"heatmap\": [{\"colorbar\": {\"outlinewidth\": 0, \"ticks\": \"\"}, \"colorscale\": [[0.0, \"#0d0887\"], [0.1111111111111111, \"#46039f\"], [0.2222222222222222, \"#7201a8\"], [0.3333333333333333, \"#9c179e\"], [0.4444444444444444, \"#bd3786\"], [0.5555555555555556, \"#d8576b\"], [0.6666666666666666, \"#ed7953\"], [0.7777777777777778, \"#fb9f3a\"], [0.8888888888888888, \"#fdca26\"], [1.0, \"#f0f921\"]], \"type\": \"heatmap\"}], \"heatmapgl\": [{\"colorbar\": {\"outlinewidth\": 0, \"ticks\": \"\"}, \"colorscale\": [[0.0, \"#0d0887\"], [0.1111111111111111, \"#46039f\"], [0.2222222222222222, \"#7201a8\"], [0.3333333333333333, \"#9c179e\"], [0.4444444444444444, \"#bd3786\"], [0.5555555555555556, \"#d8576b\"], [0.6666666666666666, \"#ed7953\"], [0.7777777777777778, \"#fb9f3a\"], [0.8888888888888888, \"#fdca26\"], [1.0, \"#f0f921\"]], \"type\": \"heatmapgl\"}], \"histogram\": [{\"marker\": {\"colorbar\": {\"outlinewidth\": 0, \"ticks\": \"\"}}, \"type\": \"histogram\"}], \"histogram2d\": [{\"colorbar\": {\"outlinewidth\": 0, \"ticks\": \"\"}, \"colorscale\": [[0.0, \"#0d0887\"], [0.1111111111111111, \"#46039f\"], [0.2222222222222222, \"#7201a8\"], [0.3333333333333333, \"#9c179e\"], [0.4444444444444444, \"#bd3786\"], [0.5555555555555556, \"#d8576b\"], [0.6666666666666666, \"#ed7953\"], [0.7777777777777778, \"#fb9f3a\"], [0.8888888888888888, \"#fdca26\"], [1.0, \"#f0f921\"]], \"type\": \"histogram2d\"}], \"histogram2dcontour\": [{\"colorbar\": {\"outlinewidth\": 0, \"ticks\": \"\"}, \"colorscale\": [[0.0, \"#0d0887\"], [0.1111111111111111, \"#46039f\"], [0.2222222222222222, \"#7201a8\"], [0.3333333333333333, \"#9c179e\"], [0.4444444444444444, \"#bd3786\"], [0.5555555555555556, \"#d8576b\"], [0.6666666666666666, \"#ed7953\"], [0.7777777777777778, \"#fb9f3a\"], [0.8888888888888888, \"#fdca26\"], [1.0, \"#f0f921\"]], \"type\": \"histogram2dcontour\"}], \"mesh3d\": [{\"colorbar\": {\"outlinewidth\": 0, \"ticks\": \"\"}, \"type\": \"mesh3d\"}], \"parcoords\": [{\"line\": {\"colorbar\": {\"outlinewidth\": 0, \"ticks\": \"\"}}, \"type\": \"parcoords\"}], \"pie\": [{\"automargin\": true, \"type\": \"pie\"}], \"scatter\": [{\"marker\": {\"colorbar\": {\"outlinewidth\": 0, \"ticks\": \"\"}}, \"type\": \"scatter\"}], \"scatter3d\": [{\"line\": {\"colorbar\": {\"outlinewidth\": 0, \"ticks\": \"\"}}, \"marker\": {\"colorbar\": {\"outlinewidth\": 0, \"ticks\": \"\"}}, \"type\": \"scatter3d\"}], \"scattercarpet\": [{\"marker\": {\"colorbar\": {\"outlinewidth\": 0, \"ticks\": \"\"}}, \"type\": \"scattercarpet\"}], \"scattergeo\": [{\"marker\": {\"colorbar\": {\"outlinewidth\": 0, \"ticks\": \"\"}}, \"type\": \"scattergeo\"}], \"scattergl\": [{\"marker\": {\"colorbar\": {\"outlinewidth\": 0, \"ticks\": \"\"}}, \"type\": \"scattergl\"}], \"scattermapbox\": [{\"marker\": {\"colorbar\": {\"outlinewidth\": 0, \"ticks\": \"\"}}, \"type\": \"scattermapbox\"}], \"scatterpolar\": [{\"marker\": {\"colorbar\": {\"outlinewidth\": 0, \"ticks\": \"\"}}, \"type\": \"scatterpolar\"}], \"scatterpolargl\": [{\"marker\": {\"colorbar\": {\"outlinewidth\": 0, \"ticks\": \"\"}}, \"type\": \"scatterpolargl\"}], \"scatterternary\": [{\"marker\": {\"colorbar\": {\"outlinewidth\": 0, \"ticks\": \"\"}}, \"type\": \"scatterternary\"}], \"surface\": [{\"colorbar\": {\"outlinewidth\": 0, \"ticks\": \"\"}, \"colorscale\": [[0.0, \"#0d0887\"], [0.1111111111111111, \"#46039f\"], [0.2222222222222222, \"#7201a8\"], [0.3333333333333333, \"#9c179e\"], [0.4444444444444444, \"#bd3786\"], [0.5555555555555556, \"#d8576b\"], [0.6666666666666666, \"#ed7953\"], [0.7777777777777778, \"#fb9f3a\"], [0.8888888888888888, \"#fdca26\"], [1.0, \"#f0f921\"]], \"type\": \"surface\"}], \"table\": [{\"cells\": {\"fill\": {\"color\": \"#EBF0F8\"}, \"line\": {\"color\": \"white\"}}, \"header\": {\"fill\": {\"color\": \"#C8D4E3\"}, \"line\": {\"color\": \"white\"}}, \"type\": \"table\"}]}, \"layout\": {\"annotationdefaults\": {\"arrowcolor\": \"#2a3f5f\", \"arrowhead\": 0, \"arrowwidth\": 1}, \"coloraxis\": {\"colorbar\": {\"outlinewidth\": 0, \"ticks\": \"\"}}, \"colorscale\": {\"diverging\": [[0, \"#8e0152\"], [0.1, \"#c51b7d\"], [0.2, \"#de77ae\"], [0.3, \"#f1b6da\"], [0.4, \"#fde0ef\"], [0.5, \"#f7f7f7\"], [0.6, \"#e6f5d0\"], [0.7, \"#b8e186\"], [0.8, \"#7fbc41\"], [0.9, \"#4d9221\"], [1, \"#276419\"]], \"sequential\": [[0.0, \"#0d0887\"], [0.1111111111111111, \"#46039f\"], [0.2222222222222222, \"#7201a8\"], [0.3333333333333333, \"#9c179e\"], [0.4444444444444444, \"#bd3786\"], [0.5555555555555556, \"#d8576b\"], [0.6666666666666666, \"#ed7953\"], [0.7777777777777778, \"#fb9f3a\"], [0.8888888888888888, \"#fdca26\"], [1.0, \"#f0f921\"]], \"sequentialminus\": [[0.0, \"#0d0887\"], [0.1111111111111111, \"#46039f\"], [0.2222222222222222, \"#7201a8\"], [0.3333333333333333, \"#9c179e\"], [0.4444444444444444, \"#bd3786\"], [0.5555555555555556, \"#d8576b\"], [0.6666666666666666, \"#ed7953\"], [0.7777777777777778, \"#fb9f3a\"], [0.8888888888888888, \"#fdca26\"], [1.0, \"#f0f921\"]]}, \"colorway\": [\"#636efa\", \"#EF553B\", \"#00cc96\", \"#ab63fa\", \"#FFA15A\", \"#19d3f3\", \"#FF6692\", \"#B6E880\", \"#FF97FF\", \"#FECB52\"], \"font\": {\"color\": \"#2a3f5f\"}, \"geo\": {\"bgcolor\": \"white\", \"lakecolor\": \"white\", \"landcolor\": \"#E5ECF6\", \"showlakes\": true, \"showland\": true, \"subunitcolor\": \"white\"}, \"hoverlabel\": {\"align\": \"left\"}, \"hovermode\": \"closest\", \"mapbox\": {\"style\": \"light\"}, \"paper_bgcolor\": \"white\", \"plot_bgcolor\": \"#E5ECF6\", \"polar\": {\"angularaxis\": {\"gridcolor\": \"white\", \"linecolor\": \"white\", \"ticks\": \"\"}, \"bgcolor\": \"#E5ECF6\", \"radialaxis\": {\"gridcolor\": \"white\", \"linecolor\": \"white\", \"ticks\": \"\"}}, \"scene\": {\"xaxis\": {\"backgroundcolor\": \"#E5ECF6\", \"gridcolor\": \"white\", \"gridwidth\": 2, \"linecolor\": \"white\", \"showbackground\": true, \"ticks\": \"\", \"zerolinecolor\": \"white\"}, \"yaxis\": {\"backgroundcolor\": \"#E5ECF6\", \"gridcolor\": \"white\", \"gridwidth\": 2, \"linecolor\": \"white\", \"showbackground\": true, \"ticks\": \"\", \"zerolinecolor\": \"white\"}, \"zaxis\": {\"backgroundcolor\": \"#E5ECF6\", \"gridcolor\": \"white\", \"gridwidth\": 2, \"linecolor\": \"white\", \"showbackground\": true, \"ticks\": \"\", \"zerolinecolor\": \"white\"}}, \"shapedefaults\": {\"line\": {\"color\": \"#2a3f5f\"}}, \"ternary\": {\"aaxis\": {\"gridcolor\": \"white\", \"linecolor\": \"white\", \"ticks\": \"\"}, \"baxis\": {\"gridcolor\": \"white\", \"linecolor\": \"white\", \"ticks\": \"\"}, \"bgcolor\": \"#E5ECF6\", \"caxis\": {\"gridcolor\": \"white\", \"linecolor\": \"white\", \"ticks\": \"\"}}, \"title\": {\"x\": 0.05}, \"xaxis\": {\"automargin\": true, \"gridcolor\": \"white\", \"linecolor\": \"white\", \"ticks\": \"\", \"title\": {\"standoff\": 15}, \"zerolinecolor\": \"white\", \"zerolinewidth\": 2}, \"yaxis\": {\"automargin\": true, \"gridcolor\": \"white\", \"linecolor\": \"white\", \"ticks\": \"\", \"title\": {\"standoff\": 15}, \"zerolinecolor\": \"white\", \"zerolinewidth\": 2}}}, \"title\": {\"text\": \"Year\"}, \"width\": 600, \"xaxis\": {\"anchor\": \"y\", \"domain\": [0.0, 1.0], \"title\": {\"text\": \"year\"}}, \"yaxis\": {\"anchor\": \"x\", \"domain\": [0.0, 1.0], \"title\": {\"text\": \"count\"}}},\n",
              "                        {\"responsive\": true}\n",
              "                    ).then(function(){\n",
              "                            \n",
              "var gd = document.getElementById('e9b53955-5652-4c78-a239-606e3ae20a86');\n",
              "var x = new MutationObserver(function (mutations, observer) {{\n",
              "        var display = window.getComputedStyle(gd).display;\n",
              "        if (!display || display === 'none') {{\n",
              "            console.log([gd, 'removed!']);\n",
              "            Plotly.purge(gd);\n",
              "            observer.disconnect();\n",
              "        }}\n",
              "}});\n",
              "\n",
              "// Listen for the removal of the full notebook cells\n",
              "var notebookContainer = gd.closest('#notebook-container');\n",
              "if (notebookContainer) {{\n",
              "    x.observe(notebookContainer, {childList: true});\n",
              "}}\n",
              "\n",
              "// Listen for the clearing of the current output cell\n",
              "var outputEl = gd.closest('.output');\n",
              "if (outputEl) {{\n",
              "    x.observe(outputEl, {childList: true});\n",
              "}}\n",
              "\n",
              "                        })\n",
              "                };\n",
              "                \n",
              "            </script>\n",
              "        </div>\n",
              "</body>\n",
              "</html>"
            ]
          },
          "metadata": {
            "tags": []
          }
        }
      ]
    },
    {
      "cell_type": "code",
      "metadata": {
        "id": "b_G8m1zDn2fw",
        "colab": {
          "base_uri": "https://localhost:8080/",
          "height": 305
        },
        "outputId": "2f7cc6cd-7398-4416-84e9-801fb7868f7e"
      },
      "source": [
        "df['month_year'] = pd.to_datetime(df['date']).dt.to_period('M')\n",
        "df.head()"
      ],
      "execution_count": 48,
      "outputs": [
        {
          "output_type": "execute_result",
          "data": {
            "text/html": [
              "<div>\n",
              "<style scoped>\n",
              "    .dataframe tbody tr th:only-of-type {\n",
              "        vertical-align: middle;\n",
              "    }\n",
              "\n",
              "    .dataframe tbody tr th {\n",
              "        vertical-align: top;\n",
              "    }\n",
              "\n",
              "    .dataframe thead th {\n",
              "        text-align: right;\n",
              "    }\n",
              "</style>\n",
              "<table border=\"1\" class=\"dataframe\">\n",
              "  <thead>\n",
              "    <tr style=\"text-align: right;\">\n",
              "      <th></th>\n",
              "      <th>id</th>\n",
              "      <th>name</th>\n",
              "      <th>date</th>\n",
              "      <th>manner_of_death</th>\n",
              "      <th>armed</th>\n",
              "      <th>age</th>\n",
              "      <th>gender</th>\n",
              "      <th>race</th>\n",
              "      <th>city</th>\n",
              "      <th>state</th>\n",
              "      <th>signs_of_mental_illness</th>\n",
              "      <th>threat_level</th>\n",
              "      <th>flee</th>\n",
              "      <th>body_camera</th>\n",
              "      <th>arms_category</th>\n",
              "      <th>weekday</th>\n",
              "      <th>month</th>\n",
              "      <th>month_day</th>\n",
              "      <th>year</th>\n",
              "      <th>month_year</th>\n",
              "    </tr>\n",
              "  </thead>\n",
              "  <tbody>\n",
              "    <tr>\n",
              "      <th>0</th>\n",
              "      <td>3</td>\n",
              "      <td>Tim Elliot</td>\n",
              "      <td>2015-01-02</td>\n",
              "      <td>shot</td>\n",
              "      <td>gun</td>\n",
              "      <td>53.0</td>\n",
              "      <td>M</td>\n",
              "      <td>Asian</td>\n",
              "      <td>Shelton</td>\n",
              "      <td>WA</td>\n",
              "      <td>True</td>\n",
              "      <td>attack</td>\n",
              "      <td>Not fleeing</td>\n",
              "      <td>False</td>\n",
              "      <td>Guns</td>\n",
              "      <td>4</td>\n",
              "      <td>1</td>\n",
              "      <td>2</td>\n",
              "      <td>2015</td>\n",
              "      <td>2015-01</td>\n",
              "    </tr>\n",
              "    <tr>\n",
              "      <th>1</th>\n",
              "      <td>4</td>\n",
              "      <td>Lewis Lee Lembke</td>\n",
              "      <td>2015-01-02</td>\n",
              "      <td>shot</td>\n",
              "      <td>gun</td>\n",
              "      <td>47.0</td>\n",
              "      <td>M</td>\n",
              "      <td>White</td>\n",
              "      <td>Aloha</td>\n",
              "      <td>OR</td>\n",
              "      <td>False</td>\n",
              "      <td>attack</td>\n",
              "      <td>Not fleeing</td>\n",
              "      <td>False</td>\n",
              "      <td>Guns</td>\n",
              "      <td>4</td>\n",
              "      <td>1</td>\n",
              "      <td>2</td>\n",
              "      <td>2015</td>\n",
              "      <td>2015-01</td>\n",
              "    </tr>\n",
              "    <tr>\n",
              "      <th>2</th>\n",
              "      <td>5</td>\n",
              "      <td>John Paul Quintero</td>\n",
              "      <td>2015-01-03</td>\n",
              "      <td>shot and Tasered</td>\n",
              "      <td>unarmed</td>\n",
              "      <td>23.0</td>\n",
              "      <td>M</td>\n",
              "      <td>Hispanic</td>\n",
              "      <td>Wichita</td>\n",
              "      <td>KS</td>\n",
              "      <td>False</td>\n",
              "      <td>other</td>\n",
              "      <td>Not fleeing</td>\n",
              "      <td>False</td>\n",
              "      <td>Unarmed</td>\n",
              "      <td>5</td>\n",
              "      <td>1</td>\n",
              "      <td>3</td>\n",
              "      <td>2015</td>\n",
              "      <td>2015-01</td>\n",
              "    </tr>\n",
              "    <tr>\n",
              "      <th>3</th>\n",
              "      <td>8</td>\n",
              "      <td>Matthew Hoffman</td>\n",
              "      <td>2015-01-04</td>\n",
              "      <td>shot</td>\n",
              "      <td>toy weapon</td>\n",
              "      <td>32.0</td>\n",
              "      <td>M</td>\n",
              "      <td>White</td>\n",
              "      <td>San Francisco</td>\n",
              "      <td>CA</td>\n",
              "      <td>True</td>\n",
              "      <td>attack</td>\n",
              "      <td>Not fleeing</td>\n",
              "      <td>False</td>\n",
              "      <td>Other unusual objects</td>\n",
              "      <td>6</td>\n",
              "      <td>1</td>\n",
              "      <td>4</td>\n",
              "      <td>2015</td>\n",
              "      <td>2015-01</td>\n",
              "    </tr>\n",
              "    <tr>\n",
              "      <th>4</th>\n",
              "      <td>9</td>\n",
              "      <td>Michael Rodriguez</td>\n",
              "      <td>2015-01-04</td>\n",
              "      <td>shot</td>\n",
              "      <td>nail gun</td>\n",
              "      <td>39.0</td>\n",
              "      <td>M</td>\n",
              "      <td>Hispanic</td>\n",
              "      <td>Evans</td>\n",
              "      <td>CO</td>\n",
              "      <td>False</td>\n",
              "      <td>attack</td>\n",
              "      <td>Not fleeing</td>\n",
              "      <td>False</td>\n",
              "      <td>Piercing objects</td>\n",
              "      <td>6</td>\n",
              "      <td>1</td>\n",
              "      <td>4</td>\n",
              "      <td>2015</td>\n",
              "      <td>2015-01</td>\n",
              "    </tr>\n",
              "  </tbody>\n",
              "</table>\n",
              "</div>"
            ],
            "text/plain": [
              "   id                name       date  ... month_day  year  month_year\n",
              "0   3          Tim Elliot 2015-01-02  ...         2  2015     2015-01\n",
              "1   4    Lewis Lee Lembke 2015-01-02  ...         2  2015     2015-01\n",
              "2   5  John Paul Quintero 2015-01-03  ...         3  2015     2015-01\n",
              "3   8     Matthew Hoffman 2015-01-04  ...         4  2015     2015-01\n",
              "4   9   Michael Rodriguez 2015-01-04  ...         4  2015     2015-01\n",
              "\n",
              "[5 rows x 20 columns]"
            ]
          },
          "metadata": {
            "tags": []
          },
          "execution_count": 48
        }
      ]
    },
    {
      "cell_type": "code",
      "metadata": {
        "id": "L_DUts9Ln7_t",
        "colab": {
          "base_uri": "https://localhost:8080/",
          "height": 542
        },
        "outputId": "f79edb8f-6924-4684-fb2d-1ab967a41677"
      },
      "source": [
        "data = df.groupby(['month_year'])['name'].count().reset_index()\n",
        "data.columns = ['month_year', 'count']\n",
        "data['month_year'] = data['month_year'].astype(str)\n",
        "\n",
        "fig = px.bar(\n",
        "    data, \n",
        "    x='month_year', \n",
        "    y='count', \n",
        "    orientation='v', \n",
        "    title='Deaths by months', \n",
        "    width=800\n",
        ")\n",
        "\n",
        "fig.show()\n"
      ],
      "execution_count": 49,
      "outputs": [
        {
          "output_type": "display_data",
          "data": {
            "text/html": [
              "<html>\n",
              "<head><meta charset=\"utf-8\" /></head>\n",
              "<body>\n",
              "    <div>\n",
              "            <script src=\"https://cdnjs.cloudflare.com/ajax/libs/mathjax/2.7.5/MathJax.js?config=TeX-AMS-MML_SVG\"></script><script type=\"text/javascript\">if (window.MathJax) {MathJax.Hub.Config({SVG: {font: \"STIX-Web\"}});}</script>\n",
              "                <script type=\"text/javascript\">window.PlotlyConfig = {MathJaxConfig: 'local'};</script>\n",
              "        <script src=\"https://cdn.plot.ly/plotly-latest.min.js\"></script>    \n",
              "            <div id=\"31b0e3b7-64b0-4bde-8d22-488644747d0a\" class=\"plotly-graph-div\" style=\"height:525px; width:800px;\"></div>\n",
              "            <script type=\"text/javascript\">\n",
              "                \n",
              "                    window.PLOTLYENV=window.PLOTLYENV || {};\n",
              "                    \n",
              "                if (document.getElementById(\"31b0e3b7-64b0-4bde-8d22-488644747d0a\")) {\n",
              "                    Plotly.newPlot(\n",
              "                        '31b0e3b7-64b0-4bde-8d22-488644747d0a',\n",
              "                        [{\"alignmentgroup\": \"True\", \"hoverlabel\": {\"namelength\": 0}, \"hovertemplate\": \"month_year=%{x}<br>count=%{y}\", \"legendgroup\": \"\", \"marker\": {\"color\": \"#636efa\"}, \"name\": \"\", \"offsetgroup\": \"\", \"orientation\": \"v\", \"showlegend\": false, \"textposition\": \"auto\", \"type\": \"bar\", \"x\": [\"2015-01\", \"2015-02\", \"2015-03\", \"2015-04\", \"2015-05\", \"2015-06\", \"2015-07\", \"2015-08\", \"2015-09\", \"2015-10\", \"2015-11\", \"2015-12\", \"2016-01\", \"2016-02\", \"2016-03\", \"2016-04\", \"2016-05\", \"2016-06\", \"2016-07\", \"2016-08\", \"2016-09\", \"2016-10\", \"2016-11\", \"2016-12\", \"2017-01\", \"2017-02\", \"2017-03\", \"2017-04\", \"2017-05\", \"2017-06\", \"2017-07\", \"2017-08\", \"2017-09\", \"2017-10\", \"2017-11\", \"2017-12\", \"2018-01\", \"2018-02\", \"2018-03\", \"2018-04\", \"2018-05\", \"2018-06\", \"2018-07\", \"2018-08\", \"2018-09\", \"2018-10\", \"2018-11\", \"2018-12\", \"2019-01\", \"2019-02\", \"2019-03\", \"2019-04\", \"2019-05\", \"2019-06\", \"2019-07\", \"2019-08\", \"2019-09\", \"2019-10\", \"2019-11\", \"2019-12\", \"2020-01\", \"2020-02\", \"2020-03\", \"2020-04\", \"2020-05\", \"2020-06\"], \"xaxis\": \"x\", \"y\": [75, 77, 91, 83, 69, 63, 100, 91, 80, 78, 76, 82, 80, 85, 90, 73, 69, 87, 71, 77, 73, 71, 68, 60, 91, 97, 74, 65, 68, 80, 91, 78, 66, 81, 76, 39, 96, 74, 99, 88, 70, 70, 82, 68, 50, 64, 63, 64, 81, 68, 76, 63, 64, 77, 69, 57, 59, 73, 71, 100, 82, 61, 73, 58, 78, 22], \"yaxis\": \"y\"}],\n",
              "                        {\"barmode\": \"relative\", \"legend\": {\"tracegroupgap\": 0}, \"template\": {\"data\": {\"bar\": [{\"error_x\": {\"color\": \"#2a3f5f\"}, \"error_y\": {\"color\": \"#2a3f5f\"}, \"marker\": {\"line\": {\"color\": \"#E5ECF6\", \"width\": 0.5}}, \"type\": \"bar\"}], \"barpolar\": [{\"marker\": {\"line\": {\"color\": \"#E5ECF6\", \"width\": 0.5}}, \"type\": \"barpolar\"}], \"carpet\": [{\"aaxis\": {\"endlinecolor\": \"#2a3f5f\", \"gridcolor\": \"white\", \"linecolor\": \"white\", \"minorgridcolor\": \"white\", \"startlinecolor\": \"#2a3f5f\"}, \"baxis\": {\"endlinecolor\": \"#2a3f5f\", \"gridcolor\": \"white\", \"linecolor\": \"white\", \"minorgridcolor\": \"white\", \"startlinecolor\": \"#2a3f5f\"}, \"type\": \"carpet\"}], \"choropleth\": [{\"colorbar\": {\"outlinewidth\": 0, \"ticks\": \"\"}, \"type\": \"choropleth\"}], \"contour\": [{\"colorbar\": {\"outlinewidth\": 0, \"ticks\": \"\"}, \"colorscale\": [[0.0, \"#0d0887\"], [0.1111111111111111, \"#46039f\"], [0.2222222222222222, \"#7201a8\"], [0.3333333333333333, \"#9c179e\"], [0.4444444444444444, \"#bd3786\"], [0.5555555555555556, \"#d8576b\"], [0.6666666666666666, \"#ed7953\"], [0.7777777777777778, \"#fb9f3a\"], [0.8888888888888888, \"#fdca26\"], [1.0, \"#f0f921\"]], \"type\": \"contour\"}], \"contourcarpet\": [{\"colorbar\": {\"outlinewidth\": 0, \"ticks\": \"\"}, \"type\": \"contourcarpet\"}], \"heatmap\": [{\"colorbar\": {\"outlinewidth\": 0, \"ticks\": \"\"}, \"colorscale\": [[0.0, \"#0d0887\"], [0.1111111111111111, \"#46039f\"], [0.2222222222222222, \"#7201a8\"], [0.3333333333333333, \"#9c179e\"], [0.4444444444444444, \"#bd3786\"], [0.5555555555555556, \"#d8576b\"], [0.6666666666666666, \"#ed7953\"], [0.7777777777777778, \"#fb9f3a\"], [0.8888888888888888, \"#fdca26\"], [1.0, \"#f0f921\"]], \"type\": \"heatmap\"}], \"heatmapgl\": [{\"colorbar\": {\"outlinewidth\": 0, \"ticks\": \"\"}, \"colorscale\": [[0.0, \"#0d0887\"], [0.1111111111111111, \"#46039f\"], [0.2222222222222222, \"#7201a8\"], [0.3333333333333333, \"#9c179e\"], [0.4444444444444444, \"#bd3786\"], [0.5555555555555556, \"#d8576b\"], [0.6666666666666666, \"#ed7953\"], [0.7777777777777778, \"#fb9f3a\"], [0.8888888888888888, \"#fdca26\"], [1.0, \"#f0f921\"]], \"type\": \"heatmapgl\"}], \"histogram\": [{\"marker\": {\"colorbar\": {\"outlinewidth\": 0, \"ticks\": \"\"}}, \"type\": \"histogram\"}], \"histogram2d\": [{\"colorbar\": {\"outlinewidth\": 0, \"ticks\": \"\"}, \"colorscale\": [[0.0, \"#0d0887\"], [0.1111111111111111, \"#46039f\"], [0.2222222222222222, \"#7201a8\"], [0.3333333333333333, \"#9c179e\"], [0.4444444444444444, \"#bd3786\"], [0.5555555555555556, \"#d8576b\"], [0.6666666666666666, \"#ed7953\"], [0.7777777777777778, \"#fb9f3a\"], [0.8888888888888888, \"#fdca26\"], [1.0, \"#f0f921\"]], \"type\": \"histogram2d\"}], \"histogram2dcontour\": [{\"colorbar\": {\"outlinewidth\": 0, \"ticks\": \"\"}, \"colorscale\": [[0.0, \"#0d0887\"], [0.1111111111111111, \"#46039f\"], [0.2222222222222222, \"#7201a8\"], [0.3333333333333333, \"#9c179e\"], [0.4444444444444444, \"#bd3786\"], [0.5555555555555556, \"#d8576b\"], [0.6666666666666666, \"#ed7953\"], [0.7777777777777778, \"#fb9f3a\"], [0.8888888888888888, \"#fdca26\"], [1.0, \"#f0f921\"]], \"type\": \"histogram2dcontour\"}], \"mesh3d\": [{\"colorbar\": {\"outlinewidth\": 0, \"ticks\": \"\"}, \"type\": \"mesh3d\"}], \"parcoords\": [{\"line\": {\"colorbar\": {\"outlinewidth\": 0, \"ticks\": \"\"}}, \"type\": \"parcoords\"}], \"pie\": [{\"automargin\": true, \"type\": \"pie\"}], \"scatter\": [{\"marker\": {\"colorbar\": {\"outlinewidth\": 0, \"ticks\": \"\"}}, \"type\": \"scatter\"}], \"scatter3d\": [{\"line\": {\"colorbar\": {\"outlinewidth\": 0, \"ticks\": \"\"}}, \"marker\": {\"colorbar\": {\"outlinewidth\": 0, \"ticks\": \"\"}}, \"type\": \"scatter3d\"}], \"scattercarpet\": [{\"marker\": {\"colorbar\": {\"outlinewidth\": 0, \"ticks\": \"\"}}, \"type\": \"scattercarpet\"}], \"scattergeo\": [{\"marker\": {\"colorbar\": {\"outlinewidth\": 0, \"ticks\": \"\"}}, \"type\": \"scattergeo\"}], \"scattergl\": [{\"marker\": {\"colorbar\": {\"outlinewidth\": 0, \"ticks\": \"\"}}, \"type\": \"scattergl\"}], \"scattermapbox\": [{\"marker\": {\"colorbar\": {\"outlinewidth\": 0, \"ticks\": \"\"}}, \"type\": \"scattermapbox\"}], \"scatterpolar\": [{\"marker\": {\"colorbar\": {\"outlinewidth\": 0, \"ticks\": \"\"}}, \"type\": \"scatterpolar\"}], \"scatterpolargl\": [{\"marker\": {\"colorbar\": {\"outlinewidth\": 0, \"ticks\": \"\"}}, \"type\": \"scatterpolargl\"}], \"scatterternary\": [{\"marker\": {\"colorbar\": {\"outlinewidth\": 0, \"ticks\": \"\"}}, \"type\": \"scatterternary\"}], \"surface\": [{\"colorbar\": {\"outlinewidth\": 0, \"ticks\": \"\"}, \"colorscale\": [[0.0, \"#0d0887\"], [0.1111111111111111, \"#46039f\"], [0.2222222222222222, \"#7201a8\"], [0.3333333333333333, \"#9c179e\"], [0.4444444444444444, \"#bd3786\"], [0.5555555555555556, \"#d8576b\"], [0.6666666666666666, \"#ed7953\"], [0.7777777777777778, \"#fb9f3a\"], [0.8888888888888888, \"#fdca26\"], [1.0, \"#f0f921\"]], \"type\": \"surface\"}], \"table\": [{\"cells\": {\"fill\": {\"color\": \"#EBF0F8\"}, \"line\": {\"color\": \"white\"}}, \"header\": {\"fill\": {\"color\": \"#C8D4E3\"}, \"line\": {\"color\": \"white\"}}, \"type\": \"table\"}]}, \"layout\": {\"annotationdefaults\": {\"arrowcolor\": \"#2a3f5f\", \"arrowhead\": 0, \"arrowwidth\": 1}, \"coloraxis\": {\"colorbar\": {\"outlinewidth\": 0, \"ticks\": \"\"}}, \"colorscale\": {\"diverging\": [[0, \"#8e0152\"], [0.1, \"#c51b7d\"], [0.2, \"#de77ae\"], [0.3, \"#f1b6da\"], [0.4, \"#fde0ef\"], [0.5, \"#f7f7f7\"], [0.6, \"#e6f5d0\"], [0.7, \"#b8e186\"], [0.8, \"#7fbc41\"], [0.9, \"#4d9221\"], [1, \"#276419\"]], \"sequential\": [[0.0, \"#0d0887\"], [0.1111111111111111, \"#46039f\"], [0.2222222222222222, \"#7201a8\"], [0.3333333333333333, \"#9c179e\"], [0.4444444444444444, \"#bd3786\"], [0.5555555555555556, \"#d8576b\"], [0.6666666666666666, \"#ed7953\"], [0.7777777777777778, \"#fb9f3a\"], [0.8888888888888888, \"#fdca26\"], [1.0, \"#f0f921\"]], \"sequentialminus\": [[0.0, \"#0d0887\"], [0.1111111111111111, \"#46039f\"], [0.2222222222222222, \"#7201a8\"], [0.3333333333333333, \"#9c179e\"], [0.4444444444444444, \"#bd3786\"], [0.5555555555555556, \"#d8576b\"], [0.6666666666666666, \"#ed7953\"], [0.7777777777777778, \"#fb9f3a\"], [0.8888888888888888, \"#fdca26\"], [1.0, \"#f0f921\"]]}, \"colorway\": [\"#636efa\", \"#EF553B\", \"#00cc96\", \"#ab63fa\", \"#FFA15A\", \"#19d3f3\", \"#FF6692\", \"#B6E880\", \"#FF97FF\", \"#FECB52\"], \"font\": {\"color\": \"#2a3f5f\"}, \"geo\": {\"bgcolor\": \"white\", \"lakecolor\": \"white\", \"landcolor\": \"#E5ECF6\", \"showlakes\": true, \"showland\": true, \"subunitcolor\": \"white\"}, \"hoverlabel\": {\"align\": \"left\"}, \"hovermode\": \"closest\", \"mapbox\": {\"style\": \"light\"}, \"paper_bgcolor\": \"white\", \"plot_bgcolor\": \"#E5ECF6\", \"polar\": {\"angularaxis\": {\"gridcolor\": \"white\", \"linecolor\": \"white\", \"ticks\": \"\"}, \"bgcolor\": \"#E5ECF6\", \"radialaxis\": {\"gridcolor\": \"white\", \"linecolor\": \"white\", \"ticks\": \"\"}}, \"scene\": {\"xaxis\": {\"backgroundcolor\": \"#E5ECF6\", \"gridcolor\": \"white\", \"gridwidth\": 2, \"linecolor\": \"white\", \"showbackground\": true, \"ticks\": \"\", \"zerolinecolor\": \"white\"}, \"yaxis\": {\"backgroundcolor\": \"#E5ECF6\", \"gridcolor\": \"white\", \"gridwidth\": 2, \"linecolor\": \"white\", \"showbackground\": true, \"ticks\": \"\", \"zerolinecolor\": \"white\"}, \"zaxis\": {\"backgroundcolor\": \"#E5ECF6\", \"gridcolor\": \"white\", \"gridwidth\": 2, \"linecolor\": \"white\", \"showbackground\": true, \"ticks\": \"\", \"zerolinecolor\": \"white\"}}, \"shapedefaults\": {\"line\": {\"color\": \"#2a3f5f\"}}, \"ternary\": {\"aaxis\": {\"gridcolor\": \"white\", \"linecolor\": \"white\", \"ticks\": \"\"}, \"baxis\": {\"gridcolor\": \"white\", \"linecolor\": \"white\", \"ticks\": \"\"}, \"bgcolor\": \"#E5ECF6\", \"caxis\": {\"gridcolor\": \"white\", \"linecolor\": \"white\", \"ticks\": \"\"}}, \"title\": {\"x\": 0.05}, \"xaxis\": {\"automargin\": true, \"gridcolor\": \"white\", \"linecolor\": \"white\", \"ticks\": \"\", \"title\": {\"standoff\": 15}, \"zerolinecolor\": \"white\", \"zerolinewidth\": 2}, \"yaxis\": {\"automargin\": true, \"gridcolor\": \"white\", \"linecolor\": \"white\", \"ticks\": \"\", \"title\": {\"standoff\": 15}, \"zerolinecolor\": \"white\", \"zerolinewidth\": 2}}}, \"title\": {\"text\": \"Deaths by months\"}, \"width\": 800, \"xaxis\": {\"anchor\": \"y\", \"domain\": [0.0, 1.0], \"title\": {\"text\": \"month_year\"}}, \"yaxis\": {\"anchor\": \"x\", \"domain\": [0.0, 1.0], \"title\": {\"text\": \"count\"}}},\n",
              "                        {\"responsive\": true}\n",
              "                    ).then(function(){\n",
              "                            \n",
              "var gd = document.getElementById('31b0e3b7-64b0-4bde-8d22-488644747d0a');\n",
              "var x = new MutationObserver(function (mutations, observer) {{\n",
              "        var display = window.getComputedStyle(gd).display;\n",
              "        if (!display || display === 'none') {{\n",
              "            console.log([gd, 'removed!']);\n",
              "            Plotly.purge(gd);\n",
              "            observer.disconnect();\n",
              "        }}\n",
              "}});\n",
              "\n",
              "// Listen for the removal of the full notebook cells\n",
              "var notebookContainer = gd.closest('#notebook-container');\n",
              "if (notebookContainer) {{\n",
              "    x.observe(notebookContainer, {childList: true});\n",
              "}}\n",
              "\n",
              "// Listen for the clearing of the current output cell\n",
              "var outputEl = gd.closest('.output');\n",
              "if (outputEl) {{\n",
              "    x.observe(outputEl, {childList: true});\n",
              "}}\n",
              "\n",
              "                        })\n",
              "                };\n",
              "                \n",
              "            </script>\n",
              "        </div>\n",
              "</body>\n",
              "</html>"
            ]
          },
          "metadata": {
            "tags": []
          }
        }
      ]
    },
    {
      "cell_type": "code",
      "metadata": {
        "id": "07izmiTkoDCj",
        "colab": {
          "base_uri": "https://localhost:8080/",
          "height": 542
        },
        "outputId": "99a65ba7-60a5-4d3e-ae28-d7b14cc61953"
      },
      "source": [
        "data = df.groupby(['flee'])['name'].count().reset_index()\n",
        "data.columns = ['flee', 'count']\n",
        "fig = px.bar(\n",
        "    data, \n",
        "    x='flee', \n",
        "    y='count', \n",
        "    orientation='v', \n",
        "    title='Flee distribution', \n",
        "    width=600\n",
        ")\n",
        "fig.show()"
      ],
      "execution_count": 50,
      "outputs": [
        {
          "output_type": "display_data",
          "data": {
            "text/html": [
              "<html>\n",
              "<head><meta charset=\"utf-8\" /></head>\n",
              "<body>\n",
              "    <div>\n",
              "            <script src=\"https://cdnjs.cloudflare.com/ajax/libs/mathjax/2.7.5/MathJax.js?config=TeX-AMS-MML_SVG\"></script><script type=\"text/javascript\">if (window.MathJax) {MathJax.Hub.Config({SVG: {font: \"STIX-Web\"}});}</script>\n",
              "                <script type=\"text/javascript\">window.PlotlyConfig = {MathJaxConfig: 'local'};</script>\n",
              "        <script src=\"https://cdn.plot.ly/plotly-latest.min.js\"></script>    \n",
              "            <div id=\"a7a1bbb0-7661-45ee-a64e-512b38bef244\" class=\"plotly-graph-div\" style=\"height:525px; width:600px;\"></div>\n",
              "            <script type=\"text/javascript\">\n",
              "                \n",
              "                    window.PLOTLYENV=window.PLOTLYENV || {};\n",
              "                    \n",
              "                if (document.getElementById(\"a7a1bbb0-7661-45ee-a64e-512b38bef244\")) {\n",
              "                    Plotly.newPlot(\n",
              "                        'a7a1bbb0-7661-45ee-a64e-512b38bef244',\n",
              "                        [{\"alignmentgroup\": \"True\", \"hoverlabel\": {\"namelength\": 0}, \"hovertemplate\": \"flee=%{x}<br>count=%{y}\", \"legendgroup\": \"\", \"marker\": {\"color\": \"#636efa\"}, \"name\": \"\", \"offsetgroup\": \"\", \"orientation\": \"v\", \"showlegend\": false, \"textposition\": \"auto\", \"type\": \"bar\", \"x\": [\"Car\", \"Foot\", \"Not fleeing\", \"Other\"], \"xaxis\": \"x\", \"y\": [820, 642, 3073, 360], \"yaxis\": \"y\"}],\n",
              "                        {\"barmode\": \"relative\", \"legend\": {\"tracegroupgap\": 0}, \"template\": {\"data\": {\"bar\": [{\"error_x\": {\"color\": \"#2a3f5f\"}, \"error_y\": {\"color\": \"#2a3f5f\"}, \"marker\": {\"line\": {\"color\": \"#E5ECF6\", \"width\": 0.5}}, \"type\": \"bar\"}], \"barpolar\": [{\"marker\": {\"line\": {\"color\": \"#E5ECF6\", \"width\": 0.5}}, \"type\": \"barpolar\"}], \"carpet\": [{\"aaxis\": {\"endlinecolor\": \"#2a3f5f\", \"gridcolor\": \"white\", \"linecolor\": \"white\", \"minorgridcolor\": \"white\", \"startlinecolor\": \"#2a3f5f\"}, \"baxis\": {\"endlinecolor\": \"#2a3f5f\", \"gridcolor\": \"white\", \"linecolor\": \"white\", \"minorgridcolor\": \"white\", \"startlinecolor\": \"#2a3f5f\"}, \"type\": \"carpet\"}], \"choropleth\": [{\"colorbar\": {\"outlinewidth\": 0, \"ticks\": \"\"}, \"type\": \"choropleth\"}], \"contour\": [{\"colorbar\": {\"outlinewidth\": 0, \"ticks\": \"\"}, \"colorscale\": [[0.0, \"#0d0887\"], [0.1111111111111111, \"#46039f\"], [0.2222222222222222, \"#7201a8\"], [0.3333333333333333, \"#9c179e\"], [0.4444444444444444, \"#bd3786\"], [0.5555555555555556, \"#d8576b\"], [0.6666666666666666, \"#ed7953\"], [0.7777777777777778, \"#fb9f3a\"], [0.8888888888888888, \"#fdca26\"], [1.0, \"#f0f921\"]], \"type\": \"contour\"}], \"contourcarpet\": [{\"colorbar\": {\"outlinewidth\": 0, \"ticks\": \"\"}, \"type\": \"contourcarpet\"}], \"heatmap\": [{\"colorbar\": {\"outlinewidth\": 0, \"ticks\": \"\"}, \"colorscale\": [[0.0, \"#0d0887\"], [0.1111111111111111, \"#46039f\"], [0.2222222222222222, \"#7201a8\"], [0.3333333333333333, \"#9c179e\"], [0.4444444444444444, \"#bd3786\"], [0.5555555555555556, \"#d8576b\"], [0.6666666666666666, \"#ed7953\"], [0.7777777777777778, \"#fb9f3a\"], [0.8888888888888888, \"#fdca26\"], [1.0, \"#f0f921\"]], \"type\": \"heatmap\"}], \"heatmapgl\": [{\"colorbar\": {\"outlinewidth\": 0, \"ticks\": \"\"}, \"colorscale\": [[0.0, \"#0d0887\"], [0.1111111111111111, \"#46039f\"], [0.2222222222222222, \"#7201a8\"], [0.3333333333333333, \"#9c179e\"], [0.4444444444444444, \"#bd3786\"], [0.5555555555555556, \"#d8576b\"], [0.6666666666666666, \"#ed7953\"], [0.7777777777777778, \"#fb9f3a\"], [0.8888888888888888, \"#fdca26\"], [1.0, \"#f0f921\"]], \"type\": \"heatmapgl\"}], \"histogram\": [{\"marker\": {\"colorbar\": {\"outlinewidth\": 0, \"ticks\": \"\"}}, \"type\": \"histogram\"}], \"histogram2d\": [{\"colorbar\": {\"outlinewidth\": 0, \"ticks\": \"\"}, \"colorscale\": [[0.0, \"#0d0887\"], [0.1111111111111111, \"#46039f\"], [0.2222222222222222, \"#7201a8\"], [0.3333333333333333, \"#9c179e\"], [0.4444444444444444, \"#bd3786\"], [0.5555555555555556, \"#d8576b\"], [0.6666666666666666, \"#ed7953\"], [0.7777777777777778, \"#fb9f3a\"], [0.8888888888888888, \"#fdca26\"], [1.0, \"#f0f921\"]], \"type\": \"histogram2d\"}], \"histogram2dcontour\": [{\"colorbar\": {\"outlinewidth\": 0, \"ticks\": \"\"}, \"colorscale\": [[0.0, \"#0d0887\"], [0.1111111111111111, \"#46039f\"], [0.2222222222222222, \"#7201a8\"], [0.3333333333333333, \"#9c179e\"], [0.4444444444444444, \"#bd3786\"], [0.5555555555555556, \"#d8576b\"], [0.6666666666666666, \"#ed7953\"], [0.7777777777777778, \"#fb9f3a\"], [0.8888888888888888, \"#fdca26\"], [1.0, \"#f0f921\"]], \"type\": \"histogram2dcontour\"}], \"mesh3d\": [{\"colorbar\": {\"outlinewidth\": 0, \"ticks\": \"\"}, \"type\": \"mesh3d\"}], \"parcoords\": [{\"line\": {\"colorbar\": {\"outlinewidth\": 0, \"ticks\": \"\"}}, \"type\": \"parcoords\"}], \"pie\": [{\"automargin\": true, \"type\": \"pie\"}], \"scatter\": [{\"marker\": {\"colorbar\": {\"outlinewidth\": 0, \"ticks\": \"\"}}, \"type\": \"scatter\"}], \"scatter3d\": [{\"line\": {\"colorbar\": {\"outlinewidth\": 0, \"ticks\": \"\"}}, \"marker\": {\"colorbar\": {\"outlinewidth\": 0, \"ticks\": \"\"}}, \"type\": \"scatter3d\"}], \"scattercarpet\": [{\"marker\": {\"colorbar\": {\"outlinewidth\": 0, \"ticks\": \"\"}}, \"type\": \"scattercarpet\"}], \"scattergeo\": [{\"marker\": {\"colorbar\": {\"outlinewidth\": 0, \"ticks\": \"\"}}, \"type\": \"scattergeo\"}], \"scattergl\": [{\"marker\": {\"colorbar\": {\"outlinewidth\": 0, \"ticks\": \"\"}}, \"type\": \"scattergl\"}], \"scattermapbox\": [{\"marker\": {\"colorbar\": {\"outlinewidth\": 0, \"ticks\": \"\"}}, \"type\": \"scattermapbox\"}], \"scatterpolar\": [{\"marker\": {\"colorbar\": {\"outlinewidth\": 0, \"ticks\": \"\"}}, \"type\": \"scatterpolar\"}], \"scatterpolargl\": [{\"marker\": {\"colorbar\": {\"outlinewidth\": 0, \"ticks\": \"\"}}, \"type\": \"scatterpolargl\"}], \"scatterternary\": [{\"marker\": {\"colorbar\": {\"outlinewidth\": 0, \"ticks\": \"\"}}, \"type\": \"scatterternary\"}], \"surface\": [{\"colorbar\": {\"outlinewidth\": 0, \"ticks\": \"\"}, \"colorscale\": [[0.0, \"#0d0887\"], [0.1111111111111111, \"#46039f\"], [0.2222222222222222, \"#7201a8\"], [0.3333333333333333, \"#9c179e\"], [0.4444444444444444, \"#bd3786\"], [0.5555555555555556, \"#d8576b\"], [0.6666666666666666, \"#ed7953\"], [0.7777777777777778, \"#fb9f3a\"], [0.8888888888888888, \"#fdca26\"], [1.0, \"#f0f921\"]], \"type\": \"surface\"}], \"table\": [{\"cells\": {\"fill\": {\"color\": \"#EBF0F8\"}, \"line\": {\"color\": \"white\"}}, \"header\": {\"fill\": {\"color\": \"#C8D4E3\"}, \"line\": {\"color\": \"white\"}}, \"type\": \"table\"}]}, \"layout\": {\"annotationdefaults\": {\"arrowcolor\": \"#2a3f5f\", \"arrowhead\": 0, \"arrowwidth\": 1}, \"coloraxis\": {\"colorbar\": {\"outlinewidth\": 0, \"ticks\": \"\"}}, \"colorscale\": {\"diverging\": [[0, \"#8e0152\"], [0.1, \"#c51b7d\"], [0.2, \"#de77ae\"], [0.3, \"#f1b6da\"], [0.4, \"#fde0ef\"], [0.5, \"#f7f7f7\"], [0.6, \"#e6f5d0\"], [0.7, \"#b8e186\"], [0.8, \"#7fbc41\"], [0.9, \"#4d9221\"], [1, \"#276419\"]], \"sequential\": [[0.0, \"#0d0887\"], [0.1111111111111111, \"#46039f\"], [0.2222222222222222, \"#7201a8\"], [0.3333333333333333, \"#9c179e\"], [0.4444444444444444, \"#bd3786\"], [0.5555555555555556, \"#d8576b\"], [0.6666666666666666, \"#ed7953\"], [0.7777777777777778, \"#fb9f3a\"], [0.8888888888888888, \"#fdca26\"], [1.0, \"#f0f921\"]], \"sequentialminus\": [[0.0, \"#0d0887\"], [0.1111111111111111, \"#46039f\"], [0.2222222222222222, \"#7201a8\"], [0.3333333333333333, \"#9c179e\"], [0.4444444444444444, \"#bd3786\"], [0.5555555555555556, \"#d8576b\"], [0.6666666666666666, \"#ed7953\"], [0.7777777777777778, \"#fb9f3a\"], [0.8888888888888888, \"#fdca26\"], [1.0, \"#f0f921\"]]}, \"colorway\": [\"#636efa\", \"#EF553B\", \"#00cc96\", \"#ab63fa\", \"#FFA15A\", \"#19d3f3\", \"#FF6692\", \"#B6E880\", \"#FF97FF\", \"#FECB52\"], \"font\": {\"color\": \"#2a3f5f\"}, \"geo\": {\"bgcolor\": \"white\", \"lakecolor\": \"white\", \"landcolor\": \"#E5ECF6\", \"showlakes\": true, \"showland\": true, \"subunitcolor\": \"white\"}, \"hoverlabel\": {\"align\": \"left\"}, \"hovermode\": \"closest\", \"mapbox\": {\"style\": \"light\"}, \"paper_bgcolor\": \"white\", \"plot_bgcolor\": \"#E5ECF6\", \"polar\": {\"angularaxis\": {\"gridcolor\": \"white\", \"linecolor\": \"white\", \"ticks\": \"\"}, \"bgcolor\": \"#E5ECF6\", \"radialaxis\": {\"gridcolor\": \"white\", \"linecolor\": \"white\", \"ticks\": \"\"}}, \"scene\": {\"xaxis\": {\"backgroundcolor\": \"#E5ECF6\", \"gridcolor\": \"white\", \"gridwidth\": 2, \"linecolor\": \"white\", \"showbackground\": true, \"ticks\": \"\", \"zerolinecolor\": \"white\"}, \"yaxis\": {\"backgroundcolor\": \"#E5ECF6\", \"gridcolor\": \"white\", \"gridwidth\": 2, \"linecolor\": \"white\", \"showbackground\": true, \"ticks\": \"\", \"zerolinecolor\": \"white\"}, \"zaxis\": {\"backgroundcolor\": \"#E5ECF6\", \"gridcolor\": \"white\", \"gridwidth\": 2, \"linecolor\": \"white\", \"showbackground\": true, \"ticks\": \"\", \"zerolinecolor\": \"white\"}}, \"shapedefaults\": {\"line\": {\"color\": \"#2a3f5f\"}}, \"ternary\": {\"aaxis\": {\"gridcolor\": \"white\", \"linecolor\": \"white\", \"ticks\": \"\"}, \"baxis\": {\"gridcolor\": \"white\", \"linecolor\": \"white\", \"ticks\": \"\"}, \"bgcolor\": \"#E5ECF6\", \"caxis\": {\"gridcolor\": \"white\", \"linecolor\": \"white\", \"ticks\": \"\"}}, \"title\": {\"x\": 0.05}, \"xaxis\": {\"automargin\": true, \"gridcolor\": \"white\", \"linecolor\": \"white\", \"ticks\": \"\", \"title\": {\"standoff\": 15}, \"zerolinecolor\": \"white\", \"zerolinewidth\": 2}, \"yaxis\": {\"automargin\": true, \"gridcolor\": \"white\", \"linecolor\": \"white\", \"ticks\": \"\", \"title\": {\"standoff\": 15}, \"zerolinecolor\": \"white\", \"zerolinewidth\": 2}}}, \"title\": {\"text\": \"Flee distribution\"}, \"width\": 600, \"xaxis\": {\"anchor\": \"y\", \"domain\": [0.0, 1.0], \"title\": {\"text\": \"flee\"}}, \"yaxis\": {\"anchor\": \"x\", \"domain\": [0.0, 1.0], \"title\": {\"text\": \"count\"}}},\n",
              "                        {\"responsive\": true}\n",
              "                    ).then(function(){\n",
              "                            \n",
              "var gd = document.getElementById('a7a1bbb0-7661-45ee-a64e-512b38bef244');\n",
              "var x = new MutationObserver(function (mutations, observer) {{\n",
              "        var display = window.getComputedStyle(gd).display;\n",
              "        if (!display || display === 'none') {{\n",
              "            console.log([gd, 'removed!']);\n",
              "            Plotly.purge(gd);\n",
              "            observer.disconnect();\n",
              "        }}\n",
              "}});\n",
              "\n",
              "// Listen for the removal of the full notebook cells\n",
              "var notebookContainer = gd.closest('#notebook-container');\n",
              "if (notebookContainer) {{\n",
              "    x.observe(notebookContainer, {childList: true});\n",
              "}}\n",
              "\n",
              "// Listen for the clearing of the current output cell\n",
              "var outputEl = gd.closest('.output');\n",
              "if (outputEl) {{\n",
              "    x.observe(outputEl, {childList: true});\n",
              "}}\n",
              "\n",
              "                        })\n",
              "                };\n",
              "                \n",
              "            </script>\n",
              "        </div>\n",
              "</body>\n",
              "</html>"
            ]
          },
          "metadata": {
            "tags": []
          }
        }
      ]
    },
    {
      "cell_type": "markdown",
      "metadata": {
        "id": "I4PzWCWDoU5w"
      },
      "source": [
        "**We will use simple ARIMA model for forecasting**"
      ]
    },
    {
      "cell_type": "code",
      "metadata": {
        "id": "XJJLb3dqoKbY",
        "colab": {
          "base_uri": "https://localhost:8080/",
          "height": 542
        },
        "outputId": "80e7bdc7-4e40-45a3-bf57-5206e8b03309"
      },
      "source": [
        "data = df.groupby(['month_year'])['name'].count().reset_index()\n",
        "data.columns = ['month_year', 'count']\n",
        "data['month_year'] = data['month_year'].astype(str)\n",
        "data = data.head(65)\n",
        "\n",
        "fig = px.line(\n",
        "    data, \n",
        "    x=\"month_year\", \n",
        "    y=\"count\", \n",
        "    title='Deaths month by month'\n",
        ")\n",
        "\n",
        "fig.show()"
      ],
      "execution_count": 51,
      "outputs": [
        {
          "output_type": "display_data",
          "data": {
            "text/html": [
              "<html>\n",
              "<head><meta charset=\"utf-8\" /></head>\n",
              "<body>\n",
              "    <div>\n",
              "            <script src=\"https://cdnjs.cloudflare.com/ajax/libs/mathjax/2.7.5/MathJax.js?config=TeX-AMS-MML_SVG\"></script><script type=\"text/javascript\">if (window.MathJax) {MathJax.Hub.Config({SVG: {font: \"STIX-Web\"}});}</script>\n",
              "                <script type=\"text/javascript\">window.PlotlyConfig = {MathJaxConfig: 'local'};</script>\n",
              "        <script src=\"https://cdn.plot.ly/plotly-latest.min.js\"></script>    \n",
              "            <div id=\"72cae079-de56-478f-9e71-dba3277c580a\" class=\"plotly-graph-div\" style=\"height:525px; width:100%;\"></div>\n",
              "            <script type=\"text/javascript\">\n",
              "                \n",
              "                    window.PLOTLYENV=window.PLOTLYENV || {};\n",
              "                    \n",
              "                if (document.getElementById(\"72cae079-de56-478f-9e71-dba3277c580a\")) {\n",
              "                    Plotly.newPlot(\n",
              "                        '72cae079-de56-478f-9e71-dba3277c580a',\n",
              "                        [{\"hoverlabel\": {\"namelength\": 0}, \"hovertemplate\": \"month_year=%{x}<br>count=%{y}\", \"legendgroup\": \"\", \"line\": {\"color\": \"#636efa\", \"dash\": \"solid\"}, \"mode\": \"lines\", \"name\": \"\", \"showlegend\": false, \"type\": \"scatter\", \"x\": [\"2015-01\", \"2015-02\", \"2015-03\", \"2015-04\", \"2015-05\", \"2015-06\", \"2015-07\", \"2015-08\", \"2015-09\", \"2015-10\", \"2015-11\", \"2015-12\", \"2016-01\", \"2016-02\", \"2016-03\", \"2016-04\", \"2016-05\", \"2016-06\", \"2016-07\", \"2016-08\", \"2016-09\", \"2016-10\", \"2016-11\", \"2016-12\", \"2017-01\", \"2017-02\", \"2017-03\", \"2017-04\", \"2017-05\", \"2017-06\", \"2017-07\", \"2017-08\", \"2017-09\", \"2017-10\", \"2017-11\", \"2017-12\", \"2018-01\", \"2018-02\", \"2018-03\", \"2018-04\", \"2018-05\", \"2018-06\", \"2018-07\", \"2018-08\", \"2018-09\", \"2018-10\", \"2018-11\", \"2018-12\", \"2019-01\", \"2019-02\", \"2019-03\", \"2019-04\", \"2019-05\", \"2019-06\", \"2019-07\", \"2019-08\", \"2019-09\", \"2019-10\", \"2019-11\", \"2019-12\", \"2020-01\", \"2020-02\", \"2020-03\", \"2020-04\", \"2020-05\"], \"xaxis\": \"x\", \"y\": [75, 77, 91, 83, 69, 63, 100, 91, 80, 78, 76, 82, 80, 85, 90, 73, 69, 87, 71, 77, 73, 71, 68, 60, 91, 97, 74, 65, 68, 80, 91, 78, 66, 81, 76, 39, 96, 74, 99, 88, 70, 70, 82, 68, 50, 64, 63, 64, 81, 68, 76, 63, 64, 77, 69, 57, 59, 73, 71, 100, 82, 61, 73, 58, 78], \"yaxis\": \"y\"}],\n",
              "                        {\"legend\": {\"tracegroupgap\": 0}, \"template\": {\"data\": {\"bar\": [{\"error_x\": {\"color\": \"#2a3f5f\"}, \"error_y\": {\"color\": \"#2a3f5f\"}, \"marker\": {\"line\": {\"color\": \"#E5ECF6\", \"width\": 0.5}}, \"type\": \"bar\"}], \"barpolar\": [{\"marker\": {\"line\": {\"color\": \"#E5ECF6\", \"width\": 0.5}}, \"type\": \"barpolar\"}], \"carpet\": [{\"aaxis\": {\"endlinecolor\": \"#2a3f5f\", \"gridcolor\": \"white\", \"linecolor\": \"white\", \"minorgridcolor\": \"white\", \"startlinecolor\": \"#2a3f5f\"}, \"baxis\": {\"endlinecolor\": \"#2a3f5f\", \"gridcolor\": \"white\", \"linecolor\": \"white\", \"minorgridcolor\": \"white\", \"startlinecolor\": \"#2a3f5f\"}, \"type\": \"carpet\"}], \"choropleth\": [{\"colorbar\": {\"outlinewidth\": 0, \"ticks\": \"\"}, \"type\": \"choropleth\"}], \"contour\": [{\"colorbar\": {\"outlinewidth\": 0, \"ticks\": \"\"}, \"colorscale\": [[0.0, \"#0d0887\"], [0.1111111111111111, \"#46039f\"], [0.2222222222222222, \"#7201a8\"], [0.3333333333333333, \"#9c179e\"], [0.4444444444444444, \"#bd3786\"], [0.5555555555555556, \"#d8576b\"], [0.6666666666666666, \"#ed7953\"], [0.7777777777777778, \"#fb9f3a\"], [0.8888888888888888, \"#fdca26\"], [1.0, \"#f0f921\"]], \"type\": \"contour\"}], \"contourcarpet\": [{\"colorbar\": {\"outlinewidth\": 0, \"ticks\": \"\"}, \"type\": \"contourcarpet\"}], \"heatmap\": [{\"colorbar\": {\"outlinewidth\": 0, \"ticks\": \"\"}, \"colorscale\": [[0.0, \"#0d0887\"], [0.1111111111111111, \"#46039f\"], [0.2222222222222222, \"#7201a8\"], [0.3333333333333333, \"#9c179e\"], [0.4444444444444444, \"#bd3786\"], [0.5555555555555556, \"#d8576b\"], [0.6666666666666666, \"#ed7953\"], [0.7777777777777778, \"#fb9f3a\"], [0.8888888888888888, \"#fdca26\"], [1.0, \"#f0f921\"]], \"type\": \"heatmap\"}], \"heatmapgl\": [{\"colorbar\": {\"outlinewidth\": 0, \"ticks\": \"\"}, \"colorscale\": [[0.0, \"#0d0887\"], [0.1111111111111111, \"#46039f\"], [0.2222222222222222, \"#7201a8\"], [0.3333333333333333, \"#9c179e\"], [0.4444444444444444, \"#bd3786\"], [0.5555555555555556, \"#d8576b\"], [0.6666666666666666, \"#ed7953\"], [0.7777777777777778, \"#fb9f3a\"], [0.8888888888888888, \"#fdca26\"], [1.0, \"#f0f921\"]], \"type\": \"heatmapgl\"}], \"histogram\": [{\"marker\": {\"colorbar\": {\"outlinewidth\": 0, \"ticks\": \"\"}}, \"type\": \"histogram\"}], \"histogram2d\": [{\"colorbar\": {\"outlinewidth\": 0, \"ticks\": \"\"}, \"colorscale\": [[0.0, \"#0d0887\"], [0.1111111111111111, \"#46039f\"], [0.2222222222222222, \"#7201a8\"], [0.3333333333333333, \"#9c179e\"], [0.4444444444444444, \"#bd3786\"], [0.5555555555555556, \"#d8576b\"], [0.6666666666666666, \"#ed7953\"], [0.7777777777777778, \"#fb9f3a\"], [0.8888888888888888, \"#fdca26\"], [1.0, \"#f0f921\"]], \"type\": \"histogram2d\"}], \"histogram2dcontour\": [{\"colorbar\": {\"outlinewidth\": 0, \"ticks\": \"\"}, \"colorscale\": [[0.0, \"#0d0887\"], [0.1111111111111111, \"#46039f\"], [0.2222222222222222, \"#7201a8\"], [0.3333333333333333, \"#9c179e\"], [0.4444444444444444, \"#bd3786\"], [0.5555555555555556, \"#d8576b\"], [0.6666666666666666, \"#ed7953\"], [0.7777777777777778, \"#fb9f3a\"], [0.8888888888888888, \"#fdca26\"], [1.0, \"#f0f921\"]], \"type\": \"histogram2dcontour\"}], \"mesh3d\": [{\"colorbar\": {\"outlinewidth\": 0, \"ticks\": \"\"}, \"type\": \"mesh3d\"}], \"parcoords\": [{\"line\": {\"colorbar\": {\"outlinewidth\": 0, \"ticks\": \"\"}}, \"type\": \"parcoords\"}], \"pie\": [{\"automargin\": true, \"type\": \"pie\"}], \"scatter\": [{\"marker\": {\"colorbar\": {\"outlinewidth\": 0, \"ticks\": \"\"}}, \"type\": \"scatter\"}], \"scatter3d\": [{\"line\": {\"colorbar\": {\"outlinewidth\": 0, \"ticks\": \"\"}}, \"marker\": {\"colorbar\": {\"outlinewidth\": 0, \"ticks\": \"\"}}, \"type\": \"scatter3d\"}], \"scattercarpet\": [{\"marker\": {\"colorbar\": {\"outlinewidth\": 0, \"ticks\": \"\"}}, \"type\": \"scattercarpet\"}], \"scattergeo\": [{\"marker\": {\"colorbar\": {\"outlinewidth\": 0, \"ticks\": \"\"}}, \"type\": \"scattergeo\"}], \"scattergl\": [{\"marker\": {\"colorbar\": {\"outlinewidth\": 0, \"ticks\": \"\"}}, \"type\": \"scattergl\"}], \"scattermapbox\": [{\"marker\": {\"colorbar\": {\"outlinewidth\": 0, \"ticks\": \"\"}}, \"type\": \"scattermapbox\"}], \"scatterpolar\": [{\"marker\": {\"colorbar\": {\"outlinewidth\": 0, \"ticks\": \"\"}}, \"type\": \"scatterpolar\"}], \"scatterpolargl\": [{\"marker\": {\"colorbar\": {\"outlinewidth\": 0, \"ticks\": \"\"}}, \"type\": \"scatterpolargl\"}], \"scatterternary\": [{\"marker\": {\"colorbar\": {\"outlinewidth\": 0, \"ticks\": \"\"}}, \"type\": \"scatterternary\"}], \"surface\": [{\"colorbar\": {\"outlinewidth\": 0, \"ticks\": \"\"}, \"colorscale\": [[0.0, \"#0d0887\"], [0.1111111111111111, \"#46039f\"], [0.2222222222222222, \"#7201a8\"], [0.3333333333333333, \"#9c179e\"], [0.4444444444444444, \"#bd3786\"], [0.5555555555555556, \"#d8576b\"], [0.6666666666666666, \"#ed7953\"], [0.7777777777777778, \"#fb9f3a\"], [0.8888888888888888, \"#fdca26\"], [1.0, \"#f0f921\"]], \"type\": \"surface\"}], \"table\": [{\"cells\": {\"fill\": {\"color\": \"#EBF0F8\"}, \"line\": {\"color\": \"white\"}}, \"header\": {\"fill\": {\"color\": \"#C8D4E3\"}, \"line\": {\"color\": \"white\"}}, \"type\": \"table\"}]}, \"layout\": {\"annotationdefaults\": {\"arrowcolor\": \"#2a3f5f\", \"arrowhead\": 0, \"arrowwidth\": 1}, \"coloraxis\": {\"colorbar\": {\"outlinewidth\": 0, \"ticks\": \"\"}}, \"colorscale\": {\"diverging\": [[0, \"#8e0152\"], [0.1, \"#c51b7d\"], [0.2, \"#de77ae\"], [0.3, \"#f1b6da\"], [0.4, \"#fde0ef\"], [0.5, \"#f7f7f7\"], [0.6, \"#e6f5d0\"], [0.7, \"#b8e186\"], [0.8, \"#7fbc41\"], [0.9, \"#4d9221\"], [1, \"#276419\"]], \"sequential\": [[0.0, \"#0d0887\"], [0.1111111111111111, \"#46039f\"], [0.2222222222222222, \"#7201a8\"], [0.3333333333333333, \"#9c179e\"], [0.4444444444444444, \"#bd3786\"], [0.5555555555555556, \"#d8576b\"], [0.6666666666666666, \"#ed7953\"], [0.7777777777777778, \"#fb9f3a\"], [0.8888888888888888, \"#fdca26\"], [1.0, \"#f0f921\"]], \"sequentialminus\": [[0.0, \"#0d0887\"], [0.1111111111111111, \"#46039f\"], [0.2222222222222222, \"#7201a8\"], [0.3333333333333333, \"#9c179e\"], [0.4444444444444444, \"#bd3786\"], [0.5555555555555556, \"#d8576b\"], [0.6666666666666666, \"#ed7953\"], [0.7777777777777778, \"#fb9f3a\"], [0.8888888888888888, \"#fdca26\"], [1.0, \"#f0f921\"]]}, \"colorway\": [\"#636efa\", \"#EF553B\", \"#00cc96\", \"#ab63fa\", \"#FFA15A\", \"#19d3f3\", \"#FF6692\", \"#B6E880\", \"#FF97FF\", \"#FECB52\"], \"font\": {\"color\": \"#2a3f5f\"}, \"geo\": {\"bgcolor\": \"white\", \"lakecolor\": \"white\", \"landcolor\": \"#E5ECF6\", \"showlakes\": true, \"showland\": true, \"subunitcolor\": \"white\"}, \"hoverlabel\": {\"align\": \"left\"}, \"hovermode\": \"closest\", \"mapbox\": {\"style\": \"light\"}, \"paper_bgcolor\": \"white\", \"plot_bgcolor\": \"#E5ECF6\", \"polar\": {\"angularaxis\": {\"gridcolor\": \"white\", \"linecolor\": \"white\", \"ticks\": \"\"}, \"bgcolor\": \"#E5ECF6\", \"radialaxis\": {\"gridcolor\": \"white\", \"linecolor\": \"white\", \"ticks\": \"\"}}, \"scene\": {\"xaxis\": {\"backgroundcolor\": \"#E5ECF6\", \"gridcolor\": \"white\", \"gridwidth\": 2, \"linecolor\": \"white\", \"showbackground\": true, \"ticks\": \"\", \"zerolinecolor\": \"white\"}, \"yaxis\": {\"backgroundcolor\": \"#E5ECF6\", \"gridcolor\": \"white\", \"gridwidth\": 2, \"linecolor\": \"white\", \"showbackground\": true, \"ticks\": \"\", \"zerolinecolor\": \"white\"}, \"zaxis\": {\"backgroundcolor\": \"#E5ECF6\", \"gridcolor\": \"white\", \"gridwidth\": 2, \"linecolor\": \"white\", \"showbackground\": true, \"ticks\": \"\", \"zerolinecolor\": \"white\"}}, \"shapedefaults\": {\"line\": {\"color\": \"#2a3f5f\"}}, \"ternary\": {\"aaxis\": {\"gridcolor\": \"white\", \"linecolor\": \"white\", \"ticks\": \"\"}, \"baxis\": {\"gridcolor\": \"white\", \"linecolor\": \"white\", \"ticks\": \"\"}, \"bgcolor\": \"#E5ECF6\", \"caxis\": {\"gridcolor\": \"white\", \"linecolor\": \"white\", \"ticks\": \"\"}}, \"title\": {\"x\": 0.05}, \"xaxis\": {\"automargin\": true, \"gridcolor\": \"white\", \"linecolor\": \"white\", \"ticks\": \"\", \"title\": {\"standoff\": 15}, \"zerolinecolor\": \"white\", \"zerolinewidth\": 2}, \"yaxis\": {\"automargin\": true, \"gridcolor\": \"white\", \"linecolor\": \"white\", \"ticks\": \"\", \"title\": {\"standoff\": 15}, \"zerolinecolor\": \"white\", \"zerolinewidth\": 2}}}, \"title\": {\"text\": \"Deaths month by month\"}, \"xaxis\": {\"anchor\": \"y\", \"domain\": [0.0, 1.0], \"title\": {\"text\": \"month_year\"}}, \"yaxis\": {\"anchor\": \"x\", \"domain\": [0.0, 1.0], \"title\": {\"text\": \"count\"}}},\n",
              "                        {\"responsive\": true}\n",
              "                    ).then(function(){\n",
              "                            \n",
              "var gd = document.getElementById('72cae079-de56-478f-9e71-dba3277c580a');\n",
              "var x = new MutationObserver(function (mutations, observer) {{\n",
              "        var display = window.getComputedStyle(gd).display;\n",
              "        if (!display || display === 'none') {{\n",
              "            console.log([gd, 'removed!']);\n",
              "            Plotly.purge(gd);\n",
              "            observer.disconnect();\n",
              "        }}\n",
              "}});\n",
              "\n",
              "// Listen for the removal of the full notebook cells\n",
              "var notebookContainer = gd.closest('#notebook-container');\n",
              "if (notebookContainer) {{\n",
              "    x.observe(notebookContainer, {childList: true});\n",
              "}}\n",
              "\n",
              "// Listen for the clearing of the current output cell\n",
              "var outputEl = gd.closest('.output');\n",
              "if (outputEl) {{\n",
              "    x.observe(outputEl, {childList: true});\n",
              "}}\n",
              "\n",
              "                        })\n",
              "                };\n",
              "                \n",
              "            </script>\n",
              "        </div>\n",
              "</body>\n",
              "</html>"
            ]
          },
          "metadata": {
            "tags": []
          }
        }
      ]
    },
    {
      "cell_type": "code",
      "metadata": {
        "id": "kDiZptVVohS1",
        "colab": {
          "base_uri": "https://localhost:8080/"
        },
        "outputId": "4972dfa2-7e02-4431-f697-7a62f386561b"
      },
      "source": [
        "model = ARIMA(data['count'], order=(3,1,1))\n",
        "model_fit = model.fit(disp=0)\n",
        "print(model_fit.summary())"
      ],
      "execution_count": 52,
      "outputs": [
        {
          "output_type": "stream",
          "text": [
            "                             ARIMA Model Results                              \n",
            "==============================================================================\n",
            "Dep. Variable:                D.count   No. Observations:                   64\n",
            "Model:                 ARIMA(3, 1, 1)   Log Likelihood                -248.364\n",
            "Method:                       css-mle   S.D. of innovations             11.309\n",
            "Date:                Thu, 19 Nov 2020   AIC                            508.728\n",
            "Time:                        21:10:32   BIC                            521.681\n",
            "Sample:                             1   HQIC                           513.830\n",
            "                                                                              \n",
            "=================================================================================\n",
            "                    coef    std err          z      P>|z|      [0.025      0.975]\n",
            "---------------------------------------------------------------------------------\n",
            "const            -0.1943      0.063     -3.080      0.003      -0.318      -0.071\n",
            "ar.L1.D.count     0.0427      0.125      0.341      0.734      -0.203       0.288\n",
            "ar.L2.D.count    -0.1492      0.123     -1.213      0.230      -0.390       0.092\n",
            "ar.L3.D.count    -0.1059      0.125     -0.848      0.400      -0.351       0.139\n",
            "ma.L1.D.count    -1.0000      0.044    -22.623      0.000      -1.087      -0.913\n",
            "                                    Roots                                    \n",
            "=============================================================================\n",
            "                  Real          Imaginary           Modulus         Frequency\n",
            "-----------------------------------------------------------------------------\n",
            "AR.1            0.6845           -1.7120j            1.8438           -0.1895\n",
            "AR.2            0.6845           +1.7120j            1.8438            0.1895\n",
            "AR.3           -2.7781           -0.0000j            2.7781           -0.5000\n",
            "MA.1            1.0000           +0.0000j            1.0000            0.0000\n",
            "-----------------------------------------------------------------------------\n"
          ],
          "name": "stdout"
        }
      ]
    },
    {
      "cell_type": "code",
      "metadata": {
        "id": "BvjEaHpVooWD",
        "colab": {
          "base_uri": "https://localhost:8080/",
          "height": 265
        },
        "outputId": "0bbb6b8b-7b11-4855-fccc-96f5f2f24889"
      },
      "source": [
        "model_fit.plot_predict(dynamic=False)\n",
        "plt.show()"
      ],
      "execution_count": 53,
      "outputs": [
        {
          "output_type": "display_data",
          "data": {
            "image/png": "[encoded data removed]",
            "text/plain": [
              "<Figure size 432x288 with 1 Axes>"
            ]
          },
          "metadata": {
            "tags": [],
            "needs_background": "light"
          }
        }
      ]
    },
    {
      "cell_type": "code",
      "metadata": {
        "id": "ebENCF9Zoub1"
      },
      "source": [
        "preds, _, _ = model_fit.forecast(19, alpha=0.05)\n",
        "preds = preds.tolist()\n",
        "preds = [int(item) for item in preds]\n",
        "months = ['2020-06', '2020-07', '2020-08', '2020-09', '2020-10', '2020-11', '2020-12', '2021-01', '2021-02', '2021-03', \n",
        "          '2021-04', '2021-05', '2021-06', '2021-07', '2021-08', '2021-09', '2021-10', '2021-11', '2021-12']\n",
        "\n",
        "new_df = pd.DataFrame()\n",
        "new_df['month_year'] = months\n",
        "new_df['count'] = preds\n",
        "data = pd.concat([data, new_df])"
      ],
      "execution_count": 54,
      "outputs": []
    },
    {
      "cell_type": "code",
      "metadata": {
        "id": "yq1Ou0xTo1NG",
        "colab": {
          "base_uri": "https://localhost:8080/",
          "height": 542
        },
        "outputId": "bb2317aa-9faf-4b2e-a14e-d7fe9d220c41"
      },
      "source": [
        "fig = px.line(\n",
        "    data, \n",
        "    x=\"month_year\", \n",
        "    y=\"count\", \n",
        "    title='Deaths month by month with predictions'\n",
        ")\n",
        "\n",
        "fig.show()\n"
      ],
      "execution_count": 55,
      "outputs": [
        {
          "output_type": "display_data",
          "data": {
            "text/html": [
              "<html>\n",
              "<head><meta charset=\"utf-8\" /></head>\n",
              "<body>\n",
              "    <div>\n",
              "            <script src=\"https://cdnjs.cloudflare.com/ajax/libs/mathjax/2.7.5/MathJax.js?config=TeX-AMS-MML_SVG\"></script><script type=\"text/javascript\">if (window.MathJax) {MathJax.Hub.Config({SVG: {font: \"STIX-Web\"}});}</script>\n",
              "                <script type=\"text/javascript\">window.PlotlyConfig = {MathJaxConfig: 'local'};</script>\n",
              "        <script src=\"https://cdn.plot.ly/plotly-latest.min.js\"></script>    \n",
              "            <div id=\"c1716333-4e11-4e44-9e8b-abe2ffbbc6e1\" class=\"plotly-graph-div\" style=\"height:525px; width:100%;\"></div>\n",
              "            <script type=\"text/javascript\">\n",
              "                \n",
              "                    window.PLOTLYENV=window.PLOTLYENV || {};\n",
              "                    \n",
              "                if (document.getElementById(\"c1716333-4e11-4e44-9e8b-abe2ffbbc6e1\")) {\n",
              "                    Plotly.newPlot(\n",
              "                        'c1716333-4e11-4e44-9e8b-abe2ffbbc6e1',\n",
              "                        [{\"hoverlabel\": {\"namelength\": 0}, \"hovertemplate\": \"month_year=%{x}<br>count=%{y}\", \"legendgroup\": \"\", \"line\": {\"color\": \"#636efa\", \"dash\": \"solid\"}, \"mode\": \"lines\", \"name\": \"\", \"showlegend\": false, \"type\": \"scatter\", \"x\": [\"2015-01\", \"2015-02\", \"2015-03\", \"2015-04\", \"2015-05\", \"2015-06\", \"2015-07\", \"2015-08\", \"2015-09\", \"2015-10\", \"2015-11\", \"2015-12\", \"2016-01\", \"2016-02\", \"2016-03\", \"2016-04\", \"2016-05\", \"2016-06\", \"2016-07\", \"2016-08\", \"2016-09\", \"2016-10\", \"2016-11\", \"2016-12\", \"2017-01\", \"2017-02\", \"2017-03\", \"2017-04\", \"2017-05\", \"2017-06\", \"2017-07\", \"2017-08\", \"2017-09\", \"2017-10\", \"2017-11\", \"2017-12\", \"2018-01\", \"2018-02\", \"2018-03\", \"2018-04\", \"2018-05\", \"2018-06\", \"2018-07\", \"2018-08\", \"2018-09\", \"2018-10\", \"2018-11\", \"2018-12\", \"2019-01\", \"2019-02\", \"2019-03\", \"2019-04\", \"2019-05\", \"2019-06\", \"2019-07\", \"2019-08\", \"2019-09\", \"2019-10\", \"2019-11\", \"2019-12\", \"2020-01\", \"2020-02\", \"2020-03\", \"2020-04\", \"2020-05\", \"2020-06\", \"2020-07\", \"2020-08\", \"2020-09\", \"2020-10\", \"2020-11\", \"2020-12\", \"2021-01\", \"2021-02\", \"2021-03\", \"2021-04\", \"2021-05\", \"2021-06\", \"2021-07\", \"2021-08\", \"2021-09\", \"2021-10\", \"2021-11\", \"2021-12\"], \"xaxis\": \"x\", \"y\": [75, 77, 91, 83, 69, 63, 100, 91, 80, 78, 76, 82, 80, 85, 90, 73, 69, 87, 71, 77, 73, 71, 68, 60, 91, 97, 74, 65, 68, 80, 91, 78, 66, 81, 76, 39, 96, 74, 99, 88, 70, 70, 82, 68, 50, 64, 63, 64, 81, 68, 76, 63, 64, 77, 69, 57, 59, 73, 71, 100, 82, 61, 73, 58, 78, 70, 68, 66, 67, 67, 67, 67, 67, 66, 66, 66, 66, 66, 65, 65, 65, 65, 65, 64], \"yaxis\": \"y\"}],\n",
              "                        {\"legend\": {\"tracegroupgap\": 0}, \"template\": {\"data\": {\"bar\": [{\"error_x\": {\"color\": \"#2a3f5f\"}, \"error_y\": {\"color\": \"#2a3f5f\"}, \"marker\": {\"line\": {\"color\": \"#E5ECF6\", \"width\": 0.5}}, \"type\": \"bar\"}], \"barpolar\": [{\"marker\": {\"line\": {\"color\": \"#E5ECF6\", \"width\": 0.5}}, \"type\": \"barpolar\"}], \"carpet\": [{\"aaxis\": {\"endlinecolor\": \"#2a3f5f\", \"gridcolor\": \"white\", \"linecolor\": \"white\", \"minorgridcolor\": \"white\", \"startlinecolor\": \"#2a3f5f\"}, \"baxis\": {\"endlinecolor\": \"#2a3f5f\", \"gridcolor\": \"white\", \"linecolor\": \"white\", \"minorgridcolor\": \"white\", \"startlinecolor\": \"#2a3f5f\"}, \"type\": \"carpet\"}], \"choropleth\": [{\"colorbar\": {\"outlinewidth\": 0, \"ticks\": \"\"}, \"type\": \"choropleth\"}], \"contour\": [{\"colorbar\": {\"outlinewidth\": 0, \"ticks\": \"\"}, \"colorscale\": [[0.0, \"#0d0887\"], [0.1111111111111111, \"#46039f\"], [0.2222222222222222, \"#7201a8\"], [0.3333333333333333, \"#9c179e\"], [0.4444444444444444, \"#bd3786\"], [0.5555555555555556, \"#d8576b\"], [0.6666666666666666, \"#ed7953\"], [0.7777777777777778, \"#fb9f3a\"], [0.8888888888888888, \"#fdca26\"], [1.0, \"#f0f921\"]], \"type\": \"contour\"}], \"contourcarpet\": [{\"colorbar\": {\"outlinewidth\": 0, \"ticks\": \"\"}, \"type\": \"contourcarpet\"}], \"heatmap\": [{\"colorbar\": {\"outlinewidth\": 0, \"ticks\": \"\"}, \"colorscale\": [[0.0, \"#0d0887\"], [0.1111111111111111, \"#46039f\"], [0.2222222222222222, \"#7201a8\"], [0.3333333333333333, \"#9c179e\"], [0.4444444444444444, \"#bd3786\"], [0.5555555555555556, \"#d8576b\"], [0.6666666666666666, \"#ed7953\"], [0.7777777777777778, \"#fb9f3a\"], [0.8888888888888888, \"#fdca26\"], [1.0, \"#f0f921\"]], \"type\": \"heatmap\"}], \"heatmapgl\": [{\"colorbar\": {\"outlinewidth\": 0, \"ticks\": \"\"}, \"colorscale\": [[0.0, \"#0d0887\"], [0.1111111111111111, \"#46039f\"], [0.2222222222222222, \"#7201a8\"], [0.3333333333333333, \"#9c179e\"], [0.4444444444444444, \"#bd3786\"], [0.5555555555555556, \"#d8576b\"], [0.6666666666666666, \"#ed7953\"], [0.7777777777777778, \"#fb9f3a\"], [0.8888888888888888, \"#fdca26\"], [1.0, \"#f0f921\"]], \"type\": \"heatmapgl\"}], \"histogram\": [{\"marker\": {\"colorbar\": {\"outlinewidth\": 0, \"ticks\": \"\"}}, \"type\": \"histogram\"}], \"histogram2d\": [{\"colorbar\": {\"outlinewidth\": 0, \"ticks\": \"\"}, \"colorscale\": [[0.0, \"#0d0887\"], [0.1111111111111111, \"#46039f\"], [0.2222222222222222, \"#7201a8\"], [0.3333333333333333, \"#9c179e\"], [0.4444444444444444, \"#bd3786\"], [0.5555555555555556, \"#d8576b\"], [0.6666666666666666, \"#ed7953\"], [0.7777777777777778, \"#fb9f3a\"], [0.8888888888888888, \"#fdca26\"], [1.0, \"#f0f921\"]], \"type\": \"histogram2d\"}], \"histogram2dcontour\": [{\"colorbar\": {\"outlinewidth\": 0, \"ticks\": \"\"}, \"colorscale\": [[0.0, \"#0d0887\"], [0.1111111111111111, \"#46039f\"], [0.2222222222222222, \"#7201a8\"], [0.3333333333333333, \"#9c179e\"], [0.4444444444444444, \"#bd3786\"], [0.5555555555555556, \"#d8576b\"], [0.6666666666666666, \"#ed7953\"], [0.7777777777777778, \"#fb9f3a\"], [0.8888888888888888, \"#fdca26\"], [1.0, \"#f0f921\"]], \"type\": \"histogram2dcontour\"}], \"mesh3d\": [{\"colorbar\": {\"outlinewidth\": 0, \"ticks\": \"\"}, \"type\": \"mesh3d\"}], \"parcoords\": [{\"line\": {\"colorbar\": {\"outlinewidth\": 0, \"ticks\": \"\"}}, \"type\": \"parcoords\"}], \"pie\": [{\"automargin\": true, \"type\": \"pie\"}], \"scatter\": [{\"marker\": {\"colorbar\": {\"outlinewidth\": 0, \"ticks\": \"\"}}, \"type\": \"scatter\"}], \"scatter3d\": [{\"line\": {\"colorbar\": {\"outlinewidth\": 0, \"ticks\": \"\"}}, \"marker\": {\"colorbar\": {\"outlinewidth\": 0, \"ticks\": \"\"}}, \"type\": \"scatter3d\"}], \"scattercarpet\": [{\"marker\": {\"colorbar\": {\"outlinewidth\": 0, \"ticks\": \"\"}}, \"type\": \"scattercarpet\"}], \"scattergeo\": [{\"marker\": {\"colorbar\": {\"outlinewidth\": 0, \"ticks\": \"\"}}, \"type\": \"scattergeo\"}], \"scattergl\": [{\"marker\": {\"colorbar\": {\"outlinewidth\": 0, \"ticks\": \"\"}}, \"type\": \"scattergl\"}], \"scattermapbox\": [{\"marker\": {\"colorbar\": {\"outlinewidth\": 0, \"ticks\": \"\"}}, \"type\": \"scattermapbox\"}], \"scatterpolar\": [{\"marker\": {\"colorbar\": {\"outlinewidth\": 0, \"ticks\": \"\"}}, \"type\": \"scatterpolar\"}], \"scatterpolargl\": [{\"marker\": {\"colorbar\": {\"outlinewidth\": 0, \"ticks\": \"\"}}, \"type\": \"scatterpolargl\"}], \"scatterternary\": [{\"marker\": {\"colorbar\": {\"outlinewidth\": 0, \"ticks\": \"\"}}, \"type\": \"scatterternary\"}], \"surface\": [{\"colorbar\": {\"outlinewidth\": 0, \"ticks\": \"\"}, \"colorscale\": [[0.0, \"#0d0887\"], [0.1111111111111111, \"#46039f\"], [0.2222222222222222, \"#7201a8\"], [0.3333333333333333, \"#9c179e\"], [0.4444444444444444, \"#bd3786\"], [0.5555555555555556, \"#d8576b\"], [0.6666666666666666, \"#ed7953\"], [0.7777777777777778, \"#fb9f3a\"], [0.8888888888888888, \"#fdca26\"], [1.0, \"#f0f921\"]], \"type\": \"surface\"}], \"table\": [{\"cells\": {\"fill\": {\"color\": \"#EBF0F8\"}, \"line\": {\"color\": \"white\"}}, \"header\": {\"fill\": {\"color\": \"#C8D4E3\"}, \"line\": {\"color\": \"white\"}}, \"type\": \"table\"}]}, \"layout\": {\"annotationdefaults\": {\"arrowcolor\": \"#2a3f5f\", \"arrowhead\": 0, \"arrowwidth\": 1}, \"coloraxis\": {\"colorbar\": {\"outlinewidth\": 0, \"ticks\": \"\"}}, \"colorscale\": {\"diverging\": [[0, \"#8e0152\"], [0.1, \"#c51b7d\"], [0.2, \"#de77ae\"], [0.3, \"#f1b6da\"], [0.4, \"#fde0ef\"], [0.5, \"#f7f7f7\"], [0.6, \"#e6f5d0\"], [0.7, \"#b8e186\"], [0.8, \"#7fbc41\"], [0.9, \"#4d9221\"], [1, \"#276419\"]], \"sequential\": [[0.0, \"#0d0887\"], [0.1111111111111111, \"#46039f\"], [0.2222222222222222, \"#7201a8\"], [0.3333333333333333, \"#9c179e\"], [0.4444444444444444, \"#bd3786\"], [0.5555555555555556, \"#d8576b\"], [0.6666666666666666, \"#ed7953\"], [0.7777777777777778, \"#fb9f3a\"], [0.8888888888888888, \"#fdca26\"], [1.0, \"#f0f921\"]], \"sequentialminus\": [[0.0, \"#0d0887\"], [0.1111111111111111, \"#46039f\"], [0.2222222222222222, \"#7201a8\"], [0.3333333333333333, \"#9c179e\"], [0.4444444444444444, \"#bd3786\"], [0.5555555555555556, \"#d8576b\"], [0.6666666666666666, \"#ed7953\"], [0.7777777777777778, \"#fb9f3a\"], [0.8888888888888888, \"#fdca26\"], [1.0, \"#f0f921\"]]}, \"colorway\": [\"#636efa\", \"#EF553B\", \"#00cc96\", \"#ab63fa\", \"#FFA15A\", \"#19d3f3\", \"#FF6692\", \"#B6E880\", \"#FF97FF\", \"#FECB52\"], \"font\": {\"color\": \"#2a3f5f\"}, \"geo\": {\"bgcolor\": \"white\", \"lakecolor\": \"white\", \"landcolor\": \"#E5ECF6\", \"showlakes\": true, \"showland\": true, \"subunitcolor\": \"white\"}, \"hoverlabel\": {\"align\": \"left\"}, \"hovermode\": \"closest\", \"mapbox\": {\"style\": \"light\"}, \"paper_bgcolor\": \"white\", \"plot_bgcolor\": \"#E5ECF6\", \"polar\": {\"angularaxis\": {\"gridcolor\": \"white\", \"linecolor\": \"white\", \"ticks\": \"\"}, \"bgcolor\": \"#E5ECF6\", \"radialaxis\": {\"gridcolor\": \"white\", \"linecolor\": \"white\", \"ticks\": \"\"}}, \"scene\": {\"xaxis\": {\"backgroundcolor\": \"#E5ECF6\", \"gridcolor\": \"white\", \"gridwidth\": 2, \"linecolor\": \"white\", \"showbackground\": true, \"ticks\": \"\", \"zerolinecolor\": \"white\"}, \"yaxis\": {\"backgroundcolor\": \"#E5ECF6\", \"gridcolor\": \"white\", \"gridwidth\": 2, \"linecolor\": \"white\", \"showbackground\": true, \"ticks\": \"\", \"zerolinecolor\": \"white\"}, \"zaxis\": {\"backgroundcolor\": \"#E5ECF6\", \"gridcolor\": \"white\", \"gridwidth\": 2, \"linecolor\": \"white\", \"showbackground\": true, \"ticks\": \"\", \"zerolinecolor\": \"white\"}}, \"shapedefaults\": {\"line\": {\"color\": \"#2a3f5f\"}}, \"ternary\": {\"aaxis\": {\"gridcolor\": \"white\", \"linecolor\": \"white\", \"ticks\": \"\"}, \"baxis\": {\"gridcolor\": \"white\", \"linecolor\": \"white\", \"ticks\": \"\"}, \"bgcolor\": \"#E5ECF6\", \"caxis\": {\"gridcolor\": \"white\", \"linecolor\": \"white\", \"ticks\": \"\"}}, \"title\": {\"x\": 0.05}, \"xaxis\": {\"automargin\": true, \"gridcolor\": \"white\", \"linecolor\": \"white\", \"ticks\": \"\", \"title\": {\"standoff\": 15}, \"zerolinecolor\": \"white\", \"zerolinewidth\": 2}, \"yaxis\": {\"automargin\": true, \"gridcolor\": \"white\", \"linecolor\": \"white\", \"ticks\": \"\", \"title\": {\"standoff\": 15}, \"zerolinecolor\": \"white\", \"zerolinewidth\": 2}}}, \"title\": {\"text\": \"Deaths month by month with predictions\"}, \"xaxis\": {\"anchor\": \"y\", \"domain\": [0.0, 1.0], \"title\": {\"text\": \"month_year\"}}, \"yaxis\": {\"anchor\": \"x\", \"domain\": [0.0, 1.0], \"title\": {\"text\": \"count\"}}},\n",
              "                        {\"responsive\": true}\n",
              "                    ).then(function(){\n",
              "                            \n",
              "var gd = document.getElementById('c1716333-4e11-4e44-9e8b-abe2ffbbc6e1');\n",
              "var x = new MutationObserver(function (mutations, observer) {{\n",
              "        var display = window.getComputedStyle(gd).display;\n",
              "        if (!display || display === 'none') {{\n",
              "            console.log([gd, 'removed!']);\n",
              "            Plotly.purge(gd);\n",
              "            observer.disconnect();\n",
              "        }}\n",
              "}});\n",
              "\n",
              "// Listen for the removal of the full notebook cells\n",
              "var notebookContainer = gd.closest('#notebook-container');\n",
              "if (notebookContainer) {{\n",
              "    x.observe(notebookContainer, {childList: true});\n",
              "}}\n",
              "\n",
              "// Listen for the clearing of the current output cell\n",
              "var outputEl = gd.closest('.output');\n",
              "if (outputEl) {{\n",
              "    x.observe(outputEl, {childList: true});\n",
              "}}\n",
              "\n",
              "                        })\n",
              "                };\n",
              "                \n",
              "            </script>\n",
              "        </div>\n",
              "</body>\n",
              "</html>"
            ]
          },
          "metadata": {
            "tags": []
          }
        }
      ]
    },
    {
      "cell_type": "code",
      "metadata": {
        "id": "_Oc21OgnT5VG"
      },
      "source": [
        ""
      ],
      "execution_count": 55,
      "outputs": []
    }
  ]
}